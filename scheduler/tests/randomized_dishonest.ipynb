{
 "cells": [
  {
   "cell_type": "code",
   "execution_count": 1,
   "metadata": {},
   "outputs": [],
   "source": [
    "import sys; sys.path.append(\"..\")\n",
    "from policies import max_min_fairness, max_min_fairness_strategy_proof\n",
    "import utils\n",
    "\n",
    "from strategy_proofness_tests import test_strategy_proofness\n",
    "import copy\n",
    "import random\n",
    "import time\n",
    "\n",
    "import numpy as np\n",
    "np.set_printoptions(precision=3, suppress=True)"
   ]
  },
  {
   "cell_type": "code",
   "execution_count": 2,
   "metadata": {},
   "outputs": [],
   "source": [
    "from matplotlib import pyplot as plt\n",
    "import matplotlib; matplotlib.font_manager._rebuild()\n",
    "from matplotlib.backends.backend_pdf import PdfPages\n",
    "import matplotlib.lines as mlines\n",
    "import matplotlib.patches as mpatches\n",
    "from matplotlib.ticker import MultipleLocator\n",
    "import seaborn as sns\n",
    "from matplotlib import rc\n",
    "sns.set_style('ticks')\n",
    "font = {\n",
    "    'font.family':'Roboto',\n",
    "    'font.size': 12,\n",
    "}\n",
    "sns.set_style(font)\n",
    "paper_rc = {\n",
    "    'lines.linewidth': 3,\n",
    "    'lines.markersize': 10,\n",
    "}\n",
    "sns.set_context(\"paper\", font_scale=2, rc=paper_rc)\n",
    "current_palette = sns.color_palette()"
   ]
  },
  {
   "cell_type": "markdown",
   "metadata": {},
   "source": [
    "## Examples of vanilla policy violating strategy-proofness"
   ]
  },
  {
   "cell_type": "code",
   "execution_count": 3,
   "metadata": {},
   "outputs": [],
   "source": [
    "def print_allocation_analysis(honest_throughputs, dishonest_throughputs,\n",
    "                              strategy_proof_allocations, non_strategy_proof_allocations):\n",
    "    print(\"=\" * 100)\n",
    "    print(\"Honest throughputs:\", np.array(honest_throughputs))\n",
    "    print(\"Dishonest throughputs:\", np.array(dishonest_throughputs))\n",
    "    print(\"-\" * 100)\n",
    "\n",
    "    for allocations, allocation_str in zip(\n",
    "        [strategy_proof_allocations, non_strategy_proof_allocations],\n",
    "        [\"Strategy-proof\", \"Not strategy-proof\"]):\n",
    "        for allocation, throughput_str in zip(allocations,\n",
    "                                              [\"Honest throughputs\", \"Dishonest throughputs\"]):\n",
    "\n",
    "            print(\"%s (%s)\\n\" % (allocation_str, throughput_str))\n",
    "            effective_throughputs = np.sum(np.multiply(np.array(honest_throughputs), allocation),\n",
    "                                           axis=1)\n",
    "            print(\"Allocation:\", allocation)\n",
    "            print(\"Effective throughputs:\", effective_throughputs)\n",
    "            print(\"-\" * 100)"
   ]
  },
  {
   "cell_type": "code",
   "execution_count": 4,
   "metadata": {},
   "outputs": [],
   "source": [
    "def harness(honest_throughputs, dishonest_throughputs,\n",
    "            worker_types, cluster_spec):  \n",
    "    strategy_proof_allocations = []\n",
    "    non_strategy_proof_allocations = []\n",
    "    for (throughputs, experiment_string) in zip(\n",
    "        [honest_throughputs, dishonest_throughputs],\n",
    "        [\"Allocation computed using true throughputs\",\n",
    "         \"Allocation computed using dishonest throughputs\"]):\n",
    "\n",
    "        throughputs = np.array(throughputs)\n",
    "        unflattened_throughputs = {\n",
    "            i: {worker_types[j]: throughputs[i][j] for j in range(len(worker_types))}\n",
    "            for i in range(len(throughputs))\n",
    "        }\n",
    "        unflattened_strategy_proof_allocation, discount_factors, \\\n",
    "            unflattened_non_strategy_proof_allocation, _, _ = \\\n",
    "                test_strategy_proofness(unflattened_throughputs, cluster_spec, verbose=False)\n",
    "        strategy_proof_allocation = np.zeros((len(throughputs), len(cluster_spec)))\n",
    "        non_strategy_proof_allocation = np.zeros((len(throughputs), len(cluster_spec)))\n",
    "        for i in range(len(throughputs)):\n",
    "            for j in range(len(worker_types)):\n",
    "                strategy_proof_allocation[i][j] = \\\n",
    "                    unflattened_strategy_proof_allocation[i][worker_types[j]]\n",
    "                non_strategy_proof_allocation[i][j] = \\\n",
    "                    unflattened_non_strategy_proof_allocation[i][worker_types[j]]\n",
    "\n",
    "        strategy_proof_allocations.append(strategy_proof_allocation)\n",
    "        non_strategy_proof_allocations.append(non_strategy_proof_allocation)\n",
    "\n",
    "    effective_throughputs_honest_and_non_strategy_proof_allocation = \\\n",
    "        np.sum(np.multiply(honest_throughputs,\n",
    "                           non_strategy_proof_allocations[0]), axis=1)\n",
    "    effective_throughputs_dishonest_and_non_strategy_proof_allocation = \\\n",
    "        np.sum(np.multiply(honest_throughputs,\n",
    "                           non_strategy_proof_allocations[1]), axis=1)\n",
    "    effective_throughputs_honest_and_strategy_proof_allocation = \\\n",
    "        np.sum(np.multiply(honest_throughputs,\n",
    "                           strategy_proof_allocations[0]), axis=1)\n",
    "    effective_throughputs_dishonest_and_strategy_proof_allocation = \\\n",
    "        np.sum(np.multiply(honest_throughputs,\n",
    "                           strategy_proof_allocations[1]), axis=1)\n",
    "\n",
    "    if (effective_throughputs_honest_and_strategy_proof_allocation[0] /\n",
    "           effective_throughputs_dishonest_and_strategy_proof_allocation[0] < 0.99):\n",
    "        print(\"WARNING: Strategy-proof allocation is not actually strategy-proof!\")\n",
    "        print_allocation_analysis(honest_throughputs, dishonest_throughputs,\n",
    "                                  strategy_proof_allocations, non_strategy_proof_allocations)\n",
    "        return\n",
    "\n",
    "    if (effective_throughputs_honest_and_non_strategy_proof_allocation[0] >=\n",
    "        effective_throughputs_dishonest_and_non_strategy_proof_allocation[0]):\n",
    "        return\n",
    "\n",
    "    print(\"SUCCESS: Strategy-proof allocation is actually strategy-proof!\")\n",
    "    print_allocation_analysis(honest_throughputs, dishonest_throughputs,\n",
    "                              strategy_proof_allocations, non_strategy_proof_allocations)"
   ]
  },
  {
   "cell_type": "code",
   "execution_count": 5,
   "metadata": {
    "scrolled": false
   },
   "outputs": [
    {
     "name": "stdout",
     "output_type": "stream",
     "text": [
      "SUCCESS: Strategy-proof allocation is actually strategy-proof!\n",
      "====================================================================================================\n",
      "Honest throughputs: [[0.65  0.199 0.027]\n",
      " [0.589 0.545 0.22 ]\n",
      " [0.809 0.806 0.006]]\n",
      "Dishonest throughputs: [[0.698 0.34  0.155]\n",
      " [0.589 0.545 0.22 ]\n",
      " [0.809 0.806 0.006]]\n",
      "----------------------------------------------------------------------------------------------------\n",
      "Strategy-proof (Honest throughputs)\n",
      "\n",
      "Allocation: [[0.401 0.    0.1  ]\n",
      " [0.154 0.039 0.575]\n",
      " [0.    0.437 0.023]]\n",
      "Effective throughputs: [0.263 0.238 0.353]\n",
      "----------------------------------------------------------------------------------------------------\n",
      "Strategy-proof (Dishonest throughputs)\n",
      "\n",
      "Allocation: [[0.387 0.    0.203]\n",
      " [0.252 0.    0.48 ]\n",
      " [0.    0.467 0.   ]]\n",
      "Effective throughputs: [0.257 0.254 0.376]\n",
      "----------------------------------------------------------------------------------------------------\n",
      "Not strategy-proof (Honest throughputs)\n",
      "\n",
      "Allocation: [[0.475 0.    0.525]\n",
      " [0.525 0.261 0.214]\n",
      " [0.    0.739 0.261]]\n",
      "Effective throughputs: [0.322 0.499 0.597]\n",
      "----------------------------------------------------------------------------------------------------\n",
      "Not strategy-proof (Dishonest throughputs)\n",
      "\n",
      "Allocation: [[0.51  0.    0.49 ]\n",
      " [0.49  0.274 0.236]\n",
      " [0.    0.726 0.274]]\n",
      "Effective throughputs: [0.344 0.49  0.587]\n",
      "----------------------------------------------------------------------------------------------------\n"
     ]
    }
   ],
   "source": [
    "random.seed(42)\n",
    "worker_types = ['v100', 'p100', 'k80']\n",
    "cluster_spec = {'v100': 1, 'p100': 1, 'k80': 1}\n",
    "\n",
    "for i in range(10):\n",
    "    # throughputs specified in the above order.\n",
    "    honest_throughputs = []\n",
    "    for j in range(3):\n",
    "        honest_throughputs.append(sorted([random.random(), random.random(), random.random()],\n",
    "                                         reverse=True))\n",
    "    dishonest_throughputs = copy.copy(honest_throughputs)\n",
    "    dishonest_throughputs[0] = [random.random(), random.random(), random.random()]\n",
    "\n",
    "    harness(honest_throughputs, dishonest_throughputs,\n",
    "            worker_types, cluster_spec)"
   ]
  },
  {
   "cell_type": "code",
   "execution_count": 6,
   "metadata": {},
   "outputs": [
    {
     "name": "stdout",
     "output_type": "stream",
     "text": [
      "SUCCESS: Strategy-proof allocation is actually strategy-proof!\n",
      "====================================================================================================\n",
      "Honest throughputs: [[3 1 1]\n",
      " [3 2 1]\n",
      " [3 2 1]]\n",
      "Dishonest throughputs: [[3.  1.1 1. ]\n",
      " [3.  2.  1. ]\n",
      " [3.  2.  1. ]]\n",
      "----------------------------------------------------------------------------------------------------\n",
      "Strategy-proof (Honest throughputs)\n",
      "\n",
      "Allocation: [[0.32  0.    0.32 ]\n",
      " [0.164 0.339 0.164]\n",
      " [0.169 0.328 0.169]]\n",
      "Effective throughputs: [1.28  1.333 1.333]\n",
      "----------------------------------------------------------------------------------------------------\n",
      "Strategy-proof (Dishonest throughputs)\n",
      "\n",
      "Allocation: [[0.32  0.    0.32 ]\n",
      " [0.163 0.34  0.163]\n",
      " [0.17  0.327 0.17 ]]\n",
      "Effective throughputs: [1.28  1.333 1.333]\n",
      "----------------------------------------------------------------------------------------------------\n",
      "Not strategy-proof (Honest throughputs)\n",
      "\n",
      "Allocation: [[0.382 0.    0.618]\n",
      " [0.309 0.5   0.191]\n",
      " [0.309 0.5   0.191]]\n",
      "Effective throughputs: [1.765 2.118 2.118]\n",
      "----------------------------------------------------------------------------------------------------\n",
      "Not strategy-proof (Dishonest throughputs)\n",
      "\n",
      "Allocation: [[0.395 0.    0.605]\n",
      " [0.303 0.5   0.197]\n",
      " [0.303 0.5   0.197]]\n",
      "Effective throughputs: [1.789 2.105 2.105]\n",
      "----------------------------------------------------------------------------------------------------\n"
     ]
    }
   ],
   "source": [
    "# Case: job 1 slower on one resource than everyone else.\n",
    "# Lying about having higher throughput on that resource\n",
    "# will give higher ET with non-SP allocation.\n",
    "honest_throughputs = [[3, 1, 1],\n",
    "                      [3, 2, 1],\n",
    "                      [3, 2, 1]]\n",
    "dishonest_throughputs = [[3, 1.1, 1],\n",
    "                         [3, 2, 1],\n",
    "                         [3, 2, 1]]\n",
    "harness(honest_throughputs, dishonest_throughputs,\n",
    "        worker_types, cluster_spec)"
   ]
  },
  {
   "cell_type": "code",
   "execution_count": 7,
   "metadata": {},
   "outputs": [
    {
     "name": "stdout",
     "output_type": "stream",
     "text": [
      "SUCCESS: Strategy-proof allocation is actually strategy-proof!\n",
      "====================================================================================================\n",
      "Honest throughputs: [[3.  2.  0.9]\n",
      " [3.  2.  1.1]\n",
      " [3.  2.  1.1]]\n",
      "Dishonest throughputs: [[3.  2.  1. ]\n",
      " [3.  2.  1.1]\n",
      " [3.  2.  1.1]]\n",
      "----------------------------------------------------------------------------------------------------\n",
      "Strategy-proof (Honest throughputs)\n",
      "\n",
      "Allocation: [[0.022 0.639 0.   ]\n",
      " [0.32  0.01  0.331]\n",
      " [0.319 0.012 0.33 ]]\n",
      "Effective throughputs: [1.345 1.345 1.345]\n",
      "----------------------------------------------------------------------------------------------------\n",
      "Strategy-proof (Dishonest throughputs)\n",
      "\n",
      "Allocation: [[0.022 0.639 0.   ]\n",
      " [0.32  0.011 0.331]\n",
      " [0.32  0.011 0.331]]\n",
      "Effective throughputs: [1.345 1.345 1.345]\n",
      "----------------------------------------------------------------------------------------------------\n",
      "Not strategy-proof (Honest throughputs)\n",
      "\n",
      "Allocation: [[0.    0.989 0.011]\n",
      " [0.5   0.006 0.494]\n",
      " [0.5   0.006 0.494]]\n",
      "Effective throughputs: [1.988 2.055 2.055]\n",
      "----------------------------------------------------------------------------------------------------\n",
      "Not strategy-proof (Dishonest throughputs)\n",
      "\n",
      "Allocation: [[0.011 0.989 0.   ]\n",
      " [0.495 0.005 0.5  ]\n",
      " [0.495 0.005 0.5  ]]\n",
      "Effective throughputs: [2.011 2.045 2.045]\n",
      "----------------------------------------------------------------------------------------------------\n"
     ]
    }
   ],
   "source": [
    "honest_throughputs = [[3, 2, 0.9],\n",
    "                      [3, 2, 1.1],\n",
    "                      [3, 2, 1.1]]\n",
    "dishonest_throughputs = [[3, 2, 1],\n",
    "                         [3, 2, 1.1],\n",
    "                         [3, 2, 1.1]]\n",
    "harness(honest_throughputs, dishonest_throughputs,\n",
    "        worker_types, cluster_spec)"
   ]
  },
  {
   "cell_type": "code",
   "execution_count": 8,
   "metadata": {},
   "outputs": [
    {
     "name": "stdout",
     "output_type": "stream",
     "text": [
      "SUCCESS: Strategy-proof allocation is actually strategy-proof!\n",
      "====================================================================================================\n",
      "Honest throughputs: [[2.5 2.  1. ]\n",
      " [3.  2.  1. ]\n",
      " [3.  2.  1. ]]\n",
      "Dishonest throughputs: [[2.6 2.  1. ]\n",
      " [3.  2.  1. ]\n",
      " [3.  2.  1. ]]\n",
      "----------------------------------------------------------------------------------------------------\n",
      "Strategy-proof (Honest throughputs)\n",
      "\n",
      "Allocation: [[0.    0.64  0.   ]\n",
      " [0.333 0.    0.333]\n",
      " [0.333 0.    0.333]]\n",
      "Effective throughputs: [1.28  1.333 1.333]\n",
      "----------------------------------------------------------------------------------------------------\n",
      "Strategy-proof (Dishonest throughputs)\n",
      "\n",
      "Allocation: [[0.    0.64  0.   ]\n",
      " [0.333 0.    0.333]\n",
      " [0.333 0.    0.333]]\n",
      "Effective throughputs: [1.28  1.333 1.333]\n",
      "----------------------------------------------------------------------------------------------------\n",
      "Not strategy-proof (Honest throughputs)\n",
      "\n",
      "Allocation: [[0.    0.886 0.114]\n",
      " [0.5   0.057 0.443]\n",
      " [0.5   0.057 0.443]]\n",
      "Effective throughputs: [1.886 2.057 2.057]\n",
      "----------------------------------------------------------------------------------------------------\n",
      "Not strategy-proof (Dishonest throughputs)\n",
      "\n",
      "Allocation: [[0.    0.909 0.091]\n",
      " [0.5   0.045 0.455]\n",
      " [0.5   0.045 0.455]]\n",
      "Effective throughputs: [1.909 2.045 2.045]\n",
      "----------------------------------------------------------------------------------------------------\n"
     ]
    }
   ],
   "source": [
    "honest_throughputs = [[2.5, 2, 1],\n",
    "                      [3, 2, 1],\n",
    "                      [3, 2, 1]]\n",
    "dishonest_throughputs = [[2.6, 2, 1],\n",
    "                         [3, 2, 1],\n",
    "                         [3, 2, 1]]\n",
    "harness(honest_throughputs, dishonest_throughputs,\n",
    "        worker_types, cluster_spec)"
   ]
  },
  {
   "cell_type": "markdown",
   "metadata": {},
   "source": [
    "## Runtimes"
   ]
  },
  {
   "cell_type": "code",
   "execution_count": 9,
   "metadata": {},
   "outputs": [],
   "source": [
    "def generate_throughputs(num_jobs,\n",
    "                         cluster_spec,\n",
    "                         oracle_throughputs,\n",
    "                         seed):\n",
    "    rng = random.Random()\n",
    "    rng.seed(seed)\n",
    "    throughputs = {}\n",
    "    for job_id in range(num_jobs):\n",
    "        job = utils.generate_job(throughputs=oracle_throughputs,\n",
    "                                 rng=rng)\n",
    "        job_type_key = (job.job_type, job.scale_factor)\n",
    "        throughputs[job_id] = {}\n",
    "        for worker_type in cluster_spec:\n",
    "            throughputs[job_id][worker_type] = \\\n",
    "                oracle_throughputs[worker_type][job_type_key]['null']\n",
    "    return throughputs"
   ]
  },
  {
   "cell_type": "code",
   "execution_count": 10,
   "metadata": {},
   "outputs": [],
   "source": [
    "def get_runtimes():\n",
    "    oracle_throughputs = utils.read_all_throughputs_json_v2(\"../simulation_throughputs.json\")\n",
    "    data = {\n",
    "        'policy': [],\n",
    "        'num_jobs': [],\n",
    "        'runtimes': []\n",
    "    }    \n",
    "    policy_to_label = {\n",
    "        'max_min_fairness_perf': 'Vanilla',\n",
    "        'max_min_fairness_strategy_proofness_perf': 'With SP'\n",
    "    }\n",
    "    for num_jobs in [4, 8, 16, 32]:\n",
    "        cluster_spec = {\n",
    "            'v100': max(num_jobs // 4, 1),\n",
    "            'p100': max(num_jobs // 4, 1),\n",
    "            'k80': max(num_jobs // 4, 1),\n",
    "        }\n",
    "        for i in range(3):\n",
    "            unflattened_throughputs = generate_throughputs(num_jobs, cluster_spec,\n",
    "                                                           oracle_throughputs, seed=i)\n",
    "            _, _, _, strategy_proof_runtime, non_strategy_proof_runtime = \\\n",
    "                test_strategy_proofness(unflattened_throughputs, cluster_spec, verbose=False)\n",
    "            for (policy_label, runtime) in zip(['Vanilla', 'With SP'],\n",
    "                                               [non_strategy_proof_runtime, strategy_proof_runtime]):\n",
    "                data['policy'].append(policy_label)\n",
    "                data['num_jobs'].append(num_jobs)\n",
    "                data['runtimes'].append(runtime)\n",
    "    return data"
   ]
  },
  {
   "cell_type": "code",
   "execution_count": 11,
   "metadata": {},
   "outputs": [],
   "source": [
    "def plot_runtimes(data):\n",
    "    plt.figure(figsize=(4.5, 3))\n",
    "    ax = plt.subplot2grid((1, 1), (0, 0), colspan=1)\n",
    "    sns.lineplot(x='num_jobs', y='runtimes', style='policy',\n",
    "                 hue='policy',\n",
    "                 data=data, ci=None,\n",
    "                 markers=True)\n",
    "    ax.set_xlabel(\"Number of jobs\")\n",
    "    ax.set_ylabel(\"Seconds\")\n",
    "    ax.set_xscale('log', basex=2)\n",
    "    ax.set_yscale('log', basey=2)\n",
    "    ax.set_xticks([4, 8, 16, 32])\n",
    "    ax.set_xticklabels([4, 8, 16, 32])\n",
    "    ax.set_xlim([4, 32])\n",
    "    ax.set_yticks([2**-8, 2**4])\n",
    "    ax.set_yticks([2**-8, 2**-4, 1, 2**4])\n",
    "    ax.set_yticklabels([0.004, 0.0625, 1, 16])\n",
    "    sns.despine()\n",
    "\n",
    "    leg = plt.legend(loc='upper left', frameon=False)"
   ]
  },
  {
   "cell_type": "code",
   "execution_count": 12,
   "metadata": {},
   "outputs": [
    {
     "data": {
      "image/png": "[encoded data removed]",
      "text/plain": [
       "<Figure size 324x216 with 1 Axes>"
      ]
     },
     "metadata": {
      "needs_background": "light"
     },
     "output_type": "display_data"
    }
   ],
   "source": [
    "plot_runtimes(get_runtimes())"
   ]
  },
  {
   "cell_type": "markdown",
   "metadata": {},
   "source": [
    "## Throughput reductions"
   ]
  },
  {
   "cell_type": "code",
   "execution_count": 16,
   "metadata": {},
   "outputs": [],
   "source": [
    "def get_throughput_reduction():\n",
    "    oracle_throughputs = utils.read_all_throughputs_json_v2(\"../simulation_throughputs.json\")\n",
    "    data = {\n",
    "        'num_jobs': [],\n",
    "        'effective_throughput_reductions': [],\n",
    "        'style': []\n",
    "    }    \n",
    "    policy_to_label = {\n",
    "        'max_min_fairness_perf': 'Vanilla',\n",
    "        'max_min_fairness_strategy_proofness_perf': 'With SP'\n",
    "    }\n",
    "    for num_jobs in [4, 8, 16, 32]:\n",
    "        cluster_spec = {\n",
    "            'v100': max(num_jobs // 4, 1),\n",
    "            'p100': max(num_jobs // 4, 1),\n",
    "            'k80': max(num_jobs // 4, 1),\n",
    "        }\n",
    "        for i in range(3):\n",
    "            unflattened_throughputs = generate_throughputs(num_jobs, cluster_spec,\n",
    "                                                           oracle_throughputs, seed=i)\n",
    "            strategy_proof_allocation, _, non_strategy_proof_allocation, _, _ = \\\n",
    "                test_strategy_proofness(unflattened_throughputs, cluster_spec, verbose=False)\n",
    "            total_effective_throughputs = []\n",
    "            for allocation in [non_strategy_proof_allocation,\n",
    "                               strategy_proof_allocation]:\n",
    "                total_effective_throughput = 0.0\n",
    "                for job_id in allocation:\n",
    "                    for worker_type in allocation[job_id]:\n",
    "                        total_effective_throughput += (allocation[job_id][worker_type] *\n",
    "                                                       unflattened_throughputs[job_id][worker_type])\n",
    "                total_effective_throughputs.append(total_effective_throughput)\n",
    "            data['num_jobs'].append(num_jobs)\n",
    "            data['effective_throughput_reductions'].append(\n",
    "                total_effective_throughputs[1] / total_effective_throughputs[0])\n",
    "            data['style'].append('style')\n",
    "    return data"
   ]
  },
  {
   "cell_type": "code",
   "execution_count": 17,
   "metadata": {},
   "outputs": [],
   "source": [
    "def plot_throughput_reductions(data):\n",
    "    plt.figure(figsize=(4.5, 3))\n",
    "    ax = plt.subplot2grid((1, 1), (0, 0), colspan=1)\n",
    "    sns.lineplot(x='num_jobs', y='effective_throughput_reductions',\n",
    "                 style='style', hue='style',\n",
    "                 data=data, ci=None,\n",
    "                 markers=True, legend=False)\n",
    "    ax.set_xlabel(\"Number of jobs\")\n",
    "    ax.set_ylabel(\"Effective throughput\\nreduction\")\n",
    "    ax.set_xscale('log', basex=2)\n",
    "    ax.set_xticks([4, 8, 16, 32])\n",
    "    ax.set_xticklabels([4, 8, 16, 32])\n",
    "    ax.set_xlim([4, 32])\n",
    "    ax.set_yticks([0.2, 0.4, 0.6, 0.8, 1.0])\n",
    "    ax.set_ylim([0, 1])\n",
    "    sns.despine()"
   ]
  },
  {
   "cell_type": "code",
   "execution_count": 18,
   "metadata": {
    "scrolled": false
   },
   "outputs": [
    {
     "data": {
      "image/png": "[encoded data removed]",
      "text/plain": [
       "<Figure size 324x216 with 1 Axes>"
      ]
     },
     "metadata": {
      "needs_background": "light"
     },
     "output_type": "display_data"
    }
   ],
   "source": [
    "plot_throughput_reductions(get_throughput_reduction())"
   ]
  }
 ],
 "metadata": {
  "kernelspec": {
   "display_name": "Python 3",
   "language": "python",
   "name": "python3"
  },
  "language_info": {
   "codemirror_mode": {
    "name": "ipython",
    "version": 3
   },
   "file_extension": ".py",
   "mimetype": "text/x-python",
   "name": "python",
   "nbconvert_exporter": "python",
   "pygments_lexer": "ipython3",
   "version": "3.6.6"
  }
 },
 "nbformat": 4,
 "nbformat_minor": 4
}
