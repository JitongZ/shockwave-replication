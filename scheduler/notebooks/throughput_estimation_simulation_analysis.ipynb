{
 "cells": [
  {
   "cell_type": "markdown",
   "metadata": {},
   "source": [
    "# Results of simulation of different fairness policies\n",
    "\n",
    "These experiments use accumulated deficits to try to ensure that applications always receive their computed allocation of GPU time, even in the event of new jobs coming in and old jobs finishing, by keeping track of the difference between the GPU time the application should have received, and the GPU time the application actually received. Allocation of jobs to GPUs is performed in a round-based fashion, with GPUs instructed to run jobs for a fixed interval of time on all GPUs."
   ]
  },
  {
   "cell_type": "markdown",
   "metadata": {},
   "source": [
    "# Import statements"
   ]
  },
  {
   "cell_type": "code",
   "execution_count": 1,
   "metadata": {},
   "outputs": [],
   "source": [
    "# Imports for plotting.\n",
    "from matplotlib import pyplot as plt\n",
    "from matplotlib.backends.backend_pdf import PdfPages\n",
    "import matplotlib.lines as mlines\n",
    "import matplotlib.patches as mpatches\n",
    "from matplotlib.ticker import MultipleLocator\n",
    "from pylab import *\n",
    "import seaborn as sns\n",
    "from matplotlib import rc\n",
    "rc('text',\n",
    "   usetex=True)\n",
    "sns.set_style('ticks')\n",
    "font = {\n",
    "    'font.family':'Times New Roman',\n",
    "    'font.weight': 200,\n",
    "    'font.size': 10,\n",
    "}\n",
    "sns.set_style(font)\n",
    "flatui = ['#002A5E', '#FD151B', '#8EBA42', '#348ABD', '#988ED5', '#BDB76B', '#8EBA42', '#FFB5B8']\n",
    "sns.set_palette(flatui)\n",
    "paper_rc = {\n",
    "    'lines.linewidth': 2,\n",
    "    'lines.markersize': 10,\n",
    "    'mathtext.fontset': 'custom',\n",
    "    'mathtext.rm': 'Times New Roman',\n",
    "    'mathtext.bf': 'Times New Roman:bold',\n",
    "}\n",
    "sns.set_context(\"paper\", font_scale=2,  rc=paper_rc)\n",
    "current_palette = sns.color_palette()"
   ]
  },
  {
   "cell_type": "code",
   "execution_count": 2,
   "metadata": {},
   "outputs": [],
   "source": [
    "# Other imports.\n",
    "import os\n",
    "import re"
   ]
  },
  {
   "cell_type": "markdown",
   "metadata": {},
   "source": [
    "# Get logfile paths"
   ]
  },
  {
   "cell_type": "code",
   "execution_count": 3,
   "metadata": {},
   "outputs": [],
   "source": [
    "def get_logfile_paths_helper(directory_name):\n",
    "    logfile_paths = []\n",
    "    for root, _, file_names in os.walk(directory_name):\n",
    "        if len(file_names) > 0:\n",
    "            logfile_paths.extend(\n",
    "                [os.path.join(root, file_name)\n",
    "                 for file_name in file_names])\n",
    "    return logfile_paths\n",
    "\n",
    "def get_logfile_paths(directory_name):\n",
    "    logfile_paths = []\n",
    "    for logfile_path in get_logfile_paths_helper(directory_name):\n",
    "        m = re.match(\n",
    "            r'.*v100=(\\d+)\\.p100=(\\d+)\\.k80=(\\d+)/(.*)/'\n",
    "             'completion_algo=(\\S+)/'\n",
    "             'measurement_percentage=(\\d+\\.\\d+)/seed=(\\d+)/'\n",
    "             'lam=(\\d+\\.\\d+)\\.log', logfile_path)\n",
    "        if m is None: continue\n",
    "        v100s = int(m.group(1))\n",
    "        p100s = int(m.group(2))\n",
    "        k80s = int(m.group(3))\n",
    "        policy = m.group(4)\n",
    "        completion_algo = m.group(5)\n",
    "        measurement_percentage = float(m.group(6))\n",
    "        seed = int(m.group(7))\n",
    "        l = float(m.group(8))\n",
    "        logfile_paths.append((v100s, p100s, k80s, policy,\n",
    "                              completion_algo, measurement_percentage,\n",
    "                              seed,\n",
    "                              l, logfile_path))\n",
    "    return logfile_paths"
   ]
  },
  {
   "cell_type": "code",
   "execution_count": 4,
   "metadata": {
    "scrolled": false
   },
   "outputs": [],
   "source": [
    "policy = \"max_min_fairness_packed\"\n",
    "logfile_paths = sorted(get_logfile_paths(\n",
    "    \"/lfs/1/keshav2/gpusched/scheduler/logs/2019-08-22/\"))"
   ]
  },
  {
   "cell_type": "markdown",
   "metadata": {},
   "source": [
    "# Plotting functions"
   ]
  },
  {
   "cell_type": "code",
   "execution_count": 5,
   "metadata": {},
   "outputs": [],
   "source": [
    "def prune(logfile_paths, v100s, p100s, k80s, policy,\n",
    "          completion_algo, measurement_percentage,\n",
    "          seed=None):\n",
    "    if seed is None:\n",
    "        return sorted([(x[7], x[8], x[6]) for x in logfile_paths\n",
    "                       if x[0] == v100s and x[1] == p100s and\n",
    "                       x[2] == k80s and x[3] == policy and\n",
    "                       x[4] == completion_algo and\n",
    "                       0.9 <= x[5] / measurement_percentage <= 1.1])\n",
    "    else:\n",
    "        return sorted([(x[7], x[8]) for x in logfile_paths\n",
    "                       if x[0] == v100s and x[1] == p100s and\n",
    "                       x[2] == k80s and x[3] == policy and\n",
    "                       x[7] == seed])"
   ]
  },
  {
   "cell_type": "code",
   "execution_count": 6,
   "metadata": {},
   "outputs": [],
   "source": [
    "def plot_metric_vs_inverse_lambda(v100s, p100s, k80s,\n",
    "                                  policy,\n",
    "                                  completion_algos,\n",
    "                                  measurement_percentage,\n",
    "                                  metric_fn,\n",
    "                                  metric_label,\n",
    "                                  xmax=None,\n",
    "                                  ymax=None,\n",
    "                                  output_filename=None):\n",
    "    plt.figure(figsize=(8, 3.5))\n",
    "    ax = plt.subplot2grid((1, 1), (0, 0), colspan=1)\n",
    "\n",
    "    data = {\"input_job_rate\": [], \"metric\": [], \"seed\": [],\n",
    "            \"completion_algo\": []}\n",
    "    completion_algos = [\"Oracle\"] + completion_algos\n",
    "    for i, completion_algo in enumerate(completion_algos):\n",
    "        if i == 0:\n",
    "            relevant_logfile_paths = list(reversed(prune(\n",
    "                logfile_paths, v100s, p100s, k80s, policy,\n",
    "                completion_algo='BMF', measurement_percentage=1.000000)))\n",
    "        else:\n",
    "            relevant_logfile_paths = list(reversed(prune(\n",
    "            logfile_paths, v100s, p100s, k80s, policy,\n",
    "            completion_algo, measurement_percentage)))\n",
    "        lambdas = [x[0] for x in relevant_logfile_paths]\n",
    "        input_job_rates = [3600.0 / x for x in lambdas]\n",
    "        metrics = [metric_fn(x[1]) for x in relevant_logfile_paths]\n",
    "        seeds = [x[2] for x in relevant_logfile_paths]\n",
    "        completion_algos = [\"%s\" % (completion_algo) for _ in range(len(metrics))]\n",
    "\n",
    "        import pandas as pd\n",
    "        data[\"input_job_rate\"] += input_job_rates\n",
    "        data[\"metric\"] += metrics\n",
    "        data[\"seed\"] += seeds\n",
    "        data[\"completion_algo\"] += completion_algos\n",
    "\n",
    "    sns.lineplot(x='input_job_rate', y='metric', style='completion_algo',\n",
    "                 hue='completion_algo',\n",
    "                 data=data, ci='sd',\n",
    "                 markers=True)\n",
    "\n",
    "    ax.set_xlabel(\"Input job rate (jobs/hr)\")\n",
    "    ax.set_ylabel(metric_label)\n",
    "    ax.set_xlim([0, xmax])\n",
    "    ax.set_ylim([0, ymax])\n",
    "    sns.despine()\n",
    "    \n",
    "    plt.legend(bbox_to_anchor=(1.05, 1), loc=2, borderaxespad=0.)\n",
    "    \n",
    "    if output_filename is not None:\n",
    "        with PdfPages(output_filename) as pdf:\n",
    "            pdf.savefig(bbox_inches='tight')\n",
    "    \n",
    "    plt.show()"
   ]
  },
  {
   "cell_type": "markdown",
   "metadata": {},
   "source": [
    "# Plot average JCT versus input job rate"
   ]
  },
  {
   "cell_type": "code",
   "execution_count": 7,
   "metadata": {},
   "outputs": [],
   "source": [
    "def average_jct_fn(logfile_path, min_job_id=None, max_job_id=None):\n",
    "    job_completion_times = []\n",
    "    with open(logfile_path, 'r') as f:\n",
    "        lines = f.readlines()\n",
    "        for line in lines[-10000:]:\n",
    "            m = re.match(r'Job (\\d+): (\\d+\\.\\d+)', line)\n",
    "            if m is not None:\n",
    "                job_id = int(m.group(1))\n",
    "                job_completion_time = float(m.group(2))\n",
    "                if min_job_id is None or min_job_id <= job_id:\n",
    "                    if max_job_id is None or job_id <= max_job_id:\n",
    "                        job_completion_times.append(\n",
    "                            job_completion_time)\n",
    "    if len(job_completion_times) == 0:\n",
    "        return None\n",
    "    return np.mean(job_completion_times) / 3600"
   ]
  },
  {
   "cell_type": "code",
   "execution_count": 8,
   "metadata": {},
   "outputs": [],
   "source": [
    "def get_profiling_time(logfile_path, v100s, p100s, k80s, round_duration=32*60):\n",
    "    total_profiling_time = 0.0\n",
    "    with open(logfile_path, 'r') as f:\n",
    "        lines = f.readlines()\n",
    "        for line in lines:\n",
    "            if 'Profiling these jobs in the next round' in line:\n",
    "                num_profile_tasks = len(re.find_all('\\([0-9]*, [0-9]*\\)', line))\n",
    "                total_profiling_time += num_profile_tasks * round_duration\n",
    "            elif 'Total duration' in line:\n",
    "                total_duration = float(re.find_all('[0-9]*\\.[0-9]*', line)[0])\n",
    "    return total_profiling_time / total_duration"
   ]
  },
  {
   "cell_type": "code",
   "execution_count": 13,
   "metadata": {},
   "outputs": [],
   "source": [
    "def get_profiling_times(v100s, p100s, k80s, policy, completion_algos, measurement_percentage):\n",
    "    profiling_times = {}\n",
    "    for i, completion_algo in enumerate(completion_algos):\n",
    "        profiling_times[completion_algo] = {}\n",
    "        relevant_logfile_paths = list(reversed(prune(\n",
    "            logfile_paths, v100s, p100s, k80s, policy,\n",
    "            completion_algo, measurement_percentage)))\n",
    "        print('relevant_logfile_paths:', relevant_logfile_paths)\n",
    "        for logfile_path in relevant_logfile_paths:\n",
    "            profiling_times[completion_algo][logfile_path] = get_profiling_time(logfile_path)\n",
    "    return profiling_times"
   ]
  },
  {
   "cell_type": "code",
   "execution_count": 15,
   "metadata": {
    "scrolled": false
   },
   "outputs": [
    {
     "name": "stdout",
     "output_type": "stream",
     "text": [
      "V100s=25, P100s=0, K80s=0; Jobs 4000-5000\n",
      "measurement_percentage=0.857143\n",
      "[]\n",
      "relevant_logfile_paths: []\n",
      "relevant_logfile_paths: []\n",
      "relevant_logfile_paths: []\n",
      "{\n",
      "    \"BMF\": {},\n",
      "    \"PMF\": {},\n",
      "    \"SVT\": {}\n",
      "}\n"
     ]
    }
   ],
   "source": [
    "measurement_percentage = 0.857143\n",
    "print(\"V100s=25, P100s=0, K80s=0; Jobs 4000-5000\")\n",
    "print(\"measurement_percentage=%f\" % measurement_percentage)\n",
    "plot_metric_vs_inverse_lambda(\n",
    "    v100s=25, p100s=0, k80s=0,\n",
    "    policy=policy,\n",
    "    completion_algos=[\"BMF\", \"PMF\", \"SVT\"],\n",
    "    measurement_percentage=measurement_percentage,\n",
    "    metric_fn=lambda x: average_jct_fn(x, min_job_id=4000, max_job_id=5000),\n",
    "    metric_label=\"Average JCT\\n(hours)\",\n",
    "    ymax=500.0,\n",
    ")\n",
    "profiling_times = get_profiling_times(v100s=25, p100s=0, k80s=0,\n",
    "                                      policy=policy,\n",
    "                                      completion_algos=[\"BMF\", \"PMF\", \"SVT\"],\n",
    "                                      measurement_percentage=measurement_percentage)\n",
    "import json\n",
    "print(json.dumps(profiling_times, indent=4))"
   ]
  },
  {
   "cell_type": "code",
   "execution_count": null,
   "metadata": {},
   "outputs": [],
   "source": [
    "measurement_percentage = 0.714286\n",
    "print(\"V100s=25, P100s=0, K80s=0; Jobs 4000-5000\")\n",
    "print(\"measurement_percentage=%f\" % measurement_percentage)\n",
    "plot_metric_vs_inverse_lambda(\n",
    "    v100s=25, p100s=0, k80s=0,\n",
    "    policy=policy,\n",
    "    completion_algos=[\"BMF\", \"PMF\", \"SVT\"],\n",
    "    measurement_percentage=measurement_percentage,\n",
    "    metric_fn=lambda x: average_jct_fn(x, min_job_id=4000, max_job_id=5000),\n",
    "    metric_label=\"Average JCT\\n(hours)\",\n",
    "    ymax=500.0,\n",
    ")"
   ]
  },
  {
   "cell_type": "code",
   "execution_count": null,
   "metadata": {},
   "outputs": [],
   "source": [
    "measurement_percentage = 0.571429\n",
    "print(\"V100s=25, P100s=0, K80s=0; Jobs 4000-5000\")\n",
    "print(\"measurement_percentage=%f\" % measurement_percentage)\n",
    "plot_metric_vs_inverse_lambda(\n",
    "    v100s=25, p100s=0, k80s=0,\n",
    "    policy=policy,\n",
    "    completion_algos=[\"BMF\", \"PMF\", \"SVT\"],\n",
    "    measurement_percentage=measurement_percentage,\n",
    "    metric_fn=lambda x: average_jct_fn(x, min_job_id=4000, max_job_id=5000),\n",
    "    metric_label=\"Average JCT\\n(hours)\",\n",
    "    ymax=500.0,\n",
    ")"
   ]
  },
  {
   "cell_type": "code",
   "execution_count": null,
   "metadata": {},
   "outputs": [],
   "source": [
    "measurement_percentage = 0.428571\n",
    "print(\"V100s=25, P100s=0, K80s=0; Jobs 4000-5000\")\n",
    "print(\"measurement_percentage=%f\" % measurement_percentage)\n",
    "plot_metric_vs_inverse_lambda(\n",
    "    v100s=25, p100s=0, k80s=0,\n",
    "    policy=policy,\n",
    "    completion_algos=[\"BMF\", \"PMF\", \"SVT\"],\n",
    "    measurement_percentage=measurement_percentage,\n",
    "    metric_fn=lambda x: average_jct_fn(x, min_job_id=4000, max_job_id=5000),\n",
    "    metric_label=\"Average JCT\\n(hours)\",\n",
    "    ymax=500.0,\n",
    ")"
   ]
  },
  {
   "cell_type": "code",
   "execution_count": null,
   "metadata": {},
   "outputs": [],
   "source": [
    "measurement_percentage = 0.285714\n",
    "print(\"V100s=25, P100s=0, K80s=0; Jobs 4000-5000\")\n",
    "print(\"measurement_percentage=%f\" % measurement_percentage)\n",
    "plot_metric_vs_inverse_lambda(\n",
    "    v100s=25, p100s=0, k80s=0,\n",
    "    policy=policy,\n",
    "    completion_algos=[\"BMF\", \"PMF\", \"SVT\"],\n",
    "    measurement_percentage=measurement_percentage,\n",
    "    metric_fn=lambda x: average_jct_fn(x, min_job_id=4000, max_job_id=5000),\n",
    "    metric_label=\"Average JCT\\n(hours)\",\n",
    "    ymax=500.0,\n",
    ")"
   ]
  },
  {
   "cell_type": "code",
   "execution_count": null,
   "metadata": {},
   "outputs": [],
   "source": [
    "measurement_percentage = 0.142857\n",
    "print(\"V100s=25, P100s=0, K80s=0; Jobs 4000-5000\")\n",
    "print(\"measurement_percentage=%f\" % measurement_percentage)\n",
    "plot_metric_vs_inverse_lambda(\n",
    "    v100s=25, p100s=0, k80s=0,\n",
    "    policy=policy,\n",
    "    completion_algos=[\"BMF\", \"PMF\", \"SVT\"],\n",
    "    measurement_percentage=measurement_percentage,\n",
    "    metric_fn=lambda x: average_jct_fn(x, min_job_id=4000, max_job_id=5000),\n",
    "    metric_label=\"Average JCT\\n(hours)\",\n",
    "    ymax=500.0,\n",
    ")"
   ]
  }
 ],
 "metadata": {
  "kernelspec": {
   "display_name": "Python 3",
   "language": "python",
   "name": "python3"
  },
  "language_info": {
   "codemirror_mode": {
    "name": "ipython",
    "version": 3
   },
   "file_extension": ".py",
   "mimetype": "text/x-python",
   "name": "python",
   "nbconvert_exporter": "python",
   "pygments_lexer": "ipython3",
   "version": "3.7.3"
  }
 },
 "nbformat": 4,
 "nbformat_minor": 2
}
