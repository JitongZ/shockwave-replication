{
 "cells": [
  {
   "cell_type": "markdown",
   "metadata": {},
   "source": [
    "# Results of emulation of different max-min fairness policies\n",
    "\n",
    "These experiments use accumulated deficits to try to ensure that applications always receive their computed allocation of GPU time, even in the event of new jobs coming in and old jobs finishing, by keeping track of the difference between the GPU time the application should have received, and the GPU time the application actually received. Allocation of jobs to GPUs is performed in a round-based fashion, with GPUs instructed to run jobs for a fixed interval of time on all GPUs."
   ]
  },
  {
   "cell_type": "markdown",
   "metadata": {},
   "source": [
    "# Import statements"
   ]
  },
  {
   "cell_type": "code",
   "execution_count": 1,
   "metadata": {},
   "outputs": [],
   "source": [
    "# Imports for plotting.\n",
    "from matplotlib import pyplot as plt\n",
    "from matplotlib.backends.backend_pdf import PdfPages\n",
    "import matplotlib.lines as mlines\n",
    "import matplotlib.patches as mpatches\n",
    "from matplotlib.ticker import MultipleLocator\n",
    "from pylab import *\n",
    "import seaborn as sns\n",
    "from matplotlib import rc\n",
    "rc('text',\n",
    "   usetex=True)\n",
    "sns.set_style('ticks')\n",
    "font = {\n",
    "    'font.family':'Times New Roman',\n",
    "    'font.weight': 200,\n",
    "    'font.size': 10,\n",
    "}\n",
    "sns.set_style(font)\n",
    "flatui = ['#002A5E', '#FD151B', '#8EBA42', '#348ABD', '#988ED5', '#BDB76B', '#8EBA42', '#FFB5B8']\n",
    "sns.set_palette(flatui)\n",
    "paper_rc = {\n",
    "    'lines.linewidth': 2,\n",
    "    'lines.markersize': 10,\n",
    "    'mathtext.fontset': 'custom',\n",
    "    'mathtext.rm': 'Times New Roman',\n",
    "    'mathtext.bf': 'Times New Roman:bold',\n",
    "}\n",
    "sns.set_context(\"paper\", font_scale=2,  rc=paper_rc)\n",
    "current_palette = sns.color_palette()"
   ]
  },
  {
   "cell_type": "code",
   "execution_count": 2,
   "metadata": {},
   "outputs": [],
   "source": [
    "# Other imports.\n",
    "import os\n",
    "import re"
   ]
  },
  {
   "cell_type": "markdown",
   "metadata": {},
   "source": [
    "# Get logfile paths"
   ]
  },
  {
   "cell_type": "code",
   "execution_count": 3,
   "metadata": {},
   "outputs": [],
   "source": [
    "def get_logfile_paths_helper(directory_name):\n",
    "    logfile_paths = []\n",
    "    for root, _, file_names in os.walk(directory_name):\n",
    "        if len(file_names) > 0:\n",
    "            logfile_paths.extend(\n",
    "                [os.path.join(root, file_name)\n",
    "                 for file_name in file_names])\n",
    "    return logfile_paths\n",
    "\n",
    "def get_logfile_paths(directory_name):\n",
    "    logfile_paths = []\n",
    "    for logfile_path in get_logfile_paths_helper(directory_name):\n",
    "        m = re.match(\n",
    "            r'.*v100=(\\d+)\\.p100=(\\d+)\\.k80=(\\d+)/(.*)/seed=(\\d+)/'\n",
    "             'lambda=(\\d+\\.\\d+)\\.log', logfile_path)\n",
    "        v100s = int(m.group(1))\n",
    "        p100s = int(m.group(2))\n",
    "        k80s = int(m.group(3))\n",
    "        policy = m.group(4)\n",
    "        seed = int(m.group(5))\n",
    "        l = float(m.group(6))\n",
    "        logfile_paths.append((v100s, p100s, k80s, policy, seed,\n",
    "                              l, logfile_path))\n",
    "    return logfile_paths"
   ]
  },
  {
   "cell_type": "code",
   "execution_count": 4,
   "metadata": {},
   "outputs": [],
   "source": [
    "policies = [\"fifo\", \"isolated\", \"max_min_fairness\",\n",
    "            \"max_min_fairness_packed\"]\n",
    "logfile_paths = sorted(get_logfile_paths(\"/lfs/1/keshav2/gpusched/scheduler/logs/2019-08-01/\"))"
   ]
  },
  {
   "cell_type": "markdown",
   "metadata": {},
   "source": [
    "# Plotting functions"
   ]
  },
  {
   "cell_type": "code",
   "execution_count": 5,
   "metadata": {},
   "outputs": [],
   "source": [
    "def prune(logfile_paths, v100s, p100s, k80s, policy, seed=None):\n",
    "    if seed is None:\n",
    "        return sorted([(x[5], x[6], x[4]) for x in logfile_paths\n",
    "                       if x[0] == v100s and x[1] == p100s and\n",
    "                       x[2] == k80s and x[3] == policy])\n",
    "    else:\n",
    "        return sorted([(x[5], x[6]) for x in logfile_paths\n",
    "                       if x[0] == v100s and x[1] == p100s and\n",
    "                       x[2] == k80s and x[3] == policy and\n",
    "                       x[4] == seed])"
   ]
  },
  {
   "cell_type": "markdown",
   "metadata": {},
   "source": [
    "# Plot per-worker timelines"
   ]
  },
  {
   "cell_type": "code",
   "execution_count": 6,
   "metadata": {},
   "outputs": [],
   "source": [
    "def get_events(logfile_path):\n",
    "    events = {}\n",
    "    utilization = None\n",
    "    with open(logfile_path, 'r') as f:\n",
    "        lines = f.readlines()\n",
    "        for line in lines:\n",
    "            m = re.match(r'(\\d+\\.\\d+).*scheduled.*Job ID: (\\d+)\\t'\n",
    "                          'Worker type: (.*)\\tWorker ID: (\\d+).*',\n",
    "                         line)\n",
    "            if m is not None:\n",
    "                start_timestamp = float(m.group(1))\n",
    "                job_id = int(m.group(2))\n",
    "                worker_type = m.group(3)\n",
    "                worker_id = int(m.group(4))\n",
    "                if worker_id not in events:\n",
    "                    events[worker_id] = []\n",
    "                events[worker_id].append([job_id, worker_type, start_timestamp,\n",
    "                                          None])\n",
    "            m = re.match(r'(\\d+\\.\\d+).*scheduled.*Job ID: \\((\\d+), (\\d+)\\)\\t'\n",
    "                          'Worker type: (.*)\\tWorker ID: (\\d+).*',\n",
    "                         line)\n",
    "            if m is not None:\n",
    "                start_timestamp = float(m.group(1))\n",
    "                job_id1 = int(m.group(2))\n",
    "                job_id2 = int(m.group(3))\n",
    "                worker_type = m.group(4)\n",
    "                worker_id = int(m.group(5))\n",
    "                if worker_id not in events:\n",
    "                    events[worker_id] = []\n",
    "                events[worker_id].append([(job_id1, job_id2), worker_type, start_timestamp,\n",
    "                                          None])\n",
    "            \n",
    "            m = re.match(r'(\\d+\\.\\d+).*succeeded.*Job ID: (\\d+)\\t'\n",
    "                          'Worker type: (.*)\\tWorker ID: (\\d+).*',\n",
    "                         line)\n",
    "            if m is not None:\n",
    "                end_timestamp = float(m.group(1))\n",
    "                job_id = int(m.group(2))\n",
    "                worker_type = m.group(3)\n",
    "                worker_id = int(m.group(4))\n",
    "                if worker_id not in events:\n",
    "                    continue\n",
    "                assert(events[worker_id][-1][0] == job_id and\n",
    "                       events[worker_id][-1][1] == worker_type and\n",
    "                       events[worker_id][-1][3] is None)\n",
    "                events[worker_id][-1][3] = end_timestamp\n",
    "                \n",
    "            m = re.match(r'(\\d+\\.\\d+).*succeeded.*Job ID: \\((\\d+), (\\d+)\\)\\t'\n",
    "                          'Worker type: (.*)\\tWorker ID: (\\d+).*',\n",
    "                         line)\n",
    "            if m is not None:\n",
    "                end_timestamp = float(m.group(1))\n",
    "                job_id1 = int(m.group(2))\n",
    "                job_id2 = int(m.group(3))\n",
    "                worker_type = m.group(4)\n",
    "                worker_id = int(m.group(5))\n",
    "                if worker_id not in events:\n",
    "                    continue\n",
    "                assert(events[worker_id][-1][0] == (job_id1, job_id2) and\n",
    "                       events[worker_id][-1][1] == worker_type and\n",
    "                       events[worker_id][-1][3] is None)\n",
    "                events[worker_id][-1][3] = end_timestamp\n",
    "                \n",
    "            m = re.match(r'Cluster utilization: (\\d+\\.\\d+)', line)\n",
    "            if m is not None:\n",
    "                utilization = float(m.group(1)) * 100.\n",
    "\n",
    "    return events, utilization\n",
    "\n",
    "def analyze_timeline(v100s, p100s, k80s, policy, start,\n",
    "                     end, seed, max_lambda=None,\n",
    "                     output_filename=None):\n",
    "    relevant_logfile_paths = list(reversed(prune(\n",
    "        logfile_paths, v100s, p100s, k80s, policy, seed)))\n",
    "    for (lamb, relevant_logfile_path) in relevant_logfile_paths:\n",
    "        if max_lambda is not None and lamb > max_lambda:\n",
    "            continue\n",
    "        events, utilization = get_events(relevant_logfile_path)\n",
    "\n",
    "        if utilization is not None:\n",
    "            print(\"Lambda = %.2f\" % lamb)\n",
    "\n",
    "            worker_id_to_type_mapping = {}\n",
    "            time_occupied = {}\n",
    "            max_end_timestamp = None\n",
    "            for worker_id in events:\n",
    "                time_occupied[worker_id] = 0\n",
    "                for (job_id, worker_type, start_timestamp, end_timestamp) \\\n",
    "                    in events[worker_id]:\n",
    "                    if worker_id not in worker_id_to_type_mapping:\n",
    "                        worker_id_to_type_mapping[worker_id] = worker_type\n",
    "                    if end_timestamp is None:\n",
    "                        continue\n",
    "                    time_occupied[worker_id] += (end_timestamp - start_timestamp)\n",
    "                    if max_end_timestamp is None or max_end_timestamp < end_timestamp:\n",
    "                        max_end_timestamp = end_timestamp\n",
    "            per_worker_utilization = {\n",
    "                (time_occupied[worker_id] * 100.0) / max_end_timestamp\n",
    "                for worker_id in time_occupied\n",
    "            }\n",
    "            print(worker_id_to_type_mapping)\n",
    "            print(\"Utilization: %.3f%%\" % utilization)\n",
    "            print(per_worker_utilization)\n",
    "\n",
    "labels = {\"fifo\": \"FIFO\", \"isolated\": \"MMF\", \"max_min_fairness\": \"MMF+perf\",\n",
    "          \"max_min_fairness_packed\": \"MMF+perf+packed\"}\n",
    "def plot_timeline(v100s, p100s, k80s, policy, start,\n",
    "                  end, seed, max_lambda=None,\n",
    "                  output_filename=None):\n",
    "    relevant_logfile_paths = list(reversed(prune(\n",
    "        logfile_paths, v100s, p100s, k80s, policy, seed)))\n",
    "    for (lamb, relevant_logfile_path) in relevant_logfile_paths:\n",
    "        if max_lambda is not None and lamb > max_lambda:\n",
    "            continue\n",
    "        events, utilization = get_events(relevant_logfile_path)\n",
    "\n",
    "        if utilization is not None:\n",
    "            print(\"Lambda = %.2f\" % lamb)\n",
    "            plt.figure(figsize=(25, 6))\n",
    "            ax = plt.subplot2grid((1, 1), (0, 0), colspan=1)\n",
    "\n",
    "            worker_id_to_type_mapping = {}\n",
    "            for worker_id in events:\n",
    "                for (job_id, worker_type, start_timestamp, end_timestamp) \\\n",
    "                    in events[worker_id]:\n",
    "                    if worker_id not in worker_id_to_type_mapping:\n",
    "                        worker_id_to_type_mapping[worker_id] = worker_type\n",
    "                    if end_timestamp is None:\n",
    "                        continue\n",
    "                    if end_timestamp >= start and start_timestamp < end:\n",
    "                        if isinstance(job_id, tuple):\n",
    "                            ax.plot([start_timestamp, min(end_timestamp, end)],\n",
    "                                    [worker_id, worker_id],\n",
    "                                    linewidth=10, c=\"yellow\")\n",
    "                        else:\n",
    "                            ax.plot([start_timestamp, min(end_timestamp, end)],\n",
    "                                    [worker_id, worker_id],\n",
    "                                    linewidth=10, c=\"C%d\" % (job_id % 10))\n",
    "            print(worker_id_to_type_mapping)\n",
    "            print(\"Utilization: %.3f%%\" % utilization)\n",
    "\n",
    "        ax.set_xlabel(\"Time\")\n",
    "        ax.set_ylabel(\"Worker ID\")\n",
    "        worker_ids = list(events.keys())\n",
    "        \n",
    "        ax.set_yticks(worker_ids)\n",
    "        ax.set_yticklabels([str(worker_id) for worker_id in worker_ids])\n",
    "        sns.despine()\n",
    "\n",
    "        if output_filename is not None:\n",
    "            with PdfPages(output_filename) as pdf:\n",
    "                pdf.savefig(bbox_inches='tight')\n",
    "\n",
    "        plt.show()"
   ]
  },
  {
   "cell_type": "code",
   "execution_count": 7,
   "metadata": {
    "scrolled": false
   },
   "outputs": [
    {
     "name": "stdout",
     "output_type": "stream",
     "text": [
      "V100s=25, P100s=0, K80s=0; Max-Min Fairness with packing\n",
      "Lambda = 4114.29\n",
      "{0: 'v100', 1: 'v100', 2: 'v100', 3: 'v100', 4: 'v100', 5: 'v100', 6: 'v100', 7: 'v100', 8: 'v100', 9: 'v100', 10: 'v100', 11: 'v100', 12: 'v100', 13: 'v100', 14: 'v100', 15: 'v100', 16: 'v100', 17: 'v100', 18: 'v100', 19: 'v100', 20: 'v100', 21: 'v100', 22: 'v100', 23: 'v100', 24: 'v100'}\n",
      "Utilization: 87.200%\n",
      "{99.04352362607219, 99.97547490103824, 99.90190055104074, 99.95912495342473, 99.99182496701275, 99.93460020954588, 99.88555072178816, 99.79562654253809, 99.75475149596282, 99.74657646297557, 99.72205136401382, 99.68935123206484, 99.64030103414134, 99.59125083621785, 99.57490077024333, 99.5503756712816, 99.41957514348564, 99.38687501153665, 99.35417487958766, 99.26424951672792, 99.16614912088092}\n",
      "Lambda = 4114.29\n",
      "{0: 'v100', 1: 'v100', 2: 'v100', 3: 'v100', 4: 'v100', 5: 'v100', 6: 'v100', 7: 'v100', 8: 'v100', 9: 'v100', 10: 'v100', 11: 'v100', 12: 'v100', 13: 'v100', 14: 'v100', 15: 'v100', 16: 'v100', 17: 'v100', 18: 'v100', 19: 'v100', 20: 'v100', 21: 'v100', 22: 'v100', 23: 'v100', 24: 'v100'}\n",
      "Utilization: 87.200%\n"
     ]
    },
    {
     "data": {
      "image/png": "[encoded data removed]",
      "text/plain": [
       "<Figure size 1800x432 with 1 Axes>"
      ]
     },
     "metadata": {
      "needs_background": "light"
     },
     "output_type": "display_data"
    },
    {
     "data": {
      "text/plain": [
       "<Figure size 432x288 with 0 Axes>"
      ]
     },
     "metadata": {},
     "output_type": "display_data"
    }
   ],
   "source": [
    "print(\"V100s=25, P100s=0, K80s=0; Max-Min Fairness with packing\")\n",
    "analyze_timeline(\n",
    "    v100s=25, p100s=0, k80s=0, start=2000000,\n",
    "    end=2200000, seed=0, max_lambda=4200,\n",
    "    policy=\"max_min_fairness_packed\"\n",
    ")\n",
    "plot_timeline(\n",
    "    v100s=25, p100s=0, k80s=0, start=2000000,\n",
    "    end=2200000, seed=0, max_lambda=4200,\n",
    "    policy=\"max_min_fairness_packed\"\n",
    ")"
   ]
  }
 ],
 "metadata": {
  "kernelspec": {
   "display_name": "Python 3",
   "language": "python",
   "name": "python3"
  },
  "language_info": {
   "codemirror_mode": {
    "name": "ipython",
    "version": 3
   },
   "file_extension": ".py",
   "mimetype": "text/x-python",
   "name": "python",
   "nbconvert_exporter": "python",
   "pygments_lexer": "ipython3",
   "version": "3.7.3"
  }
 },
 "nbformat": 4,
 "nbformat_minor": 2
}
