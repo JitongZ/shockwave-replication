{
 "cells": [
  {
   "cell_type": "markdown",
   "metadata": {},
   "source": [
    "# Results of simulation of different fairness policies\n",
    "\n",
    "These experiments use accumulated deficits to try to ensure that applications always receive their computed allocation of GPU time, even in the event of new jobs coming in and old jobs finishing, by keeping track of the difference between the GPU time the application should have received, and the GPU time the application actually received. Allocation of jobs to GPUs is performed in a round-based fashion, with GPUs instructed to run jobs for a fixed interval of time on all GPUs."
   ]
  },
  {
   "cell_type": "markdown",
   "metadata": {},
   "source": [
    "# Import statements"
   ]
  },
  {
   "cell_type": "code",
   "execution_count": 1,
   "metadata": {},
   "outputs": [],
   "source": [
    "# Imports for plotting.\n",
    "from matplotlib import pyplot as plt\n",
    "from matplotlib.backends.backend_pdf import PdfPages\n",
    "import matplotlib.lines as mlines\n",
    "import matplotlib.patches as mpatches\n",
    "from matplotlib.ticker import MultipleLocator\n",
    "from pylab import *\n",
    "import seaborn as sns\n",
    "from matplotlib import rc\n",
    "rc('text',\n",
    "   usetex=True)\n",
    "sns.set_style('ticks')\n",
    "font = {\n",
    "    'font.family':'Times New Roman',\n",
    "    'font.weight': 200,\n",
    "    'font.size': 10,\n",
    "}\n",
    "sns.set_style(font)\n",
    "flatui = ['#002A5E', '#FD151B', '#8EBA42', '#348ABD', '#988ED5', '#BDB76B', '#8EBA42', '#FFB5B8']\n",
    "sns.set_palette(flatui)\n",
    "paper_rc = {\n",
    "    'lines.linewidth': 2,\n",
    "    'lines.markersize': 10,\n",
    "    'mathtext.fontset': 'custom',\n",
    "    'mathtext.rm': 'Times New Roman',\n",
    "    'mathtext.bf': 'Times New Roman:bold',\n",
    "}\n",
    "sns.set_context(\"paper\", font_scale=2,  rc=paper_rc)\n",
    "current_palette = sns.color_palette()"
   ]
  },
  {
   "cell_type": "code",
   "execution_count": 2,
   "metadata": {},
   "outputs": [],
   "source": [
    "# Other imports.\n",
    "import json\n",
    "import os\n",
    "import re"
   ]
  },
  {
   "cell_type": "markdown",
   "metadata": {},
   "source": [
    "# Get logfile paths"
   ]
  },
  {
   "cell_type": "code",
   "execution_count": 3,
   "metadata": {},
   "outputs": [],
   "source": [
    "def get_logfile_paths_helper(directory_name):\n",
    "    logfile_paths = []\n",
    "    for root, _, file_names in os.walk(directory_name):\n",
    "        if len(file_names) > 0:\n",
    "            logfile_paths.extend(\n",
    "                [os.path.join(root, file_name)\n",
    "                 for file_name in file_names])\n",
    "    return logfile_paths\n",
    "\n",
    "def get_logfile_paths(directory_name):\n",
    "    logfile_paths = []\n",
    "    for logfile_path in get_logfile_paths_helper(directory_name):\n",
    "        m = re.match(\n",
    "            r'.*v100=(\\d+)\\.p100=(\\d+)\\.k80=(\\d+)/(.*)/seed=(\\d+)/'\n",
    "             'lambda=(\\d+\\.\\d+)\\.log', logfile_path)\n",
    "        v100s = int(m.group(1))\n",
    "        p100s = int(m.group(2))\n",
    "        k80s = int(m.group(3))\n",
    "        policy = m.group(4)\n",
    "        seed = int(m.group(5))\n",
    "        l = float(m.group(6))\n",
    "        logfile_paths.append((v100s, p100s, k80s, policy, seed,\n",
    "                              l, logfile_path))\n",
    "    return logfile_paths"
   ]
  },
  {
   "cell_type": "code",
   "execution_count": 4,
   "metadata": {},
   "outputs": [],
   "source": []
  },
  {
   "cell_type": "markdown",
   "metadata": {},
   "source": [
    "# Plotting functions"
   ]
  },
  {
   "cell_type": "code",
   "execution_count": 5,
   "metadata": {},
   "outputs": [],
   "source": [
    "def prune(logfile_paths, v100s, p100s, k80s, policy, seed=None):\n",
    "    if seed is None:\n",
    "        return sorted([(x[5], x[6], x[4]) for x in logfile_paths\n",
    "                       if x[0] == v100s and x[1] == p100s and\n",
    "                       x[2] == k80s and x[3] == policy])\n",
    "    else:\n",
    "        return sorted([(x[5], x[6]) for x in logfile_paths\n",
    "                       if x[0] == v100s and x[1] == p100s and\n",
    "                       x[2] == k80s and x[3] == policy and\n",
    "                       x[4] == seed])"
   ]
  },
  {
   "cell_type": "code",
   "execution_count": 6,
   "metadata": {},
   "outputs": [],
   "source": [
    "labels = {\"fifo\": \"FIFO\",\n",
    "          \"fifo_perf\": \"FIFO+perf\",\n",
    "          \"fifo_packed\": \"FIFO+perf+packed\",\n",
    "          \"max_min_fairness\": \"MMF\",\n",
    "          \"max_min_fairness_perf\": \"MMF+perf\",\n",
    "          \"max_min_fairness_packed\": \"MMF+perf+packed\"}\n",
    "def plot_metric_vs_inverse_lambda(v100s, p100s, k80s,\n",
    "                                  policies, metric_fn,\n",
    "                                  metric_label,\n",
    "                                  xmax=None,\n",
    "                                  ymax=None,\n",
    "                                  output_filename=None):\n",
    "    plt.figure(figsize=(8, 3.5))\n",
    "    ax = plt.subplot2grid((1, 1), (0, 0), colspan=1)\n",
    "\n",
    "    data = {\"input_job_rate\": [], \"metric\": [], \"seed\": [],\n",
    "            \"policy\": []}\n",
    "    for policy in policies:\n",
    "        relevant_logfile_paths = list(reversed(prune(\n",
    "            logfile_paths, v100s, p100s, k80s, policy)))\n",
    "        lambdas = [x[0] for x in relevant_logfile_paths]\n",
    "        input_job_rates = [3600.0 / x for x in lambdas]\n",
    "        metrics = [metric_fn(x[1]) for x in relevant_logfile_paths]\n",
    "        seeds = [x[2] for x in relevant_logfile_paths]\n",
    "        policies = [labels[policy] for i in range(len(metrics))]\n",
    "\n",
    "        import pandas as pd\n",
    "        data[\"input_job_rate\"] += input_job_rates\n",
    "        data[\"metric\"] += metrics\n",
    "        data[\"seed\"] += seeds\n",
    "        data[\"policy\"] += policies\n",
    "\n",
    "    sns.lineplot(x='input_job_rate', y='metric', style='policy',\n",
    "                 hue='policy',\n",
    "                 data=data, ci='sd',\n",
    "                 markers=True)\n",
    "\n",
    "    ax.set_xlabel(\"Input job rate (jobs/hr)\")\n",
    "    ax.set_ylabel(metric_label)\n",
    "    ax.set_xlim([0, xmax])\n",
    "    ax.set_ylim([0, ymax])\n",
    "    sns.despine()\n",
    "    \n",
    "    plt.legend(bbox_to_anchor=(1.05, 1), loc=2, borderaxespad=0.)\n",
    "    \n",
    "    if output_filename is not None:\n",
    "        with PdfPages(output_filename) as pdf:\n",
    "            pdf.savefig(bbox_inches='tight')\n",
    "    \n",
    "    plt.show()"
   ]
  },
  {
   "cell_type": "markdown",
   "metadata": {},
   "source": [
    "# Plot per-worker timelines"
   ]
  },
  {
   "cell_type": "code",
   "execution_count": 7,
   "metadata": {},
   "outputs": [],
   "source": [
    "def get_events(logfile_path):\n",
    "    events = {}\n",
    "    utilization = None\n",
    "    with open(logfile_path, 'r') as f:\n",
    "        lines = f.readlines()\n",
    "        for line in lines:\n",
    "            m = re.match(r'(\\d+\\.\\d+).*scheduled.*Job ID: (\\d+)\\t'\n",
    "                          'Worker type: (.*)\\tWorker ID[\\(s\\)]*: ([\\d+\\,]*\\d+).*',\n",
    "                         line)\n",
    "            if m is not None:\n",
    "                start_timestamp = float(m.group(1))\n",
    "                job_id = int(m.group(2))\n",
    "                worker_type = m.group(3)\n",
    "                worker_ids = [int(x) for x in m.group(4).split(',')]\n",
    "                for worker_id in worker_ids:\n",
    "                    if worker_id not in events:\n",
    "                        events[worker_id] = []\n",
    "                    events[worker_id].append([job_id, worker_type,\n",
    "                                              start_timestamp,\n",
    "                                              None])\n",
    "            m = re.match(r'(\\d+\\.\\d+).*scheduled.*Job ID: \\((\\d+), (\\d+)\\)\\t'\n",
    "                          'Worker type: (.*)\\tWorker ID[\\(s\\)]*: ([\\d+\\,]*\\d+).*',\n",
    "                         line)\n",
    "            if m is not None:\n",
    "                start_timestamp = float(m.group(1))\n",
    "                job_id1 = int(m.group(2))\n",
    "                job_id2 = int(m.group(3))\n",
    "                worker_type = m.group(4)\n",
    "                worker_ids = [int(x) for x in m.group(5).split(',')]\n",
    "                for worker_id in worker_ids:\n",
    "                    if worker_id not in events:\n",
    "                        events[worker_id] = []\n",
    "                    events[worker_id].append([(job_id1, job_id2), worker_type,\n",
    "                                              start_timestamp,\n",
    "                                              None])\n",
    "            \n",
    "            m = re.match(r'(\\d+\\.\\d+).*succeeded.*Job ID: (\\d+)\\t'\n",
    "                          'Worker type: (.*)\\tWorker ID: (\\d+).*',\n",
    "                         line)\n",
    "            if m is not None:\n",
    "                end_timestamp = float(m.group(1))\n",
    "                job_id = int(m.group(2))\n",
    "                worker_type = m.group(3)\n",
    "                worker_id = int(m.group(4))\n",
    "                if worker_id not in events:\n",
    "                    continue\n",
    "                assert(events[worker_id][-1][0] == job_id and\n",
    "                       events[worker_id][-1][1] == worker_type and\n",
    "                       events[worker_id][-1][3] is None)\n",
    "                events[worker_id][-1][3] = end_timestamp\n",
    "                \n",
    "            m = re.match(r'(\\d+\\.\\d+).*succeeded.*Job ID: \\((\\d+), (\\d+)\\)\\t'\n",
    "                          'Worker type: (.*)\\tWorker ID: (\\d+).*',\n",
    "                         line)\n",
    "            if m is not None:\n",
    "                end_timestamp = float(m.group(1))\n",
    "                job_id1 = int(m.group(2))\n",
    "                job_id2 = int(m.group(3))\n",
    "                worker_type = m.group(4)\n",
    "                worker_id = int(m.group(5))\n",
    "                if worker_id not in events:\n",
    "                    continue\n",
    "                assert(events[worker_id][-1][0] == (job_id1, job_id2) and\n",
    "                       events[worker_id][-1][1] == worker_type and\n",
    "                       events[worker_id][-1][3] is None)\n",
    "                events[worker_id][-1][3] = end_timestamp\n",
    "                \n",
    "            m = re.match(r'Cluster utilization: (\\d+\\.\\d+)', line)\n",
    "            if m is not None:\n",
    "                utilization = float(m.group(1)) * 100.\n",
    "\n",
    "    return events, utilization\n",
    "\n",
    "def plot_timeline(v100s, p100s, k80s, policy, end, seed,\n",
    "                  output_filename=None):\n",
    "    relevant_logfile_paths = list(reversed(prune(\n",
    "        logfile_paths, v100s, p100s, k80s, policy, seed)))\n",
    "    for i, (lamb, relevant_logfile_path) in enumerate(relevant_logfile_paths):\n",
    "        if i % 2 != 0:\n",
    "            continue\n",
    "        events, utilization = get_events(relevant_logfile_path)\n",
    "\n",
    "        if utilization is not None:\n",
    "            plt.figure(figsize=(25, 6))\n",
    "            ax = plt.subplot2grid((1, 1), (0, 0), colspan=1)\n",
    "            print(\"Lambda = %.2f\" % lamb)\n",
    "\n",
    "            worker_id_to_type_mapping = {}\n",
    "            for worker_id in events:\n",
    "                for (job_id, worker_type, start_timestamp, end_timestamp) \\\n",
    "                    in events[worker_id]:\n",
    "                    if worker_id not in worker_id_to_type_mapping:\n",
    "                        worker_id_to_type_mapping[worker_id] = worker_type\n",
    "                    if start_timestamp < end:\n",
    "                        if isinstance(job_id, tuple):\n",
    "                            ax.plot([start_timestamp, min(end_timestamp, end)],\n",
    "                                    [worker_id, worker_id],\n",
    "                                    linewidth=10, c=\"yellow\")\n",
    "                        else:\n",
    "                            ax.plot([start_timestamp, min(end_timestamp, end)],\n",
    "                                    [worker_id, worker_id],\n",
    "                                    linewidth=10, c=\"C%d\" % (job_id % 10))\n",
    "            print(worker_id_to_type_mapping)\n",
    "            print(\"Utilization: %.3f%%\" % utilization)\n",
    "\n",
    "        ax.set_xlabel(\"Time\")\n",
    "        ax.set_ylabel(\"Worker ID\")\n",
    "        worker_ids = list(events.keys())\n",
    "        \n",
    "        ax.set_yticks(worker_ids)\n",
    "        ax.set_yticklabels([str(worker_id) for worker_id in worker_ids])\n",
    "        sns.despine()\n",
    "\n",
    "        if output_filename is not None:\n",
    "            with PdfPages(output_filename) as pdf:\n",
    "                pdf.savefig(bbox_inches='tight')\n",
    "\n",
    "        plt.show()"
   ]
  },
  {
   "cell_type": "code",
   "execution_count": 8,
   "metadata": {
    "scrolled": true
   },
   "outputs": [],
   "source": [
    "worker_type_map = {\n",
    "    'k80': 0,\n",
    "    'p100': 1,\n",
    "    'v100': 2,\n",
    "}\n",
    "def get_num_promotions_per_job(logfile_path):\n",
    "    events, _ = get_events(logfile_path)\n",
    "    per_job_timeline = {}\n",
    "    num_promotions_per_job = {}\n",
    "    for worker_id in events:\n",
    "        for i, (job_id, worker_type, start_time, _) in enumerate(events[worker_id]):\n",
    "            worker_type_int = worker_type_map[worker_type]\n",
    "            if type(job_id) == tuple:\n",
    "                for job_id_ in job_id:\n",
    "                    if job_id_ not in per_job_timeline:\n",
    "                        per_job_timeline[job_id_] = []\n",
    "                    per_job_timeline[job_id_].append((worker_type_int, start_time))\n",
    "            else:\n",
    "                if job_id not in per_job_timeline:\n",
    "                    per_job_timeline[job_id] = []\n",
    "                per_job_timeline[job_id].append((worker_type_int, start_time))\n",
    "    for job_id in per_job_timeline:\n",
    "        per_job_timeline[job_id].sort(key=lambda x: x[1])\n",
    "    for job_id in per_job_timeline:\n",
    "        num_promotions_per_job[job_id] = 0\n",
    "        for i, (worker_type, _) in enumerate(per_job_timeline[job_id]):\n",
    "            if i == 0: continue\n",
    "            if worker_type != per_job_timeline[job_id][i-1][0]:\n",
    "                num_promotions_per_job[job_id] += 1\n",
    "    return num_promotions_per_job"
   ]
  },
  {
   "cell_type": "code",
   "execution_count": 15,
   "metadata": {
    "scrolled": false
   },
   "outputs": [],
   "source": [
    "def sweep_get_num_promotions_per_job(relevant_logfile_paths):\n",
    "    for lam, logfile_path, seed in relevant_logfile_paths:\n",
    "        num_promotions_per_job = get_num_promotions_per_job(logfile_path)\n",
    "        all_num_promotions = [num_promotions_per_job[job_id] for job_id in num_promotions_per_job]\n",
    "        print('Lambda=%f, seed=%d: Average number of promotions: %f (stddev %f)' % (\n",
    "            lam,\n",
    "            seed,\n",
    "            np.mean(all_num_promotions),\n",
    "            np.std(all_num_promotions))) "
   ]
  },
  {
   "cell_type": "code",
   "execution_count": 16,
   "metadata": {},
   "outputs": [],
   "source": [
    "logfile_paths = sorted(get_logfile_paths(\n",
    "    \"/lfs/1/deepak/gpusched/scheduler/logs/multigpu_support_singlegpu/\"))"
   ]
  },
  {
   "cell_type": "code",
   "execution_count": 17,
   "metadata": {},
   "outputs": [
    {
     "name": "stdout",
     "output_type": "stream",
     "text": [
      "Lambda=86400.000000, seed=0: Average number of promotions: 0.000000 (stddev 0.000000)\n",
      "Lambda=43200.000000, seed=0: Average number of promotions: 0.019400 (stddev 0.297697)\n",
      "Lambda=28800.000000, seed=0: Average number of promotions: 0.188200 (stddev 1.172681)\n",
      "Lambda=21600.000000, seed=0: Average number of promotions: 0.559888 (stddev 2.148753)\n",
      "Lambda=17280.000000, seed=0: Average number of promotions: 1.250350 (stddev 3.666936)\n",
      "Lambda=14400.000000, seed=0: Average number of promotions: 2.010180 (stddev 5.068089)\n",
      "Lambda=12342.857143, seed=0: Average number of promotions: 2.795613 (stddev 6.485224)\n",
      "Lambda=10800.000000, seed=0: Average number of promotions: 3.237423 (stddev 7.684556)\n",
      "Lambda=9600.000000, seed=0: Average number of promotions: 2.021961 (stddev 6.363122)\n",
      "Lambda=8640.000000, seed=0: Average number of promotions: 0.202824 (stddev 1.851756)\n"
     ]
    }
   ],
   "source": [
    "relevant_logfile_paths = prune(logfile_paths, 8, 8, 8, 'fifo')\n",
    "relevant_logfile_paths.reverse()\n",
    "sweep_get_num_promotions_per_job(relevant_logfile_paths)"
   ]
  },
  {
   "cell_type": "code",
   "execution_count": 18,
   "metadata": {},
   "outputs": [
    {
     "name": "stdout",
     "output_type": "stream",
     "text": [
      "Lambda=86400.000000, seed=0: Average number of promotions: 0.000000 (stddev 0.000000)\n",
      "Lambda=43200.000000, seed=0: Average number of promotions: 0.007600 (stddev 0.086846)\n",
      "Lambda=28800.000000, seed=0: Average number of promotions: 0.076200 (stddev 0.265318)\n",
      "Lambda=21600.000000, seed=0: Average number of promotions: 0.201960 (stddev 0.410330)\n",
      "Lambda=17280.000000, seed=0: Average number of promotions: 0.386813 (stddev 0.514938)\n",
      "Lambda=14400.000000, seed=0: Average number of promotions: 0.561302 (stddev 0.576285)\n",
      "Lambda=12342.857143, seed=0: Average number of promotions: 0.715653 (stddev 0.636623)\n",
      "Lambda=10800.000000, seed=0: Average number of promotions: 0.906070 (stddev 0.717606)\n",
      "Lambda=9600.000000, seed=0: Average number of promotions: 1.052423 (stddev 0.757037)\n",
      "Lambda=8640.000000, seed=0: Average number of promotions: 1.128899 (stddev 0.788392)\n"
     ]
    }
   ],
   "source": [
    "relevant_logfile_paths = prune(logfile_paths, 8, 8, 8, 'fifo_perf')\n",
    "relevant_logfile_paths.reverse()\n",
    "sweep_get_num_promotions_per_job(relevant_logfile_paths)"
   ]
  },
  {
   "cell_type": "code",
   "execution_count": 19,
   "metadata": {},
   "outputs": [],
   "source": [
    "logfile_paths = sorted(get_logfile_paths(\n",
    "    \"/lfs/1/deepak/gpusched/scheduler/logs/multigpu_support_multigpu/\"))"
   ]
  },
  {
   "cell_type": "code",
   "execution_count": 20,
   "metadata": {},
   "outputs": [
    {
     "name": "stdout",
     "output_type": "stream",
     "text": [
      "Lambda=50400.000000, seed=0: Average number of promotions: 0.357186 (stddev 1.355964)\n",
      "Lambda=25200.000000, seed=0: Average number of promotions: 2.606296 (stddev 7.821046)\n",
      "Lambda=16800.000000, seed=0: Average number of promotions: 8.559072 (stddev 16.669405)\n",
      "Lambda=12600.000000, seed=0: Average number of promotions: 4.936767 (stddev 5.001636)\n",
      "Lambda=10080.000000, seed=0: Average number of promotions: 4.555312 (stddev 3.691781)\n",
      "Lambda=8400.000000, seed=0: Average number of promotions: 4.345918 (stddev 2.939424)\n"
     ]
    }
   ],
   "source": [
    "relevant_logfile_paths = prune(logfile_paths, 8, 8, 8, 'fifo')\n",
    "relevant_logfile_paths.reverse()\n",
    "sweep_get_num_promotions_per_job(relevant_logfile_paths)"
   ]
  },
  {
   "cell_type": "code",
   "execution_count": 21,
   "metadata": {},
   "outputs": [
    {
     "name": "stdout",
     "output_type": "stream",
     "text": [
      "Lambda=50400.000000, seed=0: Average number of promotions: 0.159936 (stddev 0.462952)\n",
      "Lambda=25200.000000, seed=0: Average number of promotions: 0.590066 (stddev 0.896230)\n",
      "Lambda=16800.000000, seed=0: Average number of promotions: 1.378150 (stddev 1.389823)\n",
      "Lambda=12600.000000, seed=0: Average number of promotions: 1.997406 (stddev 1.692403)\n",
      "Lambda=10080.000000, seed=0: Average number of promotions: 1.683371 (stddev 1.761532)\n",
      "Lambda=8400.000000, seed=0: Average number of promotions: 1.476298 (stddev 1.760175)\n"
     ]
    }
   ],
   "source": [
    "relevant_logfile_paths = prune(logfile_paths, 8, 8, 8, 'fifo_perf')\n",
    "relevant_logfile_paths.reverse()\n",
    "sweep_get_num_promotions_per_job(relevant_logfile_paths)"
   ]
  }
 ],
 "metadata": {
  "kernelspec": {
   "display_name": "Python 3",
   "language": "python",
   "name": "python3"
  },
  "language_info": {
   "codemirror_mode": {
    "name": "ipython",
    "version": 3
   },
   "file_extension": ".py",
   "mimetype": "text/x-python",
   "name": "python",
   "nbconvert_exporter": "python",
   "pygments_lexer": "ipython3",
   "version": "3.7.3"
  }
 },
 "nbformat": 4,
 "nbformat_minor": 2
}
