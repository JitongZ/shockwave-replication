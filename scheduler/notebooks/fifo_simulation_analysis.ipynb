{
 "cells": [
  {
   "cell_type": "markdown",
   "metadata": {},
   "source": [
    "# Results of simulation of different fairness policies\n",
    "\n",
    "These experiments use accumulated deficits to try to ensure that applications always receive their computed allocation of GPU time, even in the event of new jobs coming in and old jobs finishing, by keeping track of the difference between the GPU time the application should have received, and the GPU time the application actually received. Allocation of jobs to GPUs is performed in a round-based fashion, with GPUs instructed to run jobs for a fixed interval of time on all GPUs."
   ]
  },
  {
   "cell_type": "markdown",
   "metadata": {},
   "source": [
    "# Import statements"
   ]
  },
  {
   "cell_type": "code",
   "execution_count": null,
   "metadata": {},
   "outputs": [],
   "source": [
    "# Imports for plotting.\n",
    "from matplotlib import pyplot as plt\n",
    "from matplotlib.backends.backend_pdf import PdfPages\n",
    "import matplotlib.lines as mlines\n",
    "import matplotlib.patches as mpatches\n",
    "from matplotlib.ticker import MultipleLocator\n",
    "from pylab import *\n",
    "import seaborn as sns\n",
    "from matplotlib import rc\n",
    "rc('text',\n",
    "   usetex=True)\n",
    "sns.set_style('ticks')\n",
    "font = {\n",
    "    'font.family':'Times New Roman',\n",
    "    'font.weight': 200,\n",
    "    'font.size': 10,\n",
    "}\n",
    "sns.set_style(font)\n",
    "flatui = ['#002A5E', '#FD151B', '#8EBA42', '#348ABD', '#988ED5', '#BDB76B', '#8EBA42', '#FFB5B8']\n",
    "sns.set_palette(flatui)\n",
    "paper_rc = {\n",
    "    'lines.linewidth': 2,\n",
    "    'lines.markersize': 10,\n",
    "    'mathtext.fontset': 'custom',\n",
    "    'mathtext.rm': 'Times New Roman',\n",
    "    'mathtext.bf': 'Times New Roman:bold',\n",
    "}\n",
    "sns.set_context(\"paper\", font_scale=2,  rc=paper_rc)\n",
    "current_palette = sns.color_palette()"
   ]
  },
  {
   "cell_type": "code",
   "execution_count": null,
   "metadata": {},
   "outputs": [],
   "source": [
    "# Other imports.\n",
    "import json\n",
    "import os\n",
    "import re"
   ]
  },
  {
   "cell_type": "markdown",
   "metadata": {},
   "source": [
    "# Get logfile paths"
   ]
  },
  {
   "cell_type": "code",
   "execution_count": null,
   "metadata": {},
   "outputs": [],
   "source": [
    "def get_logfile_paths_helper(directory_name):\n",
    "    logfile_paths = []\n",
    "    for root, _, file_names in os.walk(directory_name):\n",
    "        if len(file_names) > 0:\n",
    "            logfile_paths.extend(\n",
    "                [os.path.join(root, file_name)\n",
    "                 for file_name in file_names])\n",
    "    return logfile_paths\n",
    "\n",
    "def get_logfile_paths(directory_name):\n",
    "    logfile_paths = []\n",
    "    for logfile_path in get_logfile_paths_helper(directory_name):\n",
    "        m = re.match(\n",
    "            r'.*v100=(\\d+)\\.p100=(\\d+)\\.k80=(\\d+)/(.*)/seed=(\\d+)/'\n",
    "             'lambda=(\\d+\\.\\d+)\\.log', logfile_path)\n",
    "        v100s = int(m.group(1))\n",
    "        p100s = int(m.group(2))\n",
    "        k80s = int(m.group(3))\n",
    "        policy = m.group(4)\n",
    "        seed = int(m.group(5))\n",
    "        l = float(m.group(6))\n",
    "        logfile_paths.append((v100s, p100s, k80s, policy, seed,\n",
    "                              l, logfile_path))\n",
    "    return logfile_paths"
   ]
  },
  {
   "cell_type": "markdown",
   "metadata": {},
   "source": [
    "# Munging functions"
   ]
  },
  {
   "cell_type": "code",
   "execution_count": null,
   "metadata": {},
   "outputs": [],
   "source": [
    "def prune(logfile_paths, v100s, p100s, k80s, policy, seed=None):\n",
    "    if seed is None:\n",
    "        return sorted([(x[5], x[6], x[4]) for x in logfile_paths\n",
    "                       if x[0] == v100s and x[1] == p100s and\n",
    "                       x[2] == k80s and x[3] == policy])\n",
    "    else:\n",
    "        return sorted([(x[5], x[6]) for x in logfile_paths\n",
    "                       if x[0] == v100s and x[1] == p100s and\n",
    "                       x[2] == k80s and x[3] == policy and\n",
    "                       x[4] == seed])"
   ]
  },
  {
   "cell_type": "code",
   "execution_count": null,
   "metadata": {},
   "outputs": [],
   "source": [
    "def get_events(logfile_path):\n",
    "    events = {}\n",
    "    utilization = None\n",
    "    with open(logfile_path, 'r') as f:\n",
    "        lines = f.readlines()\n",
    "        for line in lines:\n",
    "            m = re.match(r'(\\d+\\.\\d+).*scheduled.*Job ID: (\\d+)\\t'\n",
    "                          'Worker type: (.*)\\tWorker ID\\(s\\): ([\\d+\\,]*\\d+).*',\n",
    "                         line)\n",
    "            if m is not None:\n",
    "                start_timestamp = float(m.group(1))\n",
    "                job_id = int(m.group(2))\n",
    "                worker_type = m.group(3)\n",
    "                worker_ids = [int(x) for x in m.group(4).split(',')]\n",
    "                scale_factor = len(worker_ids)\n",
    "                for worker_id in worker_ids:\n",
    "                    if worker_id not in events:\n",
    "                        events[worker_id] = []\n",
    "                    events[worker_id].append([job_id, worker_type,\n",
    "                                              scale_factor,\n",
    "                                              start_timestamp,\n",
    "                                              None])\n",
    "            m = re.match(r'(\\d+\\.\\d+).*scheduled.*Job ID: \\((\\d+), (\\d+)\\)\\t'\n",
    "                          'Worker type: (.*)\\tWorker ID\\(s\\): ([\\d+\\,]*\\d+).*',\n",
    "                         line)\n",
    "            if m is not None:\n",
    "                start_timestamp = float(m.group(1))\n",
    "                job_id1 = int(m.group(2))\n",
    "                job_id2 = int(m.group(3))\n",
    "                worker_type = m.group(4)\n",
    "                worker_ids = [int(x) for x in m.group(5).split(',')]\n",
    "                scale_facor = len(worker_ids)\n",
    "                for worker_id in worker_ids:\n",
    "                    if worker_id not in events:\n",
    "                        events[worker_id] = []\n",
    "                    events[worker_id].append([(job_id1, job_id2), worker_type,\n",
    "                                              scale_factor,\n",
    "                                              start_timestamp,\n",
    "                                              None])\n",
    "            \n",
    "            m = re.match(r'(\\d+\\.\\d+).*succeeded.*Job ID: (\\d+)\\t'\n",
    "                          'Worker type: (.*)\\tWorker ID: (\\d+).*',\n",
    "                         line)\n",
    "            if m is not None:\n",
    "                end_timestamp = float(m.group(1))\n",
    "                job_id = int(m.group(2))\n",
    "                worker_type = m.group(3)\n",
    "                worker_id = int(m.group(4))\n",
    "                if worker_id not in events:\n",
    "                    continue\n",
    "                assert(events[worker_id][-1][0] == job_id and\n",
    "                       events[worker_id][-1][1] == worker_type and\n",
    "                       events[worker_id][-1][4] is None)\n",
    "                events[worker_id][-1][4] = end_timestamp\n",
    "                \n",
    "            m = re.match(r'(\\d+\\.\\d+).*succeeded.*Job ID: \\((\\d+), (\\d+)\\)\\t'\n",
    "                          'Worker type: (.*)\\tWorker ID: (\\d+).*',\n",
    "                         line)\n",
    "            if m is not None:\n",
    "                end_timestamp = float(m.group(1))\n",
    "                job_id1 = int(m.group(2))\n",
    "                job_id2 = int(m.group(3))\n",
    "                worker_type = m.group(4)\n",
    "                worker_id = int(m.group(5))\n",
    "                if worker_id not in events:\n",
    "                    continue\n",
    "                assert(events[worker_id][-1][0] == (job_id1, job_id2) and\n",
    "                       events[worker_id][-1][1] == worker_type and\n",
    "                       events[worker_id][-1][4] is None)\n",
    "                events[worker_id][-1][4] = end_timestamp\n",
    "                \n",
    "            m = re.match(r'Cluster utilization: (\\d+\\.\\d+)', line)\n",
    "            if m is not None:\n",
    "                utilization = float(m.group(1)) * 100.\n",
    "\n",
    "    return events, utilization\n"
   ]
  },
  {
   "cell_type": "code",
   "execution_count": null,
   "metadata": {
    "scrolled": true
   },
   "outputs": [],
   "source": [
    "worker_type_map = {\n",
    "    'k80': 0,\n",
    "    'p100': 1,\n",
    "    'v100': 2,\n",
    "}\n",
    "def get_num_promotions_per_job(logfile_path):\n",
    "    events, _ = get_events(logfile_path)\n",
    "    per_job_timeline = {}\n",
    "    num_promotions_per_job = {}\n",
    "    for worker_id in events:\n",
    "        for i, (job_id, worker_type, scale_factor, start_time, _) in enumerate(\n",
    "            events[worker_id]):\n",
    "            worker_type_int = worker_type_map[worker_type]\n",
    "            if type(job_id) == tuple:\n",
    "                for job_id_ in job_id:\n",
    "                    if job_id_ not in per_job_timeline:\n",
    "                        per_job_timeline[job_id_] = []\n",
    "                    per_job_timeline[job_id_].append((worker_type_int, start_time))\n",
    "            else:\n",
    "                if job_id not in per_job_timeline:\n",
    "                    per_job_timeline[job_id] = []\n",
    "                per_job_timeline[job_id].append((worker_type_int, start_time,\n",
    "                                                 scale_factor))\n",
    "    for job_id in per_job_timeline:\n",
    "        per_job_timeline[job_id].sort(key=lambda x: x[1])\n",
    "    for job_id in per_job_timeline:\n",
    "        num_promotions_per_job[job_id] = 0\n",
    "        for i, (worker_type, _, _) in enumerate(per_job_timeline[job_id]):\n",
    "            if i == 0: continue\n",
    "            if worker_type != per_job_timeline[job_id][i-1][0]:\n",
    "                num_promotions_per_job[job_id] += 1\n",
    "    return num_promotions_per_job"
   ]
  },
  {
   "cell_type": "code",
   "execution_count": null,
   "metadata": {
    "scrolled": false
   },
   "outputs": [],
   "source": [
    "def sweep_get_num_promotions_per_job(relevant_logfile_paths):\n",
    "    for lam, logfile_path, seed in relevant_logfile_paths:\n",
    "        num_promotions_per_job = get_num_promotions_per_job(logfile_path)\n",
    "        all_num_promotions = [num_promotions_per_job[job_id] for job_id in num_promotions_per_job]\n",
    "        print('Lambda=%f, seed=%d: Average number of promotions: %f (stddev %f)' % (\n",
    "            lam,\n",
    "            seed,\n",
    "            np.mean(all_num_promotions),\n",
    "            np.std(all_num_promotions)))\n",
    "        print('Distinct all_num_promotions:', set(all_num_promotions))\n",
    "        print()"
   ]
  },
  {
   "cell_type": "markdown",
   "metadata": {},
   "source": [
    "# Perform sweep"
   ]
  },
  {
   "cell_type": "code",
   "execution_count": null,
   "metadata": {},
   "outputs": [],
   "source": [
    "logfile_paths = sorted(get_logfile_paths(\n",
    "    \"/lfs/1/deepak/gpusched/scheduler/logs/multigpu_support_singlegpu/\"))"
   ]
  },
  {
   "cell_type": "code",
   "execution_count": null,
   "metadata": {},
   "outputs": [],
   "source": [
    "relevant_logfile_paths = prune(logfile_paths, 8, 8, 8, 'fifo')\n",
    "relevant_logfile_paths.reverse()\n",
    "sweep_get_num_promotions_per_job(relevant_logfile_paths)"
   ]
  },
  {
   "cell_type": "code",
   "execution_count": null,
   "metadata": {},
   "outputs": [],
   "source": [
    "relevant_logfile_paths = prune(logfile_paths, 8, 8, 8, 'fifo_perf')\n",
    "relevant_logfile_paths.reverse()\n",
    "sweep_get_num_promotions_per_job(relevant_logfile_paths)"
   ]
  },
  {
   "cell_type": "code",
   "execution_count": null,
   "metadata": {},
   "outputs": [],
   "source": [
    "logfile_paths = sorted(get_logfile_paths(\n",
    "    \"/lfs/1/deepak/gpusched/scheduler/logs/multigpu_support_multigpu/\"))"
   ]
  },
  {
   "cell_type": "code",
   "execution_count": null,
   "metadata": {},
   "outputs": [],
   "source": [
    "relevant_logfile_paths = prune(logfile_paths, 8, 8, 8, 'fifo')\n",
    "relevant_logfile_paths.reverse()\n",
    "sweep_get_num_promotions_per_job(relevant_logfile_paths)"
   ]
  },
  {
   "cell_type": "code",
   "execution_count": null,
   "metadata": {
    "scrolled": false
   },
   "outputs": [],
   "source": [
    "relevant_logfile_paths = prune(logfile_paths, 8, 8, 8, 'fifo_perf')\n",
    "relevant_logfile_paths.reverse()\n",
    "sweep_get_num_promotions_per_job(relevant_logfile_paths)"
   ]
  }
 ],
 "metadata": {
  "kernelspec": {
   "display_name": "Python 3",
   "language": "python",
   "name": "python3"
  },
  "language_info": {
   "codemirror_mode": {
    "name": "ipython",
    "version": 3
   },
   "file_extension": ".py",
   "mimetype": "text/x-python",
   "name": "python",
   "nbconvert_exporter": "python",
   "pygments_lexer": "ipython3",
   "version": "3.7.3"
  }
 },
 "nbformat": 4,
 "nbformat_minor": 2
}
