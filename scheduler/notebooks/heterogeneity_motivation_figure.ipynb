{
 "cells": [
  {
   "cell_type": "code",
   "execution_count": 1,
   "metadata": {},
   "outputs": [],
   "source": [
    "from matplotlib import pyplot as plt\n",
    "from matplotlib.backends.backend_pdf import PdfPages\n",
    "import matplotlib.lines as mlines\n",
    "import matplotlib.patches as mpatches\n",
    "from matplotlib.ticker import MultipleLocator\n",
    "from pylab import *\n",
    "import seaborn as sns\n",
    "from matplotlib import rc\n",
    "import numpy as np\n",
    "import json\n",
    "rc('text',\n",
    "   usetex=True)\n",
    "sns.set_style('ticks')\n",
    "font = {\n",
    "    'font.family':'Times New Roman',\n",
    "    'font.weight': 200,\n",
    "    'font.size': 10,\n",
    "}\n",
    "sns.set_style(font)\n",
    "flatui = ['#002A5E', '#FD151B', '#8EBA42', '#348ABD', '#988ED5', '#BDB76B', '#8EBA42', '#FFB5B8']\n",
    "sns.set_palette(flatui)\n",
    "paper_rc = {\n",
    "    'lines.linewidth': 2,\n",
    "    'lines.markersize': 10,\n",
    "    'mathtext.fontset': 'custom',\n",
    "    'mathtext.rm': 'Times New Roman',\n",
    "    'mathtext.bf': 'Times New Roman:bold',\n",
    "}\n",
    "sns.set_context(\"paper\", font_scale=2,  rc=paper_rc)\n",
    "current_palette = sns.color_palette()"
   ]
  },
  {
   "cell_type": "code",
   "execution_count": 2,
   "metadata": {},
   "outputs": [],
   "source": [
    "bar_width = .25\n",
    "throughputs_file = '../oracle_throughputs.json'"
   ]
  },
  {
   "cell_type": "code",
   "execution_count": 3,
   "metadata": {},
   "outputs": [],
   "source": [
    "with open(throughputs_file, 'r') as f:\n",
    "    throughputs = json.load(f)"
   ]
  },
  {
   "cell_type": "code",
   "execution_count": 4,
   "metadata": {},
   "outputs": [],
   "source": [
    "model_map = {\n",
    "    'ResNet-18 (batch size 64)': 'ResNet-18',\n",
    "    'ResNet-50 (batch size 128)': 'ResNet-50',\n",
    "    'Transformer (batch size 64)': 'Transformer',\n",
    "    'LM (batch size 20)': 'LM',\n",
    "    'A3C': 'A3C',\n",
    "    'CycleGAN': 'CycleGAN'\n",
    "}\n",
    "#'Recommendation (batch size 2048)': 'Recommendation',"
   ]
  },
  {
   "cell_type": "code",
   "execution_count": 5,
   "metadata": {},
   "outputs": [],
   "source": [
    "k80 = []\n",
    "for i in range(len(model_map.keys())):\n",
    "    k80.append(1.0)"
   ]
  },
  {
   "cell_type": "code",
   "execution_count": 6,
   "metadata": {},
   "outputs": [],
   "source": [
    "p100 = []\n",
    "for model in sorted(model_map.keys()):\n",
    "    p100.append(throughputs['p100'][model]['null'] / throughputs['k80'][model]['null'])"
   ]
  },
  {
   "cell_type": "code",
   "execution_count": 7,
   "metadata": {},
   "outputs": [],
   "source": [
    "v100 = []\n",
    "for model in sorted(model_map.keys()):\n",
    "    v100.append(throughputs['v100'][model]['null'] / throughputs['k80'][model]['null'])"
   ]
  },
  {
   "cell_type": "code",
   "execution_count": 8,
   "metadata": {},
   "outputs": [
    {
     "name": "stdout",
     "output_type": "stream",
     "text": [
      "A3C: Speedup on P100: 1.24x, Speedup on V100: 2.15x\n",
      "CycleGAN: Speedup on P100: 4.62x, Speedup on V100: 9.29x\n",
      "LM (batch size 20): Speedup on P100: 3.56x, Speedup on V100: 4.96x\n",
      "ResNet-18 (batch size 64): Speedup on P100: 3.98x, Speedup on V100: 6.31x\n",
      "ResNet-50 (batch size 128): Speedup on P100: 3.65x, Speedup on V100: 9.60x\n",
      "Transformer (batch size 64): Speedup on P100: 2.51x, Speedup on V100: 4.73x\n"
     ]
    }
   ],
   "source": [
    "for model, p, v in zip(sorted(model_map.keys()), p100, v100):\n",
    "    print('%s: Speedup on P100: %.2fx, Speedup on V100: %.2fx' % (model, p, v))"
   ]
  },
  {
   "cell_type": "code",
   "execution_count": 9,
   "metadata": {},
   "outputs": [],
   "source": [
    "r1 = np.arange(len(k80))\n",
    "r2 = [x + bar_width for x in r1]\n",
    "r3 = [x + bar_width for x in r2]"
   ]
  },
  {
   "cell_type": "code",
   "execution_count": 10,
   "metadata": {},
   "outputs": [
    {
     "data": {
      "image/png": "[encoded data removed]",
      "text/plain": [
       "<Figure size 1332x432 with 1 Axes>"
      ]
     },
     "metadata": {
      "needs_background": "light"
     },
     "output_type": "display_data"
    }
   ],
   "source": [
    "plt.bar(r1, k80, color='#e5f5e0', width=bar_width, edgecolor='black', label='K80')\n",
    "plt.bar(r2, p100, color='#a1d99b', width=bar_width, edgecolor='black', label='P100')\n",
    "plt.bar(r3, v100, color='#31a354', width=bar_width, edgecolor='black', label='V100')\n",
    "plt.ylabel('Speedup relative to K80', fontsize=32)\n",
    "plt.xticks([r + bar_width for r in range(len(k80))],\n",
    "           [model_map[model] for model in sorted(model_map.keys())],\n",
    "           fontsize=32)\n",
    "plt.yticks(fontsize=24)\n",
    "plt.legend(fontsize=24)\n",
    "fig = plt.gcf()\n",
    "fig.set_size_inches(18.5, 6)\n",
    "plt.show()"
   ]
  },
  {
   "cell_type": "code",
   "execution_count": 11,
   "metadata": {},
   "outputs": [],
   "source": [
    "fig.savefig('heterogeneity.pdf', dpi=600, bbox_inches='tight')"
   ]
  },
  {
   "cell_type": "code",
   "execution_count": null,
   "metadata": {},
   "outputs": [],
   "source": []
  },
  {
   "cell_type": "code",
   "execution_count": null,
   "metadata": {},
   "outputs": [],
   "source": []
  }
 ],
 "metadata": {
  "kernelspec": {
   "display_name": "Python 3",
   "language": "python",
   "name": "python3"
  },
  "language_info": {
   "codemirror_mode": {
    "name": "ipython",
    "version": 3
   },
   "file_extension": ".py",
   "mimetype": "text/x-python",
   "name": "python",
   "nbconvert_exporter": "python",
   "pygments_lexer": "ipython3",
   "version": "3.7.3"
  }
 },
 "nbformat": 4,
 "nbformat_minor": 2
}
