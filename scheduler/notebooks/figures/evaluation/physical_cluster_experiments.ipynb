{
 "cells": [
  {
   "cell_type": "code",
   "execution_count": 1,
   "metadata": {},
   "outputs": [],
   "source": [
    "from matplotlib import pyplot as plt\n",
    "import matplotlib; matplotlib.font_manager._rebuild()\n",
    "from matplotlib.backends.backend_pdf import PdfPages\n",
    "import matplotlib.lines as mlines\n",
    "import matplotlib.patches as mpatches\n",
    "from matplotlib.ticker import MultipleLocator\n",
    "from pylab import *\n",
    "import seaborn as sns\n",
    "from matplotlib import rc\n",
    "sns.set_style('ticks')\n",
    "font = {\n",
    "    'font.family':'Roboto',\n",
    "    'font.size': 12,\n",
    "}\n",
    "sns.set_style(font)\n",
    "paper_rc = {\n",
    "    'lines.linewidth': 3,\n",
    "    'lines.markersize': 10,\n",
    "}\n",
    "sns.set_context(\"paper\", font_scale=2, rc=paper_rc)\n",
    "current_palette = sns.color_palette()"
   ]
  },
  {
   "cell_type": "code",
   "execution_count": 2,
   "metadata": {},
   "outputs": [],
   "source": [
    "import numpy as np\n",
    "import re\n",
    "import sys"
   ]
  },
  {
   "cell_type": "code",
   "execution_count": 3,
   "metadata": {},
   "outputs": [],
   "source": [
    "sys.path.append('../../..')\n",
    "import utils"
   ]
  },
  {
   "cell_type": "code",
   "execution_count": 4,
   "metadata": {},
   "outputs": [],
   "source": [
    "labels = {\n",
    "    'min_total_duration': 'Gavel',\n",
    "    'gandiva': 'Gandiva',\n",
    "    'max_min_fairness_perf': 'Gavel',\n",
    "}"
   ]
  },
  {
   "cell_type": "code",
   "execution_count": 5,
   "metadata": {},
   "outputs": [],
   "source": [
    "def parse_logfile_debug(logfile):\n",
    "    num_rounds = {}\n",
    "    with open(logfile, 'r') as f:\n",
    "        current_round = 0\n",
    "        round_start = False\n",
    "        for line in f:\n",
    "            if 'Micro-task scheduled' in line:\n",
    "                if not round_start:\n",
    "                    round_start = True\n",
    "                    print('Round %d' % (current_round))\n",
    "                match = re.search('Job ID: (\\d+).*Worker type: (\\w+)\\tWorker ID\\(s\\): (.*)\\tPriority', line)\n",
    "                assert match is not None\n",
    "                job_id = int(match.group(1))\n",
    "                worker_type = match.group(2)\n",
    "                worker_ids =  match.group(3)\n",
    "                if job_id not in num_rounds:\n",
    "                    num_rounds[job_id] = {}\n",
    "                    for worker_type in ['k80', 'p100', 'v100']:\n",
    "                        num_rounds[job_id][worker_type] = 0\n",
    "                num_rounds[job_id][worker_type] += 1\n",
    "                print('Job %d\\tworker type: %s\\tWorker IDs: %s' % (job_id, worker_type, worker_ids))\n",
    "            elif round_start:\n",
    "                current_round += 1\n",
    "                print('')\n",
    "                round_start = False\n",
    "    \n",
    "    for job_id in sorted(num_rounds.keys()):\n",
    "        print('Job %d: %d K80\\t%d P100\\t%d V100' % (\n",
    "            job_id, num_rounds[job_id]['k80'],\n",
    "            num_rounds[job_id]['p100'], num_rounds[job_id]['v100']))"
   ]
  },
  {
   "cell_type": "code",
   "execution_count": 6,
   "metadata": {},
   "outputs": [],
   "source": [
    "def get_jcts_from_logfile(logfile):\n",
    "    jcts = {}\n",
    "    with open(logfile, 'r') as f:\n",
    "        collect_jcts = False\n",
    "        for line in f:\n",
    "            if line.strip() == 'Job completion times:':\n",
    "                collect_jcts = True\n",
    "                continue\n",
    "            if collect_jcts:\n",
    "                match = re.match('Job (\\d+): (\\d+\\.\\d+)', line.strip())\n",
    "                if match is not None:\n",
    "                    job_id = int(match.group(1))\n",
    "                    jct = float(match.group(2))\n",
    "                    jcts[job_id] = jct\n",
    "                else:\n",
    "                    return jcts"
   ]
  },
  {
   "cell_type": "code",
   "execution_count": 7,
   "metadata": {},
   "outputs": [],
   "source": [
    "def get_cdf(data):\n",
    "    \"\"\"Returns the CDF of the given data.\n",
    "    \n",
    "       Args:\n",
    "           data: A list of numerical values.\n",
    "           \n",
    "       Returns:\n",
    "           An pair of lists (x, y) for plotting the CDF.\n",
    "    \"\"\"\n",
    "    sorted_data = sorted(data)\n",
    "    p = np.arange(len(sorted_data)) / (len(sorted_data) - 1)\n",
    "    return sorted_data, p"
   ]
  },
  {
   "cell_type": "code",
   "execution_count": 8,
   "metadata": {},
   "outputs": [],
   "source": [
    "def get_ratios(real_jcts, simulation_jcts):\n",
    "    ratios = []\n",
    "    for job_id in sorted(simulation_jcts.keys()):\n",
    "        ratios.append(real_jcts[job_id] / simulation_jcts[job_id])\n",
    "    return ratios"
   ]
  },
  {
   "cell_type": "code",
   "execution_count": 9,
   "metadata": {
    "scrolled": false
   },
   "outputs": [],
   "source": [
    "def plot_ratios(all_ratios, policies, output_filename=None):\n",
    "    plt.figure(figsize=(4.5, 3))\n",
    "    ax = plt.subplot2grid((1, 1), (0, 0), colspan=1)\n",
    "\n",
    "    for (ratios, policy) in zip(all_ratios, policies):\n",
    "        data, p = get_cdf(ratios)\n",
    "        ax.plot(data, p, label=labels[policy])\n",
    "    ax.set_xlabel('Real JCT / Simulation JCT')\n",
    "    ax.set_ylabel('Fraction of jobs')\n",
    "    ax.set_xlim([0.5, 2.0])\n",
    "    ax.set_ylim([0.0, 1.0])\n",
    "    ax.set_xticks([0.5, 1.0, 1.5, 2.0])\n",
    "    ax.set_yticks([0.0, 0.2, 0.4, 0.6, 0.8, 1.0])\n",
    "    leg = plt.legend(frameon=False, ncol=2, loc='upper center')\n",
    "    bb = leg.get_bbox_to_anchor().inverse_transformed(ax.transAxes)\n",
    "    bb.y0 += 0.25\n",
    "    bb.y1 += 0.25\n",
    "    leg.set_bbox_to_anchor(bb, transform=ax.transAxes)\n",
    "    sns.despine()\n",
    "    \n",
    "    if output_filename is not None:\n",
    "        with PdfPages(output_filename) as pdf:\n",
    "            pdf.savefig(bbox_inches='tight')"
   ]
  },
  {
   "cell_type": "code",
   "execution_count": 10,
   "metadata": {},
   "outputs": [],
   "source": [
    "def print_ratios_and_plot(policies, output_filename):\n",
    "    all_ratios = []\n",
    "    for policy in policies:\n",
    "        simulation_logfile = (\n",
    "            '/lfs/1/deepak/gpusched/scheduler/logs/'\n",
    "            'physical_cluster_experiments_final/%s/simulation.log') % policy\n",
    "        real_logfile = (\n",
    "            '/lfs/1/deepak/gpusched/scheduler/logs/'\n",
    "            'physical_cluster_experiments_final/%s/server.log') % (policy)\n",
    "        simulation_jcts = get_jcts_from_logfile(simulation_logfile)\n",
    "        real_jcts = get_jcts_from_logfile(real_logfile)\n",
    "        ratios = get_ratios(simulation_jcts, real_jcts)\n",
    "        all_ratios.append(ratios)\n",
    "    plot_ratios(all_ratios, policies,\n",
    "                output_filename=output_filename)"
   ]
  },
  {
   "cell_type": "code",
   "execution_count": 11,
   "metadata": {
    "scrolled": false
   },
   "outputs": [
    {
     "data": {
      "image/png": "[encoded data removed]",
      "text/plain": [
       "<Figure size 324x216 with 1 Axes>"
      ]
     },
     "metadata": {
      "needs_background": "light"
     },
     "output_type": "display_data"
    }
   ],
   "source": [
    "print_ratios_and_plot(['gandiva', 'min_total_duration'],\n",
    "                      output_filename=\"physical_cluster_experiments/makespan_cdf_ratios.pdf\")"
   ]
  },
  {
   "cell_type": "code",
   "execution_count": 12,
   "metadata": {},
   "outputs": [
    {
     "data": {
      "image/png": "[encoded data removed]",
      "text/plain": [
       "<Figure size 324x216 with 1 Axes>"
      ]
     },
     "metadata": {
      "needs_background": "light"
     },
     "output_type": "display_data"
    }
   ],
   "source": [
    "print_ratios_and_plot(['max_min_fairness_perf'],\n",
    "                      output_filename=\"physical_cluster_experiments/las_cdf_ratios.pdf\")"
   ]
  }
 ],
 "metadata": {
  "kernelspec": {
   "display_name": "Python 3",
   "language": "python",
   "name": "python3"
  },
  "language_info": {
   "codemirror_mode": {
    "name": "ipython",
    "version": 3
   },
   "file_extension": ".py",
   "mimetype": "text/x-python",
   "name": "python",
   "nbconvert_exporter": "python",
   "pygments_lexer": "ipython3",
   "version": "3.7.3"
  }
 },
 "nbformat": 4,
 "nbformat_minor": 2
}
