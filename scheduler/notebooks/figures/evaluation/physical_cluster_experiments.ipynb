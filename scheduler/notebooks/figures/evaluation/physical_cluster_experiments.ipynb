{
 "cells": [
  {
   "cell_type": "code",
   "execution_count": 1,
   "metadata": {},
   "outputs": [],
   "source": [
    "import matplotlib.pyplot as plt\n",
    "import numpy as np\n",
    "import re\n",
    "import sys"
   ]
  },
  {
   "cell_type": "code",
   "execution_count": 2,
   "metadata": {},
   "outputs": [],
   "source": [
    "sys.path.append('../../..')\n",
    "import utils"
   ]
  },
  {
   "cell_type": "code",
   "execution_count": 3,
   "metadata": {},
   "outputs": [],
   "source": [
    "def parse_logfile_debug(logfile):\n",
    "    num_rounds = {}\n",
    "    with open(logfile, 'r') as f:\n",
    "        current_round = 0\n",
    "        round_start = False\n",
    "        for line in f:\n",
    "            if 'Micro-task scheduled' in line:\n",
    "                if not round_start:\n",
    "                    round_start = True\n",
    "                    print('Round %d' % (current_round))\n",
    "                match = re.search('Job ID: (\\d+).*Worker type: (\\w+)\\tWorker ID\\(s\\): (.*)\\tPriority', line)\n",
    "                assert match is not None\n",
    "                job_id = int(match.group(1))\n",
    "                worker_type = match.group(2)\n",
    "                worker_ids =  match.group(3)\n",
    "                if job_id not in num_rounds:\n",
    "                    num_rounds[job_id] = {}\n",
    "                    for worker_type in ['k80', 'p100', 'v100']:\n",
    "                        num_rounds[job_id][worker_type] = 0\n",
    "                num_rounds[job_id][worker_type] += 1\n",
    "                print('Job %d\\tworker type: %s\\tWorker IDs: %s' % (job_id, worker_type, worker_ids))\n",
    "            elif round_start:\n",
    "                current_round += 1\n",
    "                print('')\n",
    "                round_start = False\n",
    "    \n",
    "    for job_id in sorted(num_rounds.keys()):\n",
    "        print('Job %d: %d K80\\t%d P100\\t%d V100' % (job_id, num_rounds[job_id]['k80'], num_rounds[job_id]['p100'], num_rounds[job_id]['v100']))"
   ]
  },
  {
   "cell_type": "code",
   "execution_count": 4,
   "metadata": {},
   "outputs": [],
   "source": [
    "def get_jcts_from_logfile(logfile):\n",
    "    jcts = {}\n",
    "    with open(logfile, 'r') as f:\n",
    "        collect_jcts = False\n",
    "        for line in f:\n",
    "            if line.strip() == 'Job completion times:':\n",
    "                collect_jcts = True\n",
    "                continue\n",
    "            if collect_jcts:\n",
    "                match = re.match('Job (\\d+): (\\d+\\.\\d+)', line.strip())\n",
    "                if match is not None:\n",
    "                    job_id = int(match.group(1))\n",
    "                    jct = float(match.group(2))\n",
    "                    jcts[job_id] = jct\n",
    "                else:\n",
    "                    return jcts"
   ]
  },
  {
   "cell_type": "code",
   "execution_count": 5,
   "metadata": {},
   "outputs": [],
   "source": [
    "def get_cdf(data):\n",
    "    \"\"\"Returns the CDF of the given data.\n",
    "    \n",
    "       Args:\n",
    "           data: A list of numerical values.\n",
    "           \n",
    "       Returns:\n",
    "           An pair of lists (x, y) for plotting the CDF.\n",
    "    \"\"\"\n",
    "    sorted_data = sorted(data)\n",
    "    p = 100. * np.arange(len(sorted_data)) / (len(sorted_data) - 1)\n",
    "    return sorted_data, p"
   ]
  },
  {
   "cell_type": "code",
   "execution_count": 6,
   "metadata": {},
   "outputs": [],
   "source": [
    "jobs, arrival_times = utils.parse_trace('/Users/keshavsanthanam/workspace/gpusched/scheduler/traces/physical_cluster/minimize_makespan.trace')"
   ]
  },
  {
   "cell_type": "code",
   "execution_count": 7,
   "metadata": {},
   "outputs": [],
   "source": [
    "def get_ratios(real_jcts, simulation_jcts):\n",
    "    ratios = []\n",
    "    for job_id in sorted(simulation_jcts.keys()):\n",
    "        ratios.append(real_jcts[job_id] / simulation_jcts[job_id])\n",
    "    return ratios"
   ]
  },
  {
   "cell_type": "code",
   "execution_count": 8,
   "metadata": {},
   "outputs": [],
   "source": [
    "def print_sorted_ratios(ratios):\n",
    "    jobs_and_ratios = []\n",
    "    for i, (job, ratio) in enumerate(zip(jobs, ratios)):\n",
    "        jobs_and_ratios.append((i, job.job_type, ratio))\n",
    "    jobs_and_ratios.sort(key=lambda x: x[-1])\n",
    "    for (job_id, job_type, ratio) in jobs_and_ratios:\n",
    "        print('Job %d (%s): real / simulation: %.2fx' % (job_id, job_type, ratio))"
   ]
  },
  {
   "cell_type": "code",
   "execution_count": 9,
   "metadata": {
    "scrolled": false
   },
   "outputs": [],
   "source": [
    "def plot_ratios(ratios):\n",
    "    data, p = get_cdf(ratios)\n",
    "    plt.plot(data, p)\n",
    "    plt.xlim(xmin=0)\n",
    "    plt.xlabel('Real JCT / Simulation JCT')\n",
    "    plt.ylabel('Cumulative % of Jobs')"
   ]
  },
  {
   "cell_type": "code",
   "execution_count": 10,
   "metadata": {},
   "outputs": [],
   "source": [
    "def print_ratios_and_plot(policy):\n",
    "    simulation_logfile = '../../../logs/physical_cluster_experiments_osdi20/%s/simulation.log' % (policy)\n",
    "    real_logfile = '../../../logs/physical_cluster_experiments_osdi20/%s/server.log' % (policy)\n",
    "    simulation_jcts = get_jcts_from_logfile(simulation_logfile)\n",
    "    real_jcts = get_jcts_from_logfile(real_logfile)\n",
    "    ratios = get_ratios(simulation_jcts, real_jcts)\n",
    "    print_sorted_ratios(ratios)\n",
    "    plot_ratios(ratios)"
   ]
  },
  {
   "cell_type": "code",
   "execution_count": 11,
   "metadata": {},
   "outputs": [
    {
     "name": "stdout",
     "output_type": "stream",
     "text": [
      "Job 64 (Recommendation (batch size 4096)): real / simulation: 0.65x\n",
      "Job 30 (Recommendation (batch size 4096)): real / simulation: 0.86x\n",
      "Job 21 (CycleGAN): real / simulation: 0.89x\n",
      "Job 4 (ResNet-50 (batch size 128)): real / simulation: 0.95x\n",
      "Job 47 (ResNet-50 (batch size 128)): real / simulation: 0.96x\n",
      "Job 97 (A3C): real / simulation: 0.97x\n",
      "Job 43 (LM (batch size 20)): real / simulation: 0.97x\n",
      "Job 61 (LM (batch size 5)): real / simulation: 0.97x\n",
      "Job 96 (Transformer (batch size 16)): real / simulation: 0.97x\n",
      "Job 75 (LM (batch size 20)): real / simulation: 0.98x\n",
      "Job 66 (Recommendation (batch size 2048)): real / simulation: 0.99x\n",
      "Job 77 (ResNet-18 (batch size 64)): real / simulation: 0.99x\n",
      "Job 37 (Transformer (batch size 64)): real / simulation: 0.99x\n",
      "Job 81 (LM (batch size 5)): real / simulation: 0.99x\n",
      "Job 23 (LM (batch size 20)): real / simulation: 1.00x\n",
      "Job 14 (LM (batch size 10)): real / simulation: 1.00x\n",
      "Job 46 (LM (batch size 10)): real / simulation: 1.00x\n",
      "Job 90 (LM (batch size 20)): real / simulation: 1.00x\n",
      "Job 56 (CycleGAN): real / simulation: 1.00x\n",
      "Job 36 (ResNet-18 (batch size 128)): real / simulation: 1.00x\n",
      "Job 33 (Transformer (batch size 32)): real / simulation: 1.01x\n",
      "Job 51 (ResNet-18 (batch size 16)): real / simulation: 1.01x\n",
      "Job 16 (Transformer (batch size 16)): real / simulation: 1.01x\n",
      "Job 69 (LM (batch size 40)): real / simulation: 1.01x\n",
      "Job 45 (A3C): real / simulation: 1.01x\n",
      "Job 76 (A3C): real / simulation: 1.01x\n",
      "Job 78 (ResNet-18 (batch size 64)): real / simulation: 1.01x\n",
      "Job 95 (LM (batch size 40)): real / simulation: 1.02x\n",
      "Job 38 (Transformer (batch size 256)): real / simulation: 1.02x\n",
      "Job 83 (Transformer (batch size 16)): real / simulation: 1.02x\n",
      "Job 10 (LM (batch size 5)): real / simulation: 1.02x\n",
      "Job 2 (Transformer (batch size 256)): real / simulation: 1.02x\n",
      "Job 50 (LM (batch size 20)): real / simulation: 1.02x\n",
      "Job 9 (Transformer (batch size 16)): real / simulation: 1.02x\n",
      "Job 70 (ResNet-50 (batch size 64)): real / simulation: 1.02x\n",
      "Job 86 (Recommendation (batch size 2048)): real / simulation: 1.02x\n",
      "Job 71 (ResNet-50 (batch size 64)): real / simulation: 1.03x\n",
      "Job 8 (CycleGAN): real / simulation: 1.03x\n",
      "Job 34 (LM (batch size 5)): real / simulation: 1.03x\n",
      "Job 39 (Transformer (batch size 32)): real / simulation: 1.03x\n",
      "Job 89 (Transformer (batch size 32)): real / simulation: 1.03x\n",
      "Job 79 (Transformer (batch size 32)): real / simulation: 1.03x\n",
      "Job 85 (Transformer (batch size 16)): real / simulation: 1.03x\n",
      "Job 98 (ResNet-18 (batch size 64)): real / simulation: 1.04x\n",
      "Job 67 (ResNet-18 (batch size 64)): real / simulation: 1.04x\n",
      "Job 84 (LM (batch size 20)): real / simulation: 1.04x\n",
      "Job 63 (ResNet-50 (batch size 64)): real / simulation: 1.04x\n",
      "Job 35 (LM (batch size 20)): real / simulation: 1.04x\n",
      "Job 49 (CycleGAN): real / simulation: 1.04x\n",
      "Job 74 (CycleGAN): real / simulation: 1.04x\n",
      "Job 44 (LM (batch size 5)): real / simulation: 1.04x\n",
      "Job 62 (Transformer (batch size 32)): real / simulation: 1.04x\n",
      "Job 68 (ResNet-50 (batch size 32)): real / simulation: 1.05x\n",
      "Job 28 (Transformer (batch size 16)): real / simulation: 1.05x\n",
      "Job 88 (LM (batch size 20)): real / simulation: 1.05x\n",
      "Job 19 (ResNet-18 (batch size 128)): real / simulation: 1.05x\n",
      "Job 82 (ResNet-18 (batch size 128)): real / simulation: 1.05x\n",
      "Job 91 (ResNet-50 (batch size 32)): real / simulation: 1.05x\n",
      "Job 57 (Recommendation (batch size 1024)): real / simulation: 1.06x\n",
      "Job 18 (Recommendation (batch size 8192)): real / simulation: 1.06x\n",
      "Job 87 (ResNet-18 (batch size 128)): real / simulation: 1.06x\n",
      "Job 6 (LM (batch size 5)): real / simulation: 1.06x\n",
      "Job 32 (Recommendation (batch size 1024)): real / simulation: 1.06x\n",
      "Job 5 (LM (batch size 10)): real / simulation: 1.06x\n",
      "Job 80 (LM (batch size 10)): real / simulation: 1.06x\n",
      "Job 53 (Recommendation (batch size 4096)): real / simulation: 1.06x\n",
      "Job 3 (ResNet-18 (batch size 32)): real / simulation: 1.06x\n",
      "Job 48 (ResNet-18 (batch size 32)): real / simulation: 1.06x\n",
      "Job 25 (CycleGAN): real / simulation: 1.06x\n",
      "Job 72 (CycleGAN): real / simulation: 1.06x\n",
      "Job 7 (Transformer (batch size 128)): real / simulation: 1.06x\n",
      "Job 0 (Transformer (batch size 128)): real / simulation: 1.07x\n",
      "Job 54 (Transformer (batch size 128)): real / simulation: 1.07x\n",
      "Job 20 (LM (batch size 80)): real / simulation: 1.08x\n",
      "Job 12 (LM (batch size 40)): real / simulation: 1.08x\n",
      "Job 42 (ResNet-50 (batch size 32)): real / simulation: 1.08x\n",
      "Job 65 (Transformer (batch size 32)): real / simulation: 1.08x\n",
      "Job 40 (LM (batch size 80)): real / simulation: 1.08x\n",
      "Job 59 (ResNet-18 (batch size 16)): real / simulation: 1.08x\n",
      "Job 52 (ResNet-18 (batch size 64)): real / simulation: 1.08x\n",
      "Job 27 (ResNet-18 (batch size 256)): real / simulation: 1.08x\n",
      "Job 11 (Transformer (batch size 64)): real / simulation: 1.09x\n",
      "Job 13 (ResNet-50 (batch size 32)): real / simulation: 1.09x\n",
      "Job 17 (ResNet-18 (batch size 256)): real / simulation: 1.09x\n",
      "Job 94 (LM (batch size 20)): real / simulation: 1.10x\n",
      "Job 15 (ResNet-18 (batch size 256)): real / simulation: 1.11x\n",
      "Job 93 (LM (batch size 80)): real / simulation: 1.12x\n",
      "Job 92 (CycleGAN): real / simulation: 1.12x\n",
      "Job 26 (LM (batch size 80)): real / simulation: 1.13x\n",
      "Job 99 (LM (batch size 80)): real / simulation: 1.13x\n",
      "Job 29 (ResNet-18 (batch size 128)): real / simulation: 1.13x\n",
      "Job 31 (ResNet-18 (batch size 64)): real / simulation: 1.14x\n",
      "Job 22 (ResNet-50 (batch size 128)): real / simulation: 1.14x\n",
      "Job 73 (ResNet-18 (batch size 256)): real / simulation: 1.14x\n",
      "Job 60 (LM (batch size 80)): real / simulation: 1.15x\n",
      "Job 1 (Recommendation (batch size 8192)): real / simulation: 1.31x\n",
      "Job 24 (Recommendation (batch size 2048)): real / simulation: 1.79x\n",
      "Job 55 (Recommendation (batch size 2048)): real / simulation: 1.79x\n",
      "Job 58 (Recommendation (batch size 512)): real / simulation: 1.80x\n",
      "Job 41 (Recommendation (batch size 512)): real / simulation: 1.90x\n"
     ]
    },
    {
     "data": {
      "image/png": "[encoded data removed]",
      "text/plain": [
       "<Figure size 432x288 with 1 Axes>"
      ]
     },
     "metadata": {
      "needs_background": "light"
     },
     "output_type": "display_data"
    }
   ],
   "source": [
    "print_ratios_and_plot('min_total_duration')"
   ]
  },
  {
   "cell_type": "code",
   "execution_count": 12,
   "metadata": {},
   "outputs": [
    {
     "name": "stdout",
     "output_type": "stream",
     "text": [
      "Job 2 (Transformer (batch size 256)): real / simulation: 0.28x\n",
      "Job 76 (A3C): real / simulation: 0.57x\n",
      "Job 4 (ResNet-50 (batch size 128)): real / simulation: 0.78x\n",
      "Job 47 (ResNet-50 (batch size 128)): real / simulation: 0.82x\n",
      "Job 33 (Transformer (batch size 32)): real / simulation: 0.83x\n",
      "Job 7 (Transformer (batch size 128)): real / simulation: 0.83x\n",
      "Job 37 (Transformer (batch size 64)): real / simulation: 0.83x\n",
      "Job 99 (LM (batch size 80)): real / simulation: 0.84x\n",
      "Job 65 (Transformer (batch size 32)): real / simulation: 0.84x\n",
      "Job 61 (LM (batch size 5)): real / simulation: 0.85x\n",
      "Job 10 (LM (batch size 5)): real / simulation: 0.86x\n",
      "Job 77 (ResNet-18 (batch size 64)): real / simulation: 0.88x\n",
      "Job 98 (ResNet-18 (batch size 64)): real / simulation: 0.88x\n",
      "Job 20 (LM (batch size 80)): real / simulation: 0.89x\n",
      "Job 90 (LM (batch size 20)): real / simulation: 0.89x\n",
      "Job 8 (CycleGAN): real / simulation: 0.89x\n",
      "Job 43 (LM (batch size 20)): real / simulation: 0.90x\n",
      "Job 25 (CycleGAN): real / simulation: 0.91x\n",
      "Job 95 (LM (batch size 40)): real / simulation: 0.92x\n",
      "Job 0 (Transformer (batch size 128)): real / simulation: 0.93x\n",
      "Job 73 (ResNet-18 (batch size 256)): real / simulation: 0.94x\n",
      "Job 16 (Transformer (batch size 16)): real / simulation: 0.94x\n",
      "Job 89 (Transformer (batch size 32)): real / simulation: 0.95x\n",
      "Job 44 (LM (batch size 5)): real / simulation: 0.95x\n",
      "Job 9 (Transformer (batch size 16)): real / simulation: 0.97x\n",
      "Job 79 (Transformer (batch size 32)): real / simulation: 0.97x\n",
      "Job 23 (LM (batch size 20)): real / simulation: 0.97x\n",
      "Job 29 (ResNet-18 (batch size 128)): real / simulation: 0.97x\n",
      "Job 69 (LM (batch size 40)): real / simulation: 0.97x\n",
      "Job 54 (Transformer (batch size 128)): real / simulation: 0.98x\n",
      "Job 5 (LM (batch size 10)): real / simulation: 0.98x\n",
      "Job 80 (LM (batch size 10)): real / simulation: 1.00x\n",
      "Job 93 (LM (batch size 80)): real / simulation: 1.00x\n",
      "Job 19 (ResNet-18 (batch size 128)): real / simulation: 1.02x\n",
      "Job 14 (LM (batch size 10)): real / simulation: 1.02x\n",
      "Job 51 (ResNet-18 (batch size 16)): real / simulation: 1.02x\n",
      "Job 58 (Recommendation (batch size 512)): real / simulation: 1.02x\n",
      "Job 45 (A3C): real / simulation: 1.02x\n",
      "Job 88 (LM (batch size 20)): real / simulation: 1.02x\n",
      "Job 75 (LM (batch size 20)): real / simulation: 1.02x\n",
      "Job 31 (ResNet-18 (batch size 64)): real / simulation: 1.02x\n",
      "Job 6 (LM (batch size 5)): real / simulation: 1.03x\n",
      "Job 67 (ResNet-18 (batch size 64)): real / simulation: 1.03x\n",
      "Job 71 (ResNet-50 (batch size 64)): real / simulation: 1.03x\n",
      "Job 78 (ResNet-18 (batch size 64)): real / simulation: 1.03x\n",
      "Job 35 (LM (batch size 20)): real / simulation: 1.04x\n",
      "Job 39 (Transformer (batch size 32)): real / simulation: 1.04x\n",
      "Job 17 (ResNet-18 (batch size 256)): real / simulation: 1.05x\n",
      "Job 60 (LM (batch size 80)): real / simulation: 1.05x\n",
      "Job 91 (ResNet-50 (batch size 32)): real / simulation: 1.05x\n",
      "Job 49 (CycleGAN): real / simulation: 1.05x\n",
      "Job 21 (CycleGAN): real / simulation: 1.05x\n",
      "Job 63 (ResNet-50 (batch size 64)): real / simulation: 1.07x\n",
      "Job 48 (ResNet-18 (batch size 32)): real / simulation: 1.07x\n",
      "Job 40 (LM (batch size 80)): real / simulation: 1.07x\n",
      "Job 50 (LM (batch size 20)): real / simulation: 1.07x\n",
      "Job 83 (Transformer (batch size 16)): real / simulation: 1.07x\n",
      "Job 12 (LM (batch size 40)): real / simulation: 1.07x\n",
      "Job 97 (A3C): real / simulation: 1.08x\n",
      "Job 92 (CycleGAN): real / simulation: 1.08x\n",
      "Job 72 (CycleGAN): real / simulation: 1.08x\n",
      "Job 42 (ResNet-50 (batch size 32)): real / simulation: 1.09x\n",
      "Job 81 (LM (batch size 5)): real / simulation: 1.10x\n",
      "Job 34 (LM (batch size 5)): real / simulation: 1.10x\n",
      "Job 28 (Transformer (batch size 16)): real / simulation: 1.11x\n",
      "Job 82 (ResNet-18 (batch size 128)): real / simulation: 1.11x\n",
      "Job 59 (ResNet-18 (batch size 16)): real / simulation: 1.11x\n",
      "Job 56 (CycleGAN): real / simulation: 1.12x\n",
      "Job 94 (LM (batch size 20)): real / simulation: 1.13x\n",
      "Job 85 (Transformer (batch size 16)): real / simulation: 1.14x\n",
      "Job 62 (Transformer (batch size 32)): real / simulation: 1.14x\n",
      "Job 11 (Transformer (batch size 64)): real / simulation: 1.14x\n",
      "Job 46 (LM (batch size 10)): real / simulation: 1.15x\n",
      "Job 84 (LM (batch size 20)): real / simulation: 1.16x\n",
      "Job 13 (ResNet-50 (batch size 32)): real / simulation: 1.16x\n",
      "Job 74 (CycleGAN): real / simulation: 1.16x\n",
      "Job 22 (ResNet-50 (batch size 128)): real / simulation: 1.17x\n",
      "Job 36 (ResNet-18 (batch size 128)): real / simulation: 1.19x\n",
      "Job 68 (ResNet-50 (batch size 32)): real / simulation: 1.20x\n",
      "Job 3 (ResNet-18 (batch size 32)): real / simulation: 1.21x\n",
      "Job 52 (ResNet-18 (batch size 64)): real / simulation: 1.21x\n",
      "Job 70 (ResNet-50 (batch size 64)): real / simulation: 1.25x\n",
      "Job 15 (ResNet-18 (batch size 256)): real / simulation: 1.26x\n",
      "Job 26 (LM (batch size 80)): real / simulation: 1.29x\n",
      "Job 96 (Transformer (batch size 16)): real / simulation: 1.29x\n",
      "Job 38 (Transformer (batch size 256)): real / simulation: 1.32x\n",
      "Job 87 (ResNet-18 (batch size 128)): real / simulation: 1.34x\n",
      "Job 66 (Recommendation (batch size 2048)): real / simulation: 1.38x\n",
      "Job 27 (ResNet-18 (batch size 256)): real / simulation: 1.47x\n",
      "Job 55 (Recommendation (batch size 2048)): real / simulation: 1.48x\n",
      "Job 53 (Recommendation (batch size 4096)): real / simulation: 1.57x\n",
      "Job 32 (Recommendation (batch size 1024)): real / simulation: 1.64x\n",
      "Job 86 (Recommendation (batch size 2048)): real / simulation: 1.69x\n",
      "Job 30 (Recommendation (batch size 4096)): real / simulation: 1.72x\n",
      "Job 24 (Recommendation (batch size 2048)): real / simulation: 1.72x\n",
      "Job 64 (Recommendation (batch size 4096)): real / simulation: 1.88x\n",
      "Job 57 (Recommendation (batch size 1024)): real / simulation: 2.07x\n",
      "Job 41 (Recommendation (batch size 512)): real / simulation: 2.14x\n",
      "Job 1 (Recommendation (batch size 8192)): real / simulation: 2.20x\n",
      "Job 18 (Recommendation (batch size 8192)): real / simulation: 2.42x\n"
     ]
    },
    {
     "data": {
      "image/png": "[encoded data removed]",
      "text/plain": [
       "<Figure size 432x288 with 1 Axes>"
      ]
     },
     "metadata": {
      "needs_background": "light"
     },
     "output_type": "display_data"
    }
   ],
   "source": [
    "print_ratios_and_plot('gandiva')"
   ]
  },
  {
   "cell_type": "code",
   "execution_count": null,
   "metadata": {},
   "outputs": [],
   "source": []
  }
 ],
 "metadata": {
  "kernelspec": {
   "display_name": "Python 3",
   "language": "python",
   "name": "python3"
  },
  "language_info": {
   "codemirror_mode": {
    "name": "ipython",
    "version": 3
   },
   "file_extension": ".py",
   "mimetype": "text/x-python",
   "name": "python",
   "nbconvert_exporter": "python",
   "pygments_lexer": "ipython3",
   "version": "3.7.3"
  }
 },
 "nbformat": 4,
 "nbformat_minor": 2
}
