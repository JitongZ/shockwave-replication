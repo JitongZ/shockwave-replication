{
 "cells": [
  {
   "cell_type": "markdown",
   "metadata": {},
   "source": [
    "# Makespan policies"
   ]
  },
  {
   "cell_type": "markdown",
   "metadata": {},
   "source": [
    "In this notebook, we compare various heterogeneity-agnostic and heterogeneity-aware makespan policies, with and without space sharing."
   ]
  },
  {
   "cell_type": "markdown",
   "metadata": {},
   "source": [
    "## Import statements"
   ]
  },
  {
   "cell_type": "code",
   "execution_count": 1,
   "metadata": {},
   "outputs": [],
   "source": [
    "from plotting_utils import *\n",
    "from utils import get_logfile_paths, makespan_fn, prune"
   ]
  },
  {
   "cell_type": "markdown",
   "metadata": {},
   "source": [
    "## Get list of relevant logfiles and define label mapping"
   ]
  },
  {
   "cell_type": "code",
   "execution_count": 2,
   "metadata": {},
   "outputs": [],
   "source": [
    "logfile_paths = sorted(\n",
    "    get_logfile_paths(\n",
    "        \"/future/u/deepakn/gavel/logs/cluster_sweep_static_jobs_final/\", static_trace=True))"
   ]
  },
  {
   "cell_type": "markdown",
   "metadata": {},
   "source": [
    "## Plotting functions"
   ]
  },
  {
   "cell_type": "code",
   "execution_count": 3,
   "metadata": {},
   "outputs": [],
   "source": [
    "def plot_metric_vs_num_total_jobs(logfile_paths,\n",
    "                                  clusters, metric_fn,\n",
    "                                  metric_label, xmax=None, ymax=None,\n",
    "                                  output_filename=None):\n",
    "    plt.figure(figsize=(8, 3))\n",
    "    ax = plt.subplot2grid((1, 1), (0, 0), colspan=1)\n",
    "\n",
    "    data = {\"resource_fraction\": [], \"metric\": [], \"seed\": []}\n",
    "    for (v100s, k80s) in clusters:\n",
    "        p100s = 0\n",
    "        metrics = {}\n",
    "        for policy in [\"min_total_duration\", \"min_total_duration_perf\"]:\n",
    "            relevant_logfile_paths = list(reversed(prune(\n",
    "                logfile_paths, v100s, p100s, k80s, policy)))\n",
    "            metrics[policy] = {\n",
    "                x[2]: metric_fn(x[1])\n",
    "                for x in relevant_logfile_paths}\n",
    "            seeds = sorted(list(metrics[policy].keys()))\n",
    "\n",
    "        metrics_to_plot = [metrics[\"min_total_duration\"][seed] / metrics[\"min_total_duration_perf\"][seed]\n",
    "                           for seed in seeds]\n",
    "        import pandas as pd\n",
    "        data[\"resource_fraction\"] += [float(v100s) / (float(v100s) + float(k80s))\n",
    "                                     for seed in seeds]\n",
    "        data[\"metric\"] += metrics_to_plot\n",
    "        data[\"seed\"] += seeds\n",
    "    import pandas as pd\n",
    "    df = pd.DataFrame(data)\n",
    "    print(df.groupby([\"resource_fraction\", \"seed\"]).mean())\n",
    "\n",
    "    sns.lineplot(x='resource_fraction', y='metric',\n",
    "                 data=data, ci='sd',\n",
    "                 markers=True, marker='o')\n",
    "\n",
    "    ax.set_xlabel(\"Fraction of V100s\")\n",
    "    ax.set_ylabel(metric_label)\n",
    "    ax.set_xlim([0.05, 1.05])\n",
    "    ax.set_xticks([0.1, 0.2, 0.3, 0.4, 0.5, 0.6, 0.7, 0.8, 0.9, 1.0])\n",
    "    ax.set_ylim([0, ymax])\n",
    "    sns.despine()\n",
    "    \n",
    "    leg = plt.legend(frameon=False)\n",
    "    bb = leg.get_bbox_to_anchor().inverse_transformed(ax.transAxes)\n",
    "    bb.y0 += 0.22\n",
    "    bb.y1 += 0.22\n",
    "    leg.set_bbox_to_anchor(bb, transform=ax.transAxes)\n",
    "    \n",
    "    if output_filename is not None:\n",
    "        with PdfPages(output_filename) as pdf:\n",
    "            pdf.savefig(bbox_inches='tight')\n",
    "    \n",
    "    plt.show()"
   ]
  },
  {
   "cell_type": "markdown",
   "metadata": {},
   "source": [
    "## Plot makespan vs. number of jobs"
   ]
  },
  {
   "cell_type": "code",
   "execution_count": 4,
   "metadata": {
    "scrolled": false
   },
   "outputs": [
    {
     "name": "stderr",
     "output_type": "stream",
     "text": [
      "No handles with labels found to put in legend.\n"
     ]
    },
    {
     "name": "stdout",
     "output_type": "stream",
     "text": [
      "                          metric\n",
      "resource_fraction seed          \n",
      "0.1               0     1.399128\n",
      "                  1     1.533341\n",
      "                  2     1.373464\n",
      "0.2               0     1.499276\n",
      "                  1     1.588435\n",
      "                  2     1.377788\n",
      "0.3               0     1.578346\n",
      "                  1     1.592421\n",
      "                  2     1.370682\n",
      "0.4               0     1.604264\n",
      "                  1     1.524533\n",
      "                  2     1.353002\n",
      "0.5               0     1.666300\n",
      "                  1     1.330557\n",
      "                  2     1.357304\n",
      "0.6               0     1.673249\n",
      "                  1     1.224292\n",
      "                  2     1.372397\n",
      "0.7               0     1.491450\n",
      "                  1     1.088060\n",
      "                  2     1.322424\n",
      "0.8               0     1.356331\n",
      "                  1     1.074051\n",
      "                  2     1.229077\n",
      "0.9               0     1.237316\n",
      "                  1     1.057099\n",
      "                  2     1.136827\n",
      "1.0               0     1.000000\n",
      "                  1     1.000000\n",
      "                  2     1.000000\n"
     ]
    },
    {
     "name": "stderr",
     "output_type": "stream",
     "text": [
      "/lfs/1/keshav2/miniconda3/lib/python3.7/site-packages/ipykernel_launcher.py:43: MatplotlibDeprecationWarning: \n",
      "The inverse_transformed function was deprecated in Matplotlib 3.3 and will be removed two minor releases later. Use transformed(transform.inverted()) instead.\n"
     ]
    },
    {
     "data": {
      "image/png": "[encoded data removed]",
      "text/plain": [
       "<Figure size 576x216 with 1 Axes>"
      ]
     },
     "metadata": {},
     "output_type": "display_data"
    }
   ],
   "source": [
    "plot_metric_vs_num_total_jobs(\n",
    "    logfile_paths,\n",
    "    clusters=[(100, 0), (90, 10), (80, 20), (70, 30), (60, 40),\n",
    "              (50, 50), (40, 60), (30, 70), (20, 80), (10, 90)],\n",
    "    metric_fn=makespan_fn,\n",
    "    metric_label=\"Makespan reduction\",\n",
    "    xmax=None,\n",
    "    ymax=None,\n",
    "    output_filename=\"cluster_sweep/makespan.pdf\"\n",
    ")"
   ]
  }
 ],
 "metadata": {
  "kernelspec": {
   "display_name": "Python 3",
   "language": "python",
   "name": "python3"
  },
  "language_info": {
   "codemirror_mode": {
    "name": "ipython",
    "version": 3
   },
   "file_extension": ".py",
   "mimetype": "text/x-python",
   "name": "python",
   "nbconvert_exporter": "python",
   "pygments_lexer": "ipython3",
   "version": "3.7.3"
  }
 },
 "nbformat": 4,
 "nbformat_minor": 2
}
