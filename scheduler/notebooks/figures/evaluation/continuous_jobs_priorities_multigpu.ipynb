{
 "cells": [
  {
   "cell_type": "markdown",
   "metadata": {},
   "source": [
    "# Results of simulation of different fairness policies\n",
    "\n",
    "These experiments use accumulated deficits to try to ensure that applications always receive their computed allocation of GPU time, even in the event of new jobs coming in and old jobs finishing, by keeping track of the difference between the GPU time the application should have received, and the GPU time the application actually received. Allocation of jobs to GPUs is performed in a round-based fashion, with GPUs instructed to run jobs for a fixed interval of time on all GPUs."
   ]
  },
  {
   "cell_type": "markdown",
   "metadata": {},
   "source": [
    "# Import statements"
   ]
  },
  {
   "cell_type": "code",
   "execution_count": 1,
   "metadata": {},
   "outputs": [],
   "source": [
    "# Imports for plotting.\n",
    "from matplotlib import pyplot as plt\n",
    "from matplotlib.backends.backend_pdf import PdfPages\n",
    "import matplotlib.lines as mlines\n",
    "import matplotlib.patches as mpatches\n",
    "from matplotlib.ticker import MultipleLocator\n",
    "from pylab import *\n",
    "import seaborn as sns\n",
    "from matplotlib import rc\n",
    "sns.set_style('ticks')\n",
    "font = {\n",
    "    'font.family':'Roboto',\n",
    "    'font.size': 12,\n",
    "}\n",
    "sns.set_style(font)\n",
    "paper_rc = {\n",
    "    'lines.linewidth': 3,\n",
    "    'lines.markersize': 10,\n",
    "}\n",
    "sns.set_context(\"paper\", font_scale=2,  rc=paper_rc)\n",
    "current_palette = sns.color_palette()"
   ]
  },
  {
   "cell_type": "code",
   "execution_count": 2,
   "metadata": {},
   "outputs": [],
   "source": [
    "# Other imports.\n",
    "import os\n",
    "import pickle\n",
    "import re"
   ]
  },
  {
   "cell_type": "markdown",
   "metadata": {},
   "source": [
    "# Get logfile paths"
   ]
  },
  {
   "cell_type": "code",
   "execution_count": 3,
   "metadata": {},
   "outputs": [],
   "source": [
    "def get_logfile_paths_helper(directory_name):\n",
    "    logfile_paths = []\n",
    "    for root, _, file_names in os.walk(directory_name):\n",
    "        if len(file_names) > 0:\n",
    "            logfile_paths.extend(\n",
    "                [os.path.join(root, file_name)\n",
    "                 for file_name in file_names])\n",
    "    return logfile_paths\n",
    "\n",
    "def get_logfile_paths(directory_name):\n",
    "    logfile_paths = []\n",
    "    for logfile_path in get_logfile_paths_helper(directory_name):\n",
    "        m = re.match(\n",
    "            r'.*v100=(\\d+)\\.p100=(\\d+)\\.k80=(\\d+)/(.*)/seed=(\\d+)/'\n",
    "             'lambda=(\\d+\\.\\d+)\\.log', logfile_path)\n",
    "        if m is None: continue\n",
    "        v100s = int(m.group(1))\n",
    "        p100s = int(m.group(2))\n",
    "        k80s = int(m.group(3))\n",
    "        policy = m.group(4)\n",
    "        seed = int(m.group(5))\n",
    "        l = float(m.group(6))\n",
    "        logfile_paths.append((v100s, p100s, k80s, policy, seed,\n",
    "                              l, logfile_path))\n",
    "    return logfile_paths"
   ]
  },
  {
   "cell_type": "code",
   "execution_count": 4,
   "metadata": {},
   "outputs": [],
   "source": [
    "labels = {\"max_min_fairness_water_filling\": \"LAS\",\n",
    "          \"max_min_fairness_water_filling_perf\": \"Gavel\"}"
   ]
  },
  {
   "cell_type": "markdown",
   "metadata": {},
   "source": [
    "# Plotting functions"
   ]
  },
  {
   "cell_type": "code",
   "execution_count": 5,
   "metadata": {},
   "outputs": [],
   "source": [
    "def prune(logfile_paths, v100s, p100s, k80s, policy, seed=None):\n",
    "    if seed is None:\n",
    "        return sorted([(x[5], x[6], x[4]) for x in logfile_paths\n",
    "                       if x[0] == v100s and x[1] == p100s and\n",
    "                       x[2] == k80s and x[3] == policy])\n",
    "    else:\n",
    "        return sorted([(x[5], x[6]) for x in logfile_paths\n",
    "                       if x[0] == v100s and x[1] == p100s and\n",
    "                       x[2] == k80s and x[3] == policy and\n",
    "                       x[4] == seed])"
   ]
  },
  {
   "cell_type": "code",
   "execution_count": 6,
   "metadata": {},
   "outputs": [],
   "source": [
    "def plot_metric_vs_inverse_lambda(logfile_paths,\n",
    "                                  v100s, p100s, k80s,\n",
    "                                  policies, metric_fns,\n",
    "                                  metric_fn_labels,\n",
    "                                  metric_label,\n",
    "                                  xmin=0,\n",
    "                                  xmax=None,\n",
    "                                  ymin=0,\n",
    "                                  ymax=None,\n",
    "                                  output_filename=None):\n",
    "    plt.figure(figsize=(6, 3))\n",
    "    ax = plt.subplot2grid((1, 1), (0, 0), colspan=1)\n",
    "\n",
    "    data = {\"input_job_rate\": [], \"metric\": [], \"seed\": [],\n",
    "            \"policy\": []}\n",
    "    for policy in policies:\n",
    "        relevant_logfile_paths = list(reversed(prune(\n",
    "            logfile_paths, v100s, p100s, k80s, policy)))\n",
    "        for metric_fn_label, metric_fn in zip(metric_fn_labels, metric_fns):\n",
    "            lambdas = [x[0] for x in relevant_logfile_paths]\n",
    "            input_job_rates = [3600.0 / x for x in lambdas]\n",
    "            metrics = [metric_fn(x[1]) for x in relevant_logfile_paths]\n",
    "            seeds = [x[2] for x in relevant_logfile_paths]\n",
    "            policies = [labels[policy] + \" (%s)\" % metric_fn_label\n",
    "                        for i in range(len(metrics))]\n",
    "\n",
    "            import pandas as pd\n",
    "            data[\"input_job_rate\"] += input_job_rates\n",
    "            data[\"metric\"] += metrics\n",
    "            data[\"seed\"] += seeds\n",
    "            data[\"policy\"] += policies\n",
    "    import pandas as pd\n",
    "    df = pd.DataFrame(data)\n",
    "    print(df.groupby([\"policy\", \"input_job_rate\"]).mean())\n",
    "\n",
    "    sns.lineplot(x='input_job_rate', y='metric', style='policy',\n",
    "                 hue='policy',\n",
    "                 data=data, ci='sd',\n",
    "                 markers=True)\n",
    "\n",
    "    ax.set_xlabel(\"Input job rate (jobs/hr)\")\n",
    "    ax.set_ylabel(metric_label)\n",
    "    ax.set_xlim([xmin, xmax])\n",
    "    ax.set_ylim([ymin, ymax])\n",
    "    sns.despine()\n",
    "    \n",
    "    leg = plt.legend(frameon=False)\n",
    "    bb = leg.get_bbox_to_anchor().inverse_transformed(ax.transAxes)\n",
    "    bb.y0 += 0.22\n",
    "    bb.y1 += 0.22\n",
    "    leg.set_bbox_to_anchor(bb, transform=ax.transAxes)\n",
    "    \n",
    "    if output_filename is not None:\n",
    "        with PdfPages(output_filename) as pdf:\n",
    "            pdf.savefig(bbox_inches='tight')\n",
    "    \n",
    "    plt.show()"
   ]
  },
  {
   "cell_type": "code",
   "execution_count": 7,
   "metadata": {},
   "outputs": [],
   "source": [
    "def average_jct_low_priority_fn(logfile_path, min_job_id=None,\n",
    "                                max_job_id=None):\n",
    "    job_completion_times = []\n",
    "    with open(logfile_path, 'rb') as f:\n",
    "        f.seek(-8192, os.SEEK_END)\n",
    "        text = f.read().decode('utf-8')\n",
    "        lines = text.split('\\n')\n",
    "        for line in lines[-5:]:\n",
    "            m = re.match(r'Average job completion time \\(low priority\\): (\\d+\\.\\d+) seconds', line)\n",
    "            if m is not None:\n",
    "                return float(m.group(1)) / 3600\n",
    "    return None"
   ]
  },
  {
   "cell_type": "code",
   "execution_count": 8,
   "metadata": {},
   "outputs": [],
   "source": [
    "def average_jct_high_priority_fn(logfile_path, min_job_id=None,\n",
    "                                 max_job_id=None):\n",
    "    job_completion_times = []\n",
    "    with open(logfile_path, 'rb') as f:\n",
    "        f.seek(-8192, os.SEEK_END)\n",
    "        text = f.read().decode('utf-8')\n",
    "        lines = text.split('\\n')\n",
    "        for line in lines[-5:]:\n",
    "            m = re.match(r'Average job completion time \\(high priority\\): (\\d+\\.\\d+) seconds', line)\n",
    "            if m is not None:\n",
    "                return float(m.group(1)) / 3600\n",
    "    return None"
   ]
  },
  {
   "cell_type": "markdown",
   "metadata": {},
   "source": [
    "# Plot average JCT versus input job rate for multi-GPU traces"
   ]
  },
  {
   "cell_type": "code",
   "execution_count": 9,
   "metadata": {},
   "outputs": [],
   "source": [
    "multigpu_logfile_paths = sorted(get_logfile_paths(\n",
    "    \"/lfs/1/deepak/gpusched/scheduler/logs/multi_gpu_continuous_jobs_priorities_final/\"))"
   ]
  },
  {
   "cell_type": "code",
   "execution_count": 10,
   "metadata": {},
   "outputs": [
    {
     "name": "stdout",
     "output_type": "stream",
     "text": [
      "V100s=36, P100s=36, K80s=36; Jobs 4000-5000\n",
      "                                 metric  seed\n",
      "policy       input_job_rate                  \n",
      "Gavel (high) 0.2              20.064418     1\n",
      "             0.4              20.103030     1\n",
      "             0.6              20.101805     1\n",
      "             0.8              19.974162     1\n",
      "             1.0              19.750648     1\n",
      "             1.2              19.396618     1\n",
      "             1.4              19.172189     1\n",
      "             1.6              18.962719     1\n",
      "             1.8              18.897935     1\n",
      "             2.0              18.921760     1\n",
      "             2.2              19.004482     1\n",
      "             2.4              18.552369     1\n",
      "             2.6                    NaN     1\n",
      "             2.8                    NaN     1\n",
      "             3.0                    NaN     1\n",
      "Gavel (low)  0.2              17.556564     1\n",
      "             0.4              17.593079     1\n",
      "             0.6              17.612494     1\n",
      "             0.8              17.553809     1\n",
      "             1.0              17.430138     1\n",
      "             1.2              17.244104     1\n",
      "             1.4              17.111152     1\n",
      "             1.6              17.152336     1\n",
      "             1.8              17.419203     1\n",
      "             2.0              18.041001     1\n",
      "             2.2              19.275665     1\n",
      "             2.4              20.180725     1\n",
      "             2.6                    NaN     1\n",
      "             2.8                    NaN     1\n",
      "             3.0                    NaN     1\n",
      "LAS (high)   0.2              27.900094     1\n",
      "             0.4              27.814171     1\n",
      "             0.6              27.923756     1\n",
      "             0.8              28.087915     1\n",
      "             1.0              28.297886     1\n",
      "             1.2              28.295517     1\n",
      "             1.4              28.241963     1\n",
      "             1.6              28.339847     1\n",
      "             1.8              28.438444     1\n",
      "             2.0              28.586136     1\n",
      "             2.2              28.873510     1\n",
      "             2.4              28.460795     1\n",
      "             2.6              28.496079     1\n",
      "             2.8                    NaN     1\n",
      "             3.0                    NaN     1\n",
      "LAS (low)    0.2              24.431423     1\n",
      "             0.4              24.367467     1\n",
      "             0.6              24.475784     1\n",
      "             0.8              24.585875     1\n",
      "             1.0              24.697657     1\n",
      "             1.2              24.705180     1\n",
      "             1.4              24.733270     1\n",
      "             1.6              24.807546     1\n",
      "             1.8              24.970609     1\n",
      "             2.0              25.480074     1\n",
      "             2.2              27.979461     1\n",
      "             2.4              54.355580     1\n",
      "             2.6             129.112257     1\n",
      "             2.8                    NaN     1\n",
      "             3.0                    NaN     1\n"
     ]
    },
    {
     "data": {
      "image/png": "[encoded data removed]",
      "text/plain": [
       "<Figure size 432x216 with 1 Axes>"
      ]
     },
     "metadata": {},
     "output_type": "display_data"
    }
   ],
   "source": [
    "print(\"V100s=36, P100s=36, K80s=36; Jobs 4000-5000\")\n",
    "plot_metric_vs_inverse_lambda(\n",
    "    multigpu_logfile_paths,\n",
    "    v100s=36, p100s=36, k80s=36,\n",
    "    policies=[\"isolated\",\n",
    "              \"max_min_fairness_water_filling\", \"max_min_fairness_water_filling_perf\"],\n",
    "    metric_fns=[lambda x: average_jct_low_priority_fn(\n",
    "                    x, min_job_id=4000, max_job_id=5000),\n",
    "                lambda x: average_jct_high_priority_fn(\n",
    "                    x, min_job_id=4000, max_job_id=5000)],\n",
    "    metric_fn_labels=[\"low\", \"high\"],\n",
    "    metric_label=\"Average JCT (hours)\",\n",
    "    xmax=3.0,\n",
    "    ymax=100.0,\n",
    "    output_filename=\"continuous_jobs/multi_gpu_las_priorities_v100=36_p100=36_k80=36.pdf\"\n",
    ")"
   ]
  }
 ],
 "metadata": {
  "kernelspec": {
   "display_name": "Python 3",
   "language": "python",
   "name": "python3"
  },
  "language_info": {
   "codemirror_mode": {
    "name": "ipython",
    "version": 3
   },
   "file_extension": ".py",
   "mimetype": "text/x-python",
   "name": "python",
   "nbconvert_exporter": "python",
   "pygments_lexer": "ipython3",
   "version": "3.7.6"
  }
 },
 "nbformat": 4,
 "nbformat_minor": 2
}
