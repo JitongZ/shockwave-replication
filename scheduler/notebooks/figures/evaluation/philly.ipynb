{
 "cells": [
  {
   "cell_type": "markdown",
   "metadata": {},
   "source": [
    "# Results of simulation of different fairness policies\n",
    "\n",
    "These experiments use accumulated deficits to try to ensure that applications always receive their computed allocation of GPU time, even in the event of new jobs coming in and old jobs finishing, by keeping track of the difference between the GPU time the application should have received, and the GPU time the application actually received. Allocation of jobs to GPUs is performed in a round-based fashion, with GPUs instructed to run jobs for a fixed interval of time on all GPUs."
   ]
  },
  {
   "cell_type": "markdown",
   "metadata": {},
   "source": [
    "# Import statements"
   ]
  },
  {
   "cell_type": "code",
   "execution_count": 1,
   "metadata": {},
   "outputs": [],
   "source": [
    "from matplotlib import pyplot as plt\n",
    "from matplotlib.backends.backend_pdf import PdfPages\n",
    "import matplotlib.lines as mlines\n",
    "import matplotlib.patches as mpatches\n",
    "from matplotlib.ticker import MultipleLocator\n",
    "from pylab import *\n",
    "import seaborn as sns\n",
    "from matplotlib import rc\n",
    "sns.set_style('ticks')\n",
    "font = {\n",
    "    'font.family':'Times New Roman',\n",
    "    'font.size': 12,\n",
    "}\n",
    "sns.set_style(font)\n",
    "paper_rc = {\n",
    "    'lines.linewidth': 3,\n",
    "    'lines.markersize': 10,\n",
    "}\n",
    "sns.set_context(\"paper\", font_scale=2,  rc=paper_rc)\n",
    "current_palette = sns.color_palette()"
   ]
  },
  {
   "cell_type": "code",
   "execution_count": 2,
   "metadata": {},
   "outputs": [],
   "source": [
    "# Other imports.\n",
    "import os\n",
    "import pickle\n",
    "import re"
   ]
  },
  {
   "cell_type": "code",
   "execution_count": 3,
   "metadata": {},
   "outputs": [],
   "source": [
    "LOAD_FROM_PICKLED_DATA = True"
   ]
  },
  {
   "cell_type": "code",
   "execution_count": 4,
   "metadata": {},
   "outputs": [],
   "source": [
    "reading_f = None\n",
    "writing_f = None\n",
    "if LOAD_FROM_PICKLED_DATA:\n",
    "    reading_f = open(\"philly/data.pickle\", 'rb')\n",
    "else:\n",
    "    writing_f = open(\"philly/data.pickle\", 'wb')"
   ]
  },
  {
   "cell_type": "markdown",
   "metadata": {},
   "source": [
    "# Get logfile paths"
   ]
  },
  {
   "cell_type": "code",
   "execution_count": 5,
   "metadata": {},
   "outputs": [],
   "source": [
    "def get_logfile_paths_helper(directory_name):\n",
    "    logfile_paths = []\n",
    "    for root, _, file_names in os.walk(directory_name):\n",
    "        if len(file_names) > 0:\n",
    "            logfile_paths.extend(\n",
    "                [os.path.join(root, file_name)\n",
    "                 for file_name in file_names])\n",
    "    return logfile_paths\n",
    "\n",
    "def get_logfile_paths(directory_name):\n",
    "    logfile_paths = []\n",
    "    for logfile_path in get_logfile_paths_helper(directory_name):\n",
    "        m = re.match(\n",
    "            r'.*vc=(.*)/v100=(\\d+)\\.p100=(\\d+)\\.k80=(\\d+)/(.*)/seed=(\\d+)\\.log',\n",
    "            logfile_path)\n",
    "        if m is None: continue\n",
    "        vc = m.group(1)\n",
    "        v100s = int(m.group(2))\n",
    "        p100s = int(m.group(3))\n",
    "        k80s = int(m.group(4))\n",
    "        policy = m.group(5)\n",
    "        seed = int(m.group(6))\n",
    "        logfile_paths.append((v100s, p100s, k80s, policy, seed,\n",
    "                              logfile_path))\n",
    "    return logfile_paths"
   ]
  },
  {
   "cell_type": "code",
   "execution_count": 6,
   "metadata": {},
   "outputs": [],
   "source": [
    "labels = {\"fifo\": \"FIFO\",\n",
    "          \"fifo_perf\": \"FIFO+perf\",\n",
    "          \"fifo_packed\": \"FIFO+perf+packed\",\n",
    "          \"max_min_fairness\": \"LAS\",\n",
    "          \"max_min_fairness_perf\": \"LAS+perf\",\n",
    "          \"max_min_fairness_packed\": \"LAS+perf+packed\"}"
   ]
  },
  {
   "cell_type": "markdown",
   "metadata": {},
   "source": [
    "# Plotting functions"
   ]
  },
  {
   "cell_type": "code",
   "execution_count": 7,
   "metadata": {},
   "outputs": [],
   "source": [
    "def prune(logfile_paths, v100s, p100s, k80s, policy, seed):\n",
    "    return sorted([x[5] for x in logfile_paths\n",
    "                   if x[0] == v100s and x[1] == p100s and\n",
    "                   x[2] == k80s and x[3] == policy and\n",
    "                   x[4] == seed])"
   ]
  },
  {
   "cell_type": "code",
   "execution_count": 8,
   "metadata": {},
   "outputs": [],
   "source": [
    "def plot_metric_vs_inverse_lambda(logfile_paths,\n",
    "                                  v100s, p100s, k80s,\n",
    "                                  seed,\n",
    "                                  policies, metric_fn,\n",
    "                                  xlabel,\n",
    "                                  metric_label,\n",
    "                                  sort_by_job_id=False,\n",
    "                                  xmin=0,\n",
    "                                  xmax=None,\n",
    "                                  ymin=0,\n",
    "                                  ymax=None,\n",
    "                                  output_filename=None):\n",
    "    plt.figure(figsize=(5, 3.5))\n",
    "    ax = plt.subplot2grid((1, 1), (0, 0), colspan=1)\n",
    "\n",
    "    if reading_f is not None:\n",
    "        data = pickle.load(reading_f)\n",
    "    else:\n",
    "        data = {\"percentages\": [], \"metric\": [],\n",
    "                \"policy\": []}\n",
    "        for policy in policies:\n",
    "            relevant_logfile_paths = list(reversed(prune(\n",
    "                logfile_paths, v100s, p100s, k80s, policy, seed)))\n",
    "            if len(relevant_logfile_paths) == 0:\n",
    "                continue\n",
    "            metrics = metric_fn(relevant_logfile_paths[0])\n",
    "            if isinstance(metrics, dict):\n",
    "                if sort_by_job_id:\n",
    "                    metrics = list(metrics.items())\n",
    "                    metrics.sort(key=lambda x: x[0])\n",
    "                    metrics = [value for (_, value) in metrics]\n",
    "                else:\n",
    "                    metrics = list(metrics.values())\n",
    "                    metrics.sort()\n",
    "                percentages = [(float(i) * 100.0) / len(metrics) for i in range(len(metrics))]\n",
    "                ax.set_xlabel(\"CDF (%)\")\n",
    "            else:\n",
    "                percentages = list(range(len(metrics)))\n",
    "                ax.set_xlabel(\"Departing job index\")\n",
    "            policies = [labels[policy] for i in range(len(metrics))]\n",
    "\n",
    "            import pandas as pd\n",
    "            data[\"percentages\"] += percentages\n",
    "            data[\"metric\"] += metrics\n",
    "            data[\"policy\"] += policies\n",
    "        pickle.dump(data, writing_f)\n",
    "\n",
    "    sns.lineplot(x='metric', y='percentages', style='policy',\n",
    "                 hue='policy',\n",
    "                 data=data, ci='sd')\n",
    "\n",
    "    ax.set_ylabel(xlabel)\n",
    "    ax.set_xlabel(metric_label)\n",
    "    ax.set_ylim([xmin, xmax])\n",
    "    ax.set_xlim([ymin, ymax])\n",
    "    sns.despine()\n",
    "    \n",
    "    plt.legend()\n",
    "    \n",
    "    if output_filename is not None:\n",
    "        with PdfPages(output_filename) as pdf:\n",
    "            pdf.savefig(bbox_inches='tight')\n",
    "    \n",
    "    plt.show()"
   ]
  },
  {
   "cell_type": "code",
   "execution_count": 9,
   "metadata": {},
   "outputs": [],
   "source": [
    "def jcts_fn(logfile_path):\n",
    "    with open(logfile_path, 'rb') as f:\n",
    "        f.seek(-100000, os.SEEK_END)\n",
    "        text = f.read().decode('utf-8')\n",
    "        lines = text.split('\\n')\n",
    "        job_completion_times = {}\n",
    "        for line in lines:\n",
    "            m = re.match(r'Job (\\d+): (\\d+\\.\\d+)', line)\n",
    "            if m is not None:\n",
    "                job_id = int(m.group(1))\n",
    "                job_completion_times[job_id] = \\\n",
    "                    float(m.group(2)) / 3600.0\n",
    "    return job_completion_times"
   ]
  },
  {
   "cell_type": "code",
   "execution_count": 10,
   "metadata": {},
   "outputs": [],
   "source": [
    "def num_active_jobs_fn(logfile_path):\n",
    "    all_num_active_jobs = []\n",
    "    with open(logfile_path, 'r') as f:\n",
    "        for line in f:\n",
    "            m = re.match(r'Number of active jobs: (\\d+)', line)\n",
    "            if m is not None:\n",
    "                all_num_active_jobs.append(int(m.group(1)))\n",
    "    return all_num_active_jobs"
   ]
  },
  {
   "cell_type": "markdown",
   "metadata": {},
   "source": [
    "# Plot average JCT versus input job rate for single-GPU traces"
   ]
  },
  {
   "cell_type": "code",
   "execution_count": 11,
   "metadata": {},
   "outputs": [],
   "source": [
    "logfile_paths = sorted(\n",
    "    get_logfile_paths(\"/lfs/1/deepak/gpusched/scheduler/logs/philly_traces/\") +\n",
    "    get_logfile_paths(\"/lfs/1/deepak/gpusched/scheduler/logs/\"))"
   ]
  },
  {
   "cell_type": "code",
   "execution_count": 12,
   "metadata": {},
   "outputs": [
    {
     "name": "stdout",
     "output_type": "stream",
     "text": [
      "V100s=400, P100s=400, K80s=400\n"
     ]
    },
    {
     "data": {
      "image/png": "[encoded data removed]",
      "text/plain": [
       "<Figure size 360x252 with 1 Axes>"
      ]
     },
     "metadata": {
      "needs_background": "light"
     },
     "output_type": "display_data"
    },
    {
     "data": {
      "image/png": "[encoded data removed]",
      "text/plain": [
       "<Figure size 360x252 with 1 Axes>"
      ]
     },
     "metadata": {
      "needs_background": "light"
     },
     "output_type": "display_data"
    }
   ],
   "source": [
    "print(\"V100s=400, P100s=400, K80s=400\")\n",
    "plot_metric_vs_inverse_lambda(\n",
    "    logfile_paths,\n",
    "    v100s=400, p100s=400, k80s=400,\n",
    "    seed=0,\n",
    "    policies=[\"max_min_fairness\", \"max_min_fairness_perf\"],\n",
    "    metric_fn=jcts_fn,\n",
    "    xlabel=\"CDF (%)\",\n",
    "    metric_label=\"JCT (hours)\",\n",
    "    output_filename=\"philly/mmf_v100=400_p100=400_k80=400_jct_cdf.pdf\"\n",
    ")\n",
    "plot_metric_vs_inverse_lambda(\n",
    "    logfile_paths,\n",
    "    v100s=400, p100s=400, k80s=400,\n",
    "    seed=0,\n",
    "    policies=[\"fifo\", \"fifo_perf\"],\n",
    "    metric_fn=jcts_fn,\n",
    "    xlabel=\"CDF (%)\",\n",
    "    metric_label=\"JCT (hours)\",\n",
    "    output_filename=\"philly/fifo_v100=400_p100=400_k80=400_jct_cdf.pdf\"\n",
    ")"
   ]
  },
  {
   "cell_type": "code",
   "execution_count": 13,
   "metadata": {},
   "outputs": [],
   "source": [
    "if reading_f is not None:\n",
    "    reading_f.close()\n",
    "if writing_f is not None:\n",
    "    writing_f.close()"
   ]
  }
 ],
 "metadata": {
  "kernelspec": {
   "display_name": "Python 3",
   "language": "python",
   "name": "python3"
  },
  "language_info": {
   "codemirror_mode": {
    "name": "ipython",
    "version": 3
   },
   "file_extension": ".py",
   "mimetype": "text/x-python",
   "name": "python",
   "nbconvert_exporter": "python",
   "pygments_lexer": "ipython3",
   "version": "3.6.6"
  }
 },
 "nbformat": 4,
 "nbformat_minor": 2
}
