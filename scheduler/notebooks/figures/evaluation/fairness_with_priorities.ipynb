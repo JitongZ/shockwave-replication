{
 "cells": [
  {
   "cell_type": "markdown",
   "metadata": {},
   "source": [
    "# Results of simulation of different fairness policies\n",
    "\n",
    "These experiments use accumulated deficits to try to ensure that applications always receive their computed allocation of GPU time, even in the event of new jobs coming in and old jobs finishing, by keeping track of the difference between the GPU time the application should have received, and the GPU time the application actually received. Allocation of jobs to GPUs is performed in a round-based fashion, with GPUs instructed to run jobs for a fixed interval of time on all GPUs."
   ]
  },
  {
   "cell_type": "markdown",
   "metadata": {},
   "source": [
    "# Import statements"
   ]
  },
  {
   "cell_type": "code",
   "execution_count": null,
   "metadata": {},
   "outputs": [],
   "source": [
    "# Imports for plotting.\n",
    "from matplotlib import pyplot as plt\n",
    "from matplotlib.backends.backend_pdf import PdfPages\n",
    "import matplotlib.lines as mlines\n",
    "import matplotlib.patches as mpatches\n",
    "from matplotlib.ticker import MultipleLocator\n",
    "from pylab import *\n",
    "import seaborn as sns\n",
    "from matplotlib import rc\n",
    "rc('text',\n",
    "   usetex=True)\n",
    "sns.set_style('ticks')\n",
    "font = {\n",
    "    'font.family':'Times New Roman',\n",
    "    'font.weight': 200,\n",
    "    'font.size': 10,\n",
    "}\n",
    "sns.set_style(font)\n",
    "flatui = ['#002A5E', '#FD151B', '#8EBA42', '#348ABD', '#988ED5', '#BDB76B', '#8EBA42', '#FFB5B8']\n",
    "sns.set_palette(flatui)\n",
    "paper_rc = {\n",
    "    'lines.linewidth': 3,\n",
    "    'lines.markersize': 10,\n",
    "    'mathtext.fontset': 'custom',\n",
    "    'mathtext.rm': 'Times New Roman',\n",
    "    'mathtext.bf': 'Times New Roman:bold',\n",
    "}\n",
    "sns.set_context(\"paper\", font_scale=2,  rc=paper_rc)\n",
    "current_palette = sns.color_palette()"
   ]
  },
  {
   "cell_type": "code",
   "execution_count": null,
   "metadata": {},
   "outputs": [],
   "source": [
    "# Other imports.\n",
    "import os\n",
    "import pickle\n",
    "import re"
   ]
  },
  {
   "cell_type": "code",
   "execution_count": null,
   "metadata": {},
   "outputs": [],
   "source": [
    "LOAD_FROM_PICKLED_DATA = False"
   ]
  },
  {
   "cell_type": "code",
   "execution_count": null,
   "metadata": {},
   "outputs": [],
   "source": [
    "reading_f = None\n",
    "writing_f = None\n",
    "if LOAD_FROM_PICKLED_DATA:\n",
    "    reading_f = open(\"fairness_with_priorities/data.pickle\", 'rb')\n",
    "else:\n",
    "    writing_f = open(\"fairness_with_priorities/data.pickle\", 'wb')"
   ]
  },
  {
   "cell_type": "markdown",
   "metadata": {},
   "source": [
    "# Get logfile paths"
   ]
  },
  {
   "cell_type": "code",
   "execution_count": null,
   "metadata": {},
   "outputs": [],
   "source": [
    "def get_logfile_paths_helper(directory_name):\n",
    "    logfile_paths = []\n",
    "    for root, _, file_names in os.walk(directory_name):\n",
    "        if len(file_names) > 0:\n",
    "            logfile_paths.extend(\n",
    "                [os.path.join(root, file_name)\n",
    "                 for file_name in file_names])\n",
    "    return logfile_paths\n",
    "\n",
    "def get_logfile_paths(directory_name):\n",
    "    logfile_paths = []\n",
    "    for logfile_path in get_logfile_paths_helper(directory_name):\n",
    "        m = re.match(\n",
    "            r'.*v100=(\\d+)\\.p100=(\\d+)\\.k80=(\\d+)/(.*)/seed=(\\d+)/'\n",
    "             'lambda=(\\d+\\.\\d+)\\.log', logfile_path)\n",
    "        if m is None: continue\n",
    "        v100s = int(m.group(1))\n",
    "        p100s = int(m.group(2))\n",
    "        k80s = int(m.group(3))\n",
    "        policy = m.group(4)\n",
    "        seed = int(m.group(5))\n",
    "        l = float(m.group(6))\n",
    "        logfile_paths.append((v100s, p100s, k80s, policy, seed,\n",
    "                              l, logfile_path))\n",
    "    return logfile_paths"
   ]
  },
  {
   "cell_type": "code",
   "execution_count": null,
   "metadata": {},
   "outputs": [],
   "source": [
    "labels = {\"fifo\": \"FIFO\",\n",
    "          \"fifo_perf\": \"FIFO+perf\",\n",
    "          \"fifo_packed\": \"FIFO+perf+packed\",\n",
    "          \"max_min_fairness\": \"LAS\",\n",
    "          \"max_min_fairness_perf\": \"LAS+perf\",\n",
    "          \"max_min_fairness_packed\": \"LAS+perf+packed\"}"
   ]
  },
  {
   "cell_type": "markdown",
   "metadata": {},
   "source": [
    "# Plotting functions"
   ]
  },
  {
   "cell_type": "code",
   "execution_count": null,
   "metadata": {},
   "outputs": [],
   "source": [
    "def prune(logfile_paths, v100s, p100s, k80s, policy, seed=None):\n",
    "    if seed is None:\n",
    "        return sorted([(x[5], x[6], x[4]) for x in logfile_paths\n",
    "                       if x[0] == v100s and x[1] == p100s and\n",
    "                       x[2] == k80s and x[3] == policy])\n",
    "    else:\n",
    "        return sorted([(x[5], x[6]) for x in logfile_paths\n",
    "                       if x[0] == v100s and x[1] == p100s and\n",
    "                       x[2] == k80s and x[3] == policy and\n",
    "                       x[4] == seed])"
   ]
  },
  {
   "cell_type": "code",
   "execution_count": null,
   "metadata": {},
   "outputs": [],
   "source": [
    "def plot_metric_vs_inverse_lambda(logfile_paths,\n",
    "                                  v100s, p100s, k80s,\n",
    "                                  policies, metric_fns,\n",
    "                                  metric_fn_labels,\n",
    "                                  metric_label,\n",
    "                                  xmin=0,\n",
    "                                  xmax=None,\n",
    "                                  ymin=0,\n",
    "                                  ymax=None,\n",
    "                                  output_filename=None):\n",
    "    plt.figure(figsize=(8, 3.5))\n",
    "    ax = plt.subplot2grid((1, 1), (0, 0), colspan=1)\n",
    "\n",
    "    if reading_f is not None:\n",
    "        data = pickle.load(reading_f)\n",
    "    else:\n",
    "        data = {\"input_job_rate\": [], \"metric\": [], \"seed\": [],\n",
    "                \"policy\": []}\n",
    "        for policy in policies:\n",
    "            relevant_logfile_paths = list(reversed(prune(\n",
    "                logfile_paths, v100s, p100s, k80s, policy)))\n",
    "            for metric_fn_label, metric_fn in zip(metric_fn_labels, metric_fns):\n",
    "                lambdas = [x[0] for x in relevant_logfile_paths]\n",
    "                input_job_rates = [3600.0 / x for x in lambdas]\n",
    "                metrics = [metric_fn(x[1]) for x in relevant_logfile_paths]\n",
    "                seeds = [x[2] for x in relevant_logfile_paths]\n",
    "                policies = [labels[policy] + \" (%s)\" % metric_fn_label\n",
    "                            for i in range(len(metrics))]\n",
    "\n",
    "                import pandas as pd\n",
    "                data[\"input_job_rate\"] += input_job_rates\n",
    "                data[\"metric\"] += metrics\n",
    "                data[\"seed\"] += seeds\n",
    "                data[\"policy\"] += policies\n",
    "        pickle.dump(data, writing_f)\n",
    "\n",
    "    sns.lineplot(x='input_job_rate', y='metric', style='policy',\n",
    "                 hue='policy',\n",
    "                 data=data, ci='sd',\n",
    "                 markers=True)\n",
    "\n",
    "    ax.set_xlabel(\"Input job rate (jobs/hr)\")\n",
    "    ax.set_ylabel(metric_label)\n",
    "    ax.set_xlim([xmin, xmax])\n",
    "    ax.set_ylim([ymin, ymax])\n",
    "    sns.despine()\n",
    "    \n",
    "    plt.legend()\n",
    "    \n",
    "    if output_filename is not None:\n",
    "        with PdfPages(output_filename) as pdf:\n",
    "            pdf.savefig(bbox_inches='tight')\n",
    "    \n",
    "    plt.show()"
   ]
  },
  {
   "cell_type": "code",
   "execution_count": null,
   "metadata": {},
   "outputs": [],
   "source": [
    "def average_jct_low_priority_fn(logfile_path, min_job_id=None,\n",
    "                                max_job_id=None):\n",
    "    job_completion_times = []\n",
    "    with open(logfile_path, 'rb') as f:\n",
    "        f.seek(-8192, os.SEEK_END)\n",
    "        text = f.read().decode('utf-8')\n",
    "        lines = text.split('\\n')\n",
    "        for line in lines[-5:]:\n",
    "            m = re.match(r'Average job completion time \\(low priority\\): (\\d+\\.\\d+) seconds', line)\n",
    "            if m is not None:\n",
    "                return float(m.group(1)) / 3600\n",
    "    return None"
   ]
  },
  {
   "cell_type": "code",
   "execution_count": null,
   "metadata": {},
   "outputs": [],
   "source": [
    "def average_jct_high_priority_fn(logfile_path, min_job_id=None,\n",
    "                                 max_job_id=None):\n",
    "    job_completion_times = []\n",
    "    with open(logfile_path, 'rb') as f:\n",
    "        f.seek(-8192, os.SEEK_END)\n",
    "        text = f.read().decode('utf-8')\n",
    "        lines = text.split('\\n')\n",
    "        for line in lines[-5:]:\n",
    "            m = re.match(r'Average job completion time \\(high priority\\): (\\d+\\.\\d+) seconds', line)\n",
    "            if m is not None:\n",
    "                return float(m.group(1)) / 3600\n",
    "    return None"
   ]
  },
  {
   "cell_type": "markdown",
   "metadata": {},
   "source": [
    "# Plot average JCT versus input job rate for single-GPU traces"
   ]
  },
  {
   "cell_type": "code",
   "execution_count": null,
   "metadata": {},
   "outputs": [],
   "source": [
    "logfile_paths = sorted(get_logfile_paths(\n",
    "    \"/lfs/1/deepak/gpusched/scheduler/logs/single_gpu_trace_fairness_priorities_final/\"))"
   ]
  },
  {
   "cell_type": "code",
   "execution_count": null,
   "metadata": {
    "scrolled": false
   },
   "outputs": [],
   "source": [
    "print(\"V100s=64, P100s=0, K80s=0; Jobs 4000-5000\")\n",
    "plot_metric_vs_inverse_lambda(\n",
    "    logfile_paths,\n",
    "    v100s=64, p100s=0, k80s=0,\n",
    "    policies=[\"max_min_fairness\", \"max_min_fairness_perf\"],\n",
    "    metric_fns=[lambda x: average_jct_low_priority_fn(\n",
    "                    x, min_job_id=4000, max_job_id=5000),\n",
    "                lambda x: average_jct_high_priority_fn(\n",
    "                    x, min_job_id=4000, max_job_id=5000)],\n",
    "    metric_fn_labels=[\"low\", \"high\"],\n",
    "    metric_label=\"Average JCT\\n(hours)\",\n",
    "    xmax=3.1,\n",
    "    ymax=300.0,\n",
    "    output_filename=\"fairness_with_priorities/single_gpu_mmf_v100=64_p100=0_k80=0.pdf\"\n",
    ")"
   ]
  },
  {
   "cell_type": "code",
   "execution_count": null,
   "metadata": {},
   "outputs": [],
   "source": [
    "print(\"V100s=36, P100s=36, K80s=36; Jobs 4000-5000\")\n",
    "plot_metric_vs_inverse_lambda(\n",
    "    logfile_paths,\n",
    "    v100s=36, p100s=36, k80s=36,\n",
    "    policies=[\"max_min_fairness\", \"max_min_fairness_perf\"],\n",
    "    metric_fns=[lambda x: average_jct_low_priority_fn(\n",
    "                    x, min_job_id=4000, max_job_id=5000),\n",
    "                lambda x: average_jct_high_priority_fn(\n",
    "                    x, min_job_id=4000, max_job_id=5000)],\n",
    "    metric_fn_labels=[\"low\", \"high\"],\n",
    "    metric_label=\"Average JCT\\n(hours)\",\n",
    "    xmax=3.1,\n",
    "    ymax=300.0,\n",
    "    output_filename=\"fairness_with_priorities/single_gpu_mmf_v100=36_p100=36_k80=36.pdf\"\n",
    ")"
   ]
  },
  {
   "cell_type": "code",
   "execution_count": null,
   "metadata": {},
   "outputs": [],
   "source": [
    "print(\"V100s=48, P100s=32, K80s=16; Jobs 4000-5000\")\n",
    "plot_metric_vs_inverse_lambda(\n",
    "    logfile_paths,\n",
    "    v100s=48, p100s=32, k80s=16,\n",
    "    policies=[\"max_min_fairness\", \"max_min_fairness_perf\"],\n",
    "    metric_fns=[lambda x: average_jct_low_priority_fn(\n",
    "                    x, min_job_id=4000, max_job_id=5000),\n",
    "                lambda x: average_jct_high_priority_fn(\n",
    "                    x, min_job_id=4000, max_job_id=5000)],\n",
    "    metric_fn_labels=[\"low\", \"high\"],\n",
    "    metric_label=\"Average JCT\\n(hours)\",\n",
    "    xmax=3.1,\n",
    "    ymax=300.0,\n",
    "    output_filename=\"fairness_with_priorities/single_gpu_mmf_v100=48_p100=32_k80=16.pdf\"\n",
    ")"
   ]
  },
  {
   "cell_type": "markdown",
   "metadata": {},
   "source": [
    "# Plot average JCT versus input job rate for multi-GPU traces"
   ]
  },
  {
   "cell_type": "code",
   "execution_count": null,
   "metadata": {},
   "outputs": [],
   "source": [
    "multigpu_logfile_paths = sorted(get_logfile_paths(\n",
    "    \"/lfs/1/deepak/gpusched/scheduler/logs/multi_gpu_trace_fairness_priorities_final_v2/\"))"
   ]
  },
  {
   "cell_type": "code",
   "execution_count": null,
   "metadata": {},
   "outputs": [],
   "source": [
    "print(\"V100s=64, P100s=0, K80s=0; Jobs 4000-5000\")\n",
    "plot_metric_vs_inverse_lambda(\n",
    "    multigpu_logfile_paths,\n",
    "    v100s=64, p100s=0, k80s=0,\n",
    "    policies=[\"max_min_fairness\", \"max_min_fairness_perf\"],\n",
    "    metric_fns=[lambda x: average_jct_low_priority_fn(\n",
    "                    x, min_job_id=4000, max_job_id=5000),\n",
    "                lambda x: average_jct_high_priority_fn(\n",
    "                    x, min_job_id=4000, max_job_id=5000)],\n",
    "    metric_fn_labels=[\"low\", \"high\"],\n",
    "    metric_label=\"Average JCT\\n(hours)\",\n",
    "    xmax=1.6,\n",
    "    ymax=300.0,\n",
    "    output_filename=\"fairness_with_priorities/multi_gpu_mmf_v100=64_p100=0_k80=0.pdf\"\n",
    ")"
   ]
  },
  {
   "cell_type": "code",
   "execution_count": null,
   "metadata": {},
   "outputs": [],
   "source": [
    "print(\"V100s=36, P100s=36, K80s=36; Jobs 4000-5000\")\n",
    "plot_metric_vs_inverse_lambda(\n",
    "    multigpu_logfile_paths,\n",
    "    v100s=36, p100s=36, k80s=36,\n",
    "    policies=[\"max_min_fairness\", \"max_min_fairness_perf\"],\n",
    "    metric_fns=[lambda x: average_jct_low_priority_fn(\n",
    "                    x, min_job_id=4000, max_job_id=5000),\n",
    "                lambda x: average_jct_high_priority_fn(\n",
    "                    x, min_job_id=4000, max_job_id=5000)],\n",
    "    metric_fn_labels=[\"low\", \"high\"],\n",
    "    metric_label=\"Average JCT\\n(hours)\",\n",
    "    xmax=1.6,\n",
    "    ymax=300.0,\n",
    "    output_filename=\"fairness_with_priorities/multi_gpu_mmf_v100=36_p100=36_k80=36.pdf\"\n",
    ")"
   ]
  },
  {
   "cell_type": "code",
   "execution_count": null,
   "metadata": {},
   "outputs": [],
   "source": [
    "print(\"V100s=48, P100s=32, K80s=16; Jobs 4000-5000\")\n",
    "plot_metric_vs_inverse_lambda(\n",
    "    multigpu_logfile_paths,\n",
    "    v100s=48, p100s=32, k80s=16,\n",
    "    policies=[\"max_min_fairness\", \"max_min_fairness_perf\"],\n",
    "    metric_fns=[lambda x: average_jct_low_priority_fn(\n",
    "                    x, min_job_id=4000, max_job_id=5000),\n",
    "                lambda x: average_jct_high_priority_fn(\n",
    "                    x, min_job_id=4000, max_job_id=5000)],\n",
    "    metric_fn_labels=[\"low\", \"high\"],\n",
    "    metric_label=\"Average JCT\\n(hours)\",\n",
    "    xmax=1.6,\n",
    "    ymax=300.0,\n",
    "    output_filename=\"fairness_with_priorities/multi_gpu_mmf_v100=48_p100=32_k80=16.pdf\"\n",
    ")"
   ]
  },
  {
   "cell_type": "code",
   "execution_count": null,
   "metadata": {},
   "outputs": [],
   "source": [
    "if reading_f is not None:\n",
    "    reading_f.close()\n",
    "if writing_f is not None:\n",
    "    writing_f.close()"
   ]
  }
 ],
 "metadata": {
  "kernelspec": {
   "display_name": "Python 3",
   "language": "python",
   "name": "python3"
  },
  "language_info": {
   "codemirror_mode": {
    "name": "ipython",
    "version": 3
   },
   "file_extension": ".py",
   "mimetype": "text/x-python",
   "name": "python",
   "nbconvert_exporter": "python",
   "pygments_lexer": "ipython3",
   "version": "3.7.3"
  }
 },
 "nbformat": 4,
 "nbformat_minor": 2
}
