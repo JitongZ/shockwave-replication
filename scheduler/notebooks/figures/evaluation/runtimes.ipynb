{
 "cells": [
  {
   "cell_type": "markdown",
   "metadata": {},
   "source": [
    "# Results of simulation of different fairness policies\n",
    "\n",
    "These experiments use accumulated deficits to try to ensure that applications always receive their computed allocation of GPU time, even in the event of new jobs coming in and old jobs finishing, by keeping track of the difference between the GPU time the application should have received, and the GPU time the application actually received. Allocation of jobs to GPUs is performed in a round-based fashion, with GPUs instructed to run jobs for a fixed interval of time on all GPUs."
   ]
  },
  {
   "cell_type": "markdown",
   "metadata": {},
   "source": [
    "# Import statements"
   ]
  },
  {
   "cell_type": "code",
   "execution_count": 1,
   "metadata": {},
   "outputs": [],
   "source": [
    "# Imports for plotting.\n",
    "from matplotlib import pyplot as plt\n",
    "from matplotlib.backends.backend_pdf import PdfPages\n",
    "import matplotlib.lines as mlines\n",
    "import matplotlib.patches as mpatches\n",
    "from matplotlib.ticker import MultipleLocator\n",
    "from pylab import *\n",
    "import seaborn as sns\n",
    "from matplotlib import rc\n",
    "rc('text',\n",
    "   usetex=True)\n",
    "sns.set_style('ticks')\n",
    "font = {\n",
    "    'font.family':'Times New Roman',\n",
    "    'font.weight': 200,\n",
    "    'font.size': 10,\n",
    "}\n",
    "sns.set_style(font)\n",
    "flatui = ['#002A5E', '#FD151B', '#8EBA42', '#348ABD', '#988ED5', '#BDB76B', '#8EBA42', '#FFB5B8']\n",
    "sns.set_palette(flatui)\n",
    "paper_rc = {\n",
    "    'lines.linewidth': 3,\n",
    "    'lines.markersize': 10,\n",
    "    'mathtext.fontset': 'custom',\n",
    "    'mathtext.rm': 'Times New Roman',\n",
    "    'mathtext.bf': 'Times New Roman:bold',\n",
    "}\n",
    "sns.set_context(\"paper\", font_scale=2,  rc=paper_rc)\n",
    "current_palette = sns.color_palette()"
   ]
  },
  {
   "cell_type": "code",
   "execution_count": 2,
   "metadata": {},
   "outputs": [],
   "source": [
    "# Other imports.\n",
    "import os\n",
    "import re"
   ]
  },
  {
   "cell_type": "markdown",
   "metadata": {},
   "source": [
    "# Parse logfile"
   ]
  },
  {
   "cell_type": "code",
   "execution_count": 3,
   "metadata": {},
   "outputs": [],
   "source": [
    "def parse_logfile(logfile_name):\n",
    "    runtimes = {}\n",
    "    with open(logfile_name, 'r') as f:\n",
    "        for line in f:\n",
    "            m = re.match(\n",
    "                r'\\[Policy=(.*), Number of active jobs=(\\d+), '\n",
    "                 'Cluster\\_spec=(.*)\\] (\\d+\\.\\d+) seconds', line)\n",
    "            if m is None: continue\n",
    "            policy = m.group(1)\n",
    "            num_active_jobs = int(m.group(2))\n",
    "            cluster_spec = eval(m.group(3))\n",
    "            runtime = float(m.group(4))\n",
    "            if policy not in runtimes:\n",
    "                runtimes[policy] = []\n",
    "            runtimes[policy].append((num_active_jobs, cluster_spec, runtime))\n",
    "    return runtimes"
   ]
  },
  {
   "cell_type": "code",
   "execution_count": 4,
   "metadata": {},
   "outputs": [],
   "source": [
    "runtimes = \\\n",
    "    parse_logfile(\"runtimes/data.out\")"
   ]
  },
  {
   "cell_type": "markdown",
   "metadata": {},
   "source": [
    "# Plotting functions"
   ]
  },
  {
   "cell_type": "code",
   "execution_count": 5,
   "metadata": {},
   "outputs": [],
   "source": [
    "labels = {\"fifo\": \"FIFO\",\n",
    "          \"fifo_perf\": \"FIFO+perf\",\n",
    "          \"fifo_packed\": \"FIFO+perf+packed\",\n",
    "          \"max_min_fairness\": \"LAS\",\n",
    "          \"max_min_fairness_perf\": \"LAS+perf\",\n",
    "          \"max_min_fairness_packed\": \"LAS+perf+packed\"}\n",
    "\n",
    "def plot_runtime_vs_num_active_jobs(runtimes,\n",
    "                                    policies,\n",
    "                                    cluster_spec,\n",
    "                                    output_filename=None):\n",
    "    plt.figure(figsize=(8, 3.5))\n",
    "    ax = plt.subplot2grid((1, 1), (0, 0), colspan=1)\n",
    "\n",
    "    for policy in policies:\n",
    "        x_values = []\n",
    "        y_values = []\n",
    "\n",
    "        if policy not in runtimes:\n",
    "            continue\n",
    "        runtimes_per_policy = runtimes[policy]\n",
    "        for x in runtimes_per_policy:\n",
    "            if x[1] != cluster_spec:\n",
    "                continue\n",
    "                \n",
    "            x_values.append(x[0])\n",
    "            y_values.append(x[2])\n",
    "\n",
    "        ax.plot(x_values, y_values, marker='o',\n",
    "                label=labels[policy])\n",
    "\n",
    "    ax.axhline(y=1920, color='k', linestyle='--',\n",
    "               linewidth=2)\n",
    "    ax.set_xscale('log', basex=2)\n",
    "    ax.set_xlim([0, 1028])\n",
    "    ax.set_ylim([0, 2000])\n",
    "    ax.set_xlabel(\"Number of active jobs\")\n",
    "    ax.set_ylabel(\"Runtime (seconds)\")\n",
    "    sns.despine()\n",
    "    \n",
    "    plt.legend()\n",
    "    \n",
    "    if output_filename is not None:\n",
    "        with PdfPages(output_filename) as pdf:\n",
    "            pdf.savefig(bbox_inches='tight')\n",
    "    \n",
    "    plt.show()"
   ]
  },
  {
   "cell_type": "code",
   "execution_count": 6,
   "metadata": {
    "scrolled": false
   },
   "outputs": [
    {
     "name": "stderr",
     "output_type": "stream",
     "text": [
      "/lfs/1/keshav2/miniconda3/lib/python3.7/site-packages/ipykernel_launcher.py:35: UserWarning: Attempted to set non-positive left xlim on a log-scaled axis.\n",
      "Invalid limit will be ignored.\n",
      "findfont: Font family ['Times New Roman'] not found. Falling back to DejaVu Sans.\n"
     ]
    },
    {
     "data": {
      "image/png": "[encoded data removed]",
      "text/plain": [
       "<Figure size 576x252 with 1 Axes>"
      ]
     },
     "metadata": {
      "needs_background": "light"
     },
     "output_type": "display_data"
    }
   ],
   "source": [
    "plot_runtime_vs_num_active_jobs(runtimes, [\"max_min_fairness\",\n",
    "                                           \"max_min_fairness_perf\",\n",
    "                                           \"max_min_fairness_packed\"],\n",
    "                                {\"v100\": 64, \"p100\": 0, \"k80\": 0},\n",
    "                                output_filename=\"runtimes/single_gpu_mmf_v100=64_p100=0_k80=0.pdf\")"
   ]
  },
  {
   "cell_type": "code",
   "execution_count": 7,
   "metadata": {},
   "outputs": [
    {
     "name": "stderr",
     "output_type": "stream",
     "text": [
      "/lfs/1/keshav2/miniconda3/lib/python3.7/site-packages/ipykernel_launcher.py:35: UserWarning: Attempted to set non-positive left xlim on a log-scaled axis.\n",
      "Invalid limit will be ignored.\n"
     ]
    },
    {
     "data": {
      "image/png": "[encoded data removed]",
      "text/plain": [
       "<Figure size 576x252 with 1 Axes>"
      ]
     },
     "metadata": {
      "needs_background": "light"
     },
     "output_type": "display_data"
    }
   ],
   "source": [
    "plot_runtime_vs_num_active_jobs(runtimes, [\"max_min_fairness\",\n",
    "                                           \"max_min_fairness_perf\",\n",
    "                                           \"max_min_fairness_packed\"],\n",
    "                                {\"v100\": 36, \"p100\": 36, \"k80\": 36},\n",
    "                                output_filename=\"runtimes/single_gpu_mmf_v100=36_p100=36_k80=36.pdf\")"
   ]
  }
 ],
 "metadata": {
  "kernelspec": {
   "display_name": "Python 3",
   "language": "python",
   "name": "python3"
  },
  "language_info": {
   "codemirror_mode": {
    "name": "ipython",
    "version": 3
   },
   "file_extension": ".py",
   "mimetype": "text/x-python",
   "name": "python",
   "nbconvert_exporter": "python",
   "pygments_lexer": "ipython3",
   "version": "3.7.3"
  }
 },
 "nbformat": 4,
 "nbformat_minor": 2
}
