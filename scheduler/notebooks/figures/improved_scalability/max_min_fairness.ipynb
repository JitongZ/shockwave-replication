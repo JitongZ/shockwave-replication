{
 "cells": [
  {
   "cell_type": "markdown",
   "metadata": {},
   "source": [
    "# Max-min fairness"
   ]
  },
  {
   "cell_type": "markdown",
   "metadata": {},
   "source": [
    "In this notebook, we evaluate the impact of splitting larger optimization problems into smaller sub-problems on policy runtime and quality of solution for max-min fairness policies."
   ]
  },
  {
   "cell_type": "markdown",
   "metadata": {},
   "source": [
    "## Import statements"
   ]
  },
  {
   "cell_type": "code",
   "execution_count": 1,
   "metadata": {},
   "outputs": [],
   "source": [
    "import sys; sys.path.append(\"../../..\")\n",
    "from job_id_pair import JobIdPair\n",
    "import utils\n",
    "from plotting_utils import plot_runtimes, plot_effective_throughput_ratios\n",
    "from plotting_utils import plot_runtime_vs_effective_throughput_ratios\n",
    "\n",
    "import copy\n",
    "import numpy as np\n",
    "import random\n",
    "import time\n",
    "\n",
    "np.set_printoptions(precision=3, suppress=True)"
   ]
  },
  {
   "cell_type": "markdown",
   "metadata": {},
   "source": [
    "## Harness that runs a policy with the passed-in number of sub-clusters"
   ]
  },
  {
   "cell_type": "code",
   "execution_count": 2,
   "metadata": {},
   "outputs": [],
   "source": [
    "def create_problem_instance(num_jobs, cluster_spec,\n",
    "                            policy_name,\n",
    "                            seed,\n",
    "                            introduce_skew=False):\n",
    "    oracle_throughputs = utils.read_all_throughputs_json_v2(\"../../../simulation_throughputs.json\")\n",
    "    rng = random.Random()\n",
    "    rng.seed(seed)\n",
    "    jobs = {}\n",
    "    throughputs = {}\n",
    "    scale_factors = {}\n",
    "    priority_weights = {}\n",
    "    for i in range(num_jobs):\n",
    "        job_id = JobIdPair(i, None)\n",
    "        job = utils.generate_job(throughputs=oracle_throughputs,\n",
    "                                 rng=rng, job_id=job_id)\n",
    "        jobs[job_id[0]] = job\n",
    "        job_type_key = (job.job_type, job.scale_factor)\n",
    "        throughputs[job_id] = {}\n",
    "        for worker_type in cluster_spec:\n",
    "            throughputs[job_id][worker_type] = \\\n",
    "                oracle_throughputs[worker_type][job_type_key]['null']\n",
    "        scale_factors[job_id] = 1\n",
    "        if introduce_skew:\n",
    "            priority_weights[job_id] = (i % 4) + 1.0\n",
    "        else:\n",
    "            priority_weights[job_id] = 1.0\n",
    "    if 'pack' in policy_name:\n",
    "        for i in range(num_jobs):\n",
    "            job_type_key = (jobs[i].job_type, jobs[i].scale_factor)\n",
    "            for j in range(num_jobs):\n",
    "                if i < j and jobs[i].scale_factor == jobs[j].scale_factor:\n",
    "                    other_job_type_key = \\\n",
    "                        (jobs[j].job_type, jobs[j].scale_factor)\n",
    "                    throughputs[JobIdPair(i, j)] = {}\n",
    "                    for worker_type in cluster_spec:\n",
    "                        throughputs[JobIdPair(i, j)][worker_type] = \\\n",
    "                            oracle_throughputs[worker_type][job_type_key][other_job_type_key]\n",
    "    return throughputs, scale_factors, priority_weights"
   ]
  },
  {
   "cell_type": "code",
   "execution_count": 3,
   "metadata": {},
   "outputs": [],
   "source": [
    "def harness(policy, throughputs, scale_factors, priority_weights, cluster_spec, num_sub_clusters=1,\n",
    "            random_cluster_assignment=False):\n",
    "    start_time = time.time()\n",
    "    sub_cluster_throughputs = []\n",
    "    sub_cluster_scale_factors = []\n",
    "    sub_cluster_priority_weights = []\n",
    "    job_to_sub_cluster_assignment = {}\n",
    "    job_ids = []\n",
    "    for job_id in throughputs:\n",
    "        if not job_id.is_pair():\n",
    "            job_ids.append(job_id)\n",
    "    for i, job_id in enumerate(job_ids):\n",
    "        if random_cluster_assignment:\n",
    "            job_to_sub_cluster_assignment[job_id[0]] = random.randint(0, num_sub_clusters-1)\n",
    "        else:\n",
    "            job_to_sub_cluster_assignment[job_id[0]] = job_id[0] % num_sub_clusters\n",
    "    for i in range(num_sub_clusters):\n",
    "        sub_cluster_throughputs.append({})\n",
    "        sub_cluster_scale_factors.append({})\n",
    "        sub_cluster_priority_weights.append({})\n",
    "        for job_id in throughputs:\n",
    "            if (job_to_sub_cluster_assignment[job_id[0]] == i) and (\n",
    "                 not job_id.is_pair() or (job_to_sub_cluster_assignment[job_id[1]] == i)):\n",
    "                sub_cluster_throughputs[-1][job_id] = copy.copy(throughputs[job_id])\n",
    "                if not job_id.is_pair():\n",
    "                    sub_cluster_scale_factors[-1][job_id] = scale_factors[job_id]\n",
    "                    sub_cluster_priority_weights[-1][job_id] = priority_weights[job_id]\n",
    "    sub_cluster_cluster_spec = {worker_type: cluster_spec[worker_type] // num_sub_clusters\n",
    "                                for worker_type in cluster_spec}\n",
    "    setup_time = time.time() - start_time\n",
    "    full_allocation = {}\n",
    "    computation_times = []\n",
    "    for i in range(num_sub_clusters):\n",
    "        start_time = time.time()\n",
    "        if policy._name.startswith('MaxMinFairness'):\n",
    "            sub_cluster_allocation = policy.get_allocation(\n",
    "                sub_cluster_throughputs[i], sub_cluster_scale_factors[i],\n",
    "                sub_cluster_priority_weights[i], sub_cluster_cluster_spec)\n",
    "        else:\n",
    "            sub_cluster_allocation = policy.get_allocation(\n",
    "                sub_cluster_throughputs[i], sub_cluster_scale_factors[i],\n",
    "                sub_cluster_cluster_spec)\n",
    "        for job_id in sub_cluster_allocation:\n",
    "            full_allocation[job_id] = sub_cluster_allocation[job_id]\n",
    "        computation_times.append(time.time() - start_time)\n",
    "    return full_allocation, setup_time + max(computation_times)"
   ]
  },
  {
   "cell_type": "code",
   "execution_count": 4,
   "metadata": {},
   "outputs": [],
   "source": [
    "def sweep(policy_names_and_num_sub_clusters,\n",
    "          all_num_jobs,\n",
    "          num_trials, introduce_skew=False):\n",
    "    all_runtimes = {}\n",
    "    all_effective_throughputs = {}\n",
    "    for num_jobs in all_num_jobs:\n",
    "        all_runtimes[num_jobs] = []\n",
    "        all_effective_throughputs[num_jobs] = []\n",
    "        cluster_spec = {\n",
    "            'v100': max(num_jobs // 4, 1),\n",
    "            'p100': max(num_jobs // 4, 1),\n",
    "            'k80': max(num_jobs // 4, 1),\n",
    "        }\n",
    "        for i in range(num_trials):\n",
    "            throughputs, scale_factors, priority_weights = \\\n",
    "                create_problem_instance(num_jobs, cluster_spec,\n",
    "                                        policy_names_and_num_sub_clusters[0][0], seed=i,\n",
    "                                        introduce_skew=introduce_skew)\n",
    "            all_runtimes[num_jobs].append([])\n",
    "            allocations = []\n",
    "            for (policy_name, num_sub_clusters) in policy_names_and_num_sub_clusters:\n",
    "                policy = utils.get_policy(policy_name, solver='ECOS')\n",
    "                allocation, runtime = harness(\n",
    "                    policy, throughputs,\n",
    "                    scale_factors,\n",
    "                    priority_weights,\n",
    "                    cluster_spec,\n",
    "                    num_sub_clusters=num_sub_clusters)\n",
    "                all_runtimes[num_jobs][-1].append(runtime)\n",
    "                allocations.append(allocation)\n",
    "\n",
    "            all_effective_throughputs[num_jobs].append([])\n",
    "            for allocation in allocations:\n",
    "                effective_throughputs = {}\n",
    "                for job_id in allocation:\n",
    "                    for single_job_id in job_id.singletons():\n",
    "                        if single_job_id not in effective_throughputs:\n",
    "                            effective_throughputs[single_job_id] = 0.0\n",
    "                    for worker_type in allocation[job_id]:\n",
    "                        if job_id.is_pair():\n",
    "                            for i, single_job_id in enumerate(job_id.singletons()):\n",
    "                                effective_throughputs[single_job_id] += (\n",
    "                                   allocation[job_id][worker_type] *\n",
    "                                   throughputs[job_id][worker_type][i]\n",
    "                                )\n",
    "                        else:\n",
    "                            effective_throughputs[job_id] += (\n",
    "                                allocation[job_id][worker_type] *\n",
    "                                throughputs[job_id][worker_type])\n",
    "                all_effective_throughputs[num_jobs][-1].append(effective_throughputs)\n",
    "    return all_runtimes, all_effective_throughputs"
   ]
  },
  {
   "cell_type": "markdown",
   "metadata": {},
   "source": [
    "## Effective throughputs and runtimes"
   ]
  },
  {
   "cell_type": "code",
   "execution_count": 5,
   "metadata": {},
   "outputs": [],
   "source": [
    "def get_runtimes_and_effective_throughputs(policy_name, all_num_sub_clusters,\n",
    "                                           num_jobs, introduce_skew=False):\n",
    "    policy_names_and_num_sub_clusters = [\n",
    "        (policy_name, num_sub_clusters)\n",
    "        for num_sub_clusters in all_num_sub_clusters\n",
    "    ]\n",
    "    if not introduce_skew:\n",
    "        policy_names_and_num_sub_clusters.append(\n",
    "            ('gandiva', 1))\n",
    "    all_runtimes, all_effective_throughputs = sweep(\n",
    "        policy_names_and_num_sub_clusters, [num_jobs],\n",
    "        num_trials=1, introduce_skew=introduce_skew)\n",
    "    runtimes = all_runtimes[num_jobs][0]\n",
    "    all_effective_throughputs = all_effective_throughputs[num_jobs][0]\n",
    "    return runtimes, all_effective_throughputs"
   ]
  },
  {
   "cell_type": "code",
   "execution_count": 6,
   "metadata": {},
   "outputs": [
    {
     "name": "stderr",
     "output_type": "stream",
     "text": [
      "/lfs/1/keshav2/miniconda3/lib/python3.7/site-packages/cvxpy/problems/problem.py:1055: UserWarning: Solution may be inaccurate. Try another solver, adjusting the solver settings, or solve with verbose=True for more information.\n",
      "  \"Solution may be inaccurate. Try another solver, \"\n"
     ]
    },
    {
     "name": "stdout",
     "output_type": "stream",
     "text": [
      "WARNING: Allocation returned by policy not optimal!\n"
     ]
    },
    {
     "data": {
      "image/png": "[encoded data removed]",
      "text/plain": [
       "<Figure size 468x216 with 1 Axes>"
      ]
     },
     "metadata": {},
     "output_type": "display_data"
    }
   ],
   "source": [
    "labels = ['Vanilla', 'MB (2)', 'MB (4)', 'MB (8)', 'Gandiva']\n",
    "all_num_sub_clusters = [1, 2, 4, 8]\n",
    "runtimes, all_effective_throughputs = \\\n",
    "    get_runtimes_and_effective_throughputs('max_min_fairness_packed',\n",
    "                                           all_num_sub_clusters,\n",
    "                                           256)\n",
    "plot_runtime_vs_effective_throughput_ratios(\n",
    "    runtimes, all_effective_throughputs, labels,\n",
    "    output_filename=\"effective_throughput_ratio_and_runtimes/num_jobs=256.pdf\")"
   ]
  },
  {
   "cell_type": "code",
   "execution_count": 7,
   "metadata": {},
   "outputs": [
    {
     "name": "stderr",
     "output_type": "stream",
     "text": [
      "/lfs/1/keshav2/miniconda3/lib/python3.7/site-packages/cvxpy/problems/problem.py:1055: UserWarning: Solution may be inaccurate. Try another solver, adjusting the solver settings, or solve with verbose=True for more information.\n",
      "  \"Solution may be inaccurate. Try another solver, \"\n"
     ]
    },
    {
     "name": "stdout",
     "output_type": "stream",
     "text": [
      "WARNING: Allocation returned by policy not optimal!\n"
     ]
    },
    {
     "data": {
      "image/png": "[encoded data removed]",
      "text/plain": [
       "<Figure size 468x216 with 1 Axes>"
      ]
     },
     "metadata": {},
     "output_type": "display_data"
    }
   ],
   "source": [
    "labels = ['Vanilla', 'MB (2)', 'MB (4)', 'MB (8)', 'Gandiva']\n",
    "all_num_sub_clusters = [1, 2, 4, 8]\n",
    "runtimes, all_effective_throughputs = \\\n",
    "    get_runtimes_and_effective_throughputs('max_min_fairness_packed',\n",
    "                                           all_num_sub_clusters,\n",
    "                                           256,\n",
    "                                           introduce_skew=True)\n",
    "plot_runtime_vs_effective_throughput_ratios(\n",
    "    runtimes, all_effective_throughputs, labels,\n",
    "    output_filename=\"effective_throughput_ratio_and_runtimes/skewed_num_jobs=256.pdf\")"
   ]
  },
  {
   "cell_type": "code",
   "execution_count": 8,
   "metadata": {},
   "outputs": [
    {
     "name": "stderr",
     "output_type": "stream",
     "text": [
      "/lfs/1/keshav2/miniconda3/lib/python3.7/site-packages/cvxpy/problems/problem.py:1055: UserWarning: Solution may be inaccurate. Try another solver, adjusting the solver settings, or solve with verbose=True for more information.\n",
      "  \"Solution may be inaccurate. Try another solver, \"\n"
     ]
    },
    {
     "name": "stdout",
     "output_type": "stream",
     "text": [
      "WARNING: Allocation returned by policy not optimal!\n",
      "WARNING: Allocation returned by policy not optimal!\n"
     ]
    },
    {
     "data": {
      "image/png": "[encoded data removed]",
      "text/plain": [
       "<Figure size 468x216 with 1 Axes>"
      ]
     },
     "metadata": {},
     "output_type": "display_data"
    }
   ],
   "source": [
    "labels = ['Vanilla', 'MB (2)', 'MB (4)', 'MB (8)', 'Gandiva']\n",
    "all_num_sub_clusters = [1, 2, 4, 8]\n",
    "runtimes, all_effective_throughputs = \\\n",
    "    get_runtimes_and_effective_throughputs('max_min_fairness_packed',\n",
    "                                           all_num_sub_clusters,\n",
    "                                           512)\n",
    "plot_runtime_vs_effective_throughput_ratios(\n",
    "    runtimes, all_effective_throughputs, labels,\n",
    "    output_filename=\"effective_throughput_ratio_and_runtimes/num_jobs=512.pdf\")"
   ]
  },
  {
   "cell_type": "code",
   "execution_count": 9,
   "metadata": {},
   "outputs": [
    {
     "name": "stderr",
     "output_type": "stream",
     "text": [
      "/lfs/1/keshav2/miniconda3/lib/python3.7/site-packages/cvxpy/problems/problem.py:1055: UserWarning: Solution may be inaccurate. Try another solver, adjusting the solver settings, or solve with verbose=True for more information.\n",
      "  \"Solution may be inaccurate. Try another solver, \"\n"
     ]
    },
    {
     "name": "stdout",
     "output_type": "stream",
     "text": [
      "WARNING: Allocation returned by policy not optimal!\n",
      "WARNING: Allocation returned by policy not optimal!\n"
     ]
    },
    {
     "data": {
      "image/png": "[encoded data removed]",
      "text/plain": [
       "<Figure size 468x216 with 1 Axes>"
      ]
     },
     "metadata": {},
     "output_type": "display_data"
    }
   ],
   "source": [
    "labels = ['Vanilla', 'MB (2)', 'MB (4)', 'MB (8)', 'Gandiva']\n",
    "all_num_sub_clusters = [1, 2, 4, 8]\n",
    "runtimes, all_effective_throughputs = \\\n",
    "    get_runtimes_and_effective_throughputs('max_min_fairness_packed',\n",
    "                                           all_num_sub_clusters,\n",
    "                                           512,\n",
    "                                           introduce_skew=True)\n",
    "plot_runtime_vs_effective_throughput_ratios(\n",
    "    runtimes, all_effective_throughputs, labels,\n",
    "    output_filename=\"effective_throughput_ratio_and_runtimes/skewed_num_jobs=512.pdf\")"
   ]
  },
  {
   "cell_type": "markdown",
   "metadata": {},
   "source": [
    "## Runtimes"
   ]
  },
  {
   "cell_type": "code",
   "execution_count": null,
   "metadata": {},
   "outputs": [],
   "source": [
    "def get_runtimes(policy_name, all_num_jobs, introduce_skew=False):\n",
    "    data = {\n",
    "        'policy': [],\n",
    "        'num_jobs': [],\n",
    "        'runtimes': []\n",
    "    }\n",
    "    all_num_sub_clusters = [1, 4, 16]\n",
    "    policy_names_and_num_sub_clusters = [\n",
    "        (policy_name, num_sub_clusters)\n",
    "        for num_sub_clusters in all_num_sub_clusters\n",
    "    ]\n",
    "    policy_labels = ['Vanilla', '4 sub-clusters', '16 sub-clusters']\n",
    "    all_runtimes, _ = sweep(policy_names_and_num_sub_clusters,\n",
    "                            all_num_jobs,\n",
    "                            num_trials=1,\n",
    "                            introduce_skew=introduce_skew)\n",
    "    for num_jobs in all_runtimes:\n",
    "        for i in range(len(all_runtimes[num_jobs])):\n",
    "            for (policy_label, runtime) in zip(\n",
    "                policy_labels, all_runtimes[num_jobs][i]):\n",
    "                data['policy'].append(policy_label)\n",
    "                data['num_jobs'].append(num_jobs)\n",
    "                data['runtimes'].append(runtime)\n",
    "    return data"
   ]
  },
  {
   "cell_type": "code",
   "execution_count": null,
   "metadata": {
    "scrolled": false
   },
   "outputs": [],
   "source": [
    "all_num_jobs = [64, 128, 256, 512, 1024, 2048,\n",
    "                4096, 8192, 16384, 32768]\n",
    "xticks = [64, 512, 4096, 32768]\n",
    "yticks = [2**-8, 2**-5, 2**-2, 2**1, 2**4, 2**7]\n",
    "yticklabels = [0.004, 0.031, 0.25, 2, 16, 128]\n",
    "plot_runtimes(get_runtimes('max_min_fairness_perf',\n",
    "                           all_num_jobs=all_num_jobs,\n",
    "                           introduce_skew=False),\n",
    "              xticks=xticks, yticks=yticks,\n",
    "              yticklabels=yticklabels,\n",
    "              output_filename=\"runtimes/max_min_fairness_perf.pdf\")\n",
    "plot_runtimes(get_runtimes('max_min_fairness_perf',\n",
    "                           all_num_jobs=all_num_jobs,\n",
    "                           introduce_skew=True),\n",
    "              xticks=xticks, yticks=yticks,\n",
    "              yticklabels=yticklabels)"
   ]
  },
  {
   "cell_type": "code",
   "execution_count": null,
   "metadata": {},
   "outputs": [],
   "source": [
    "# TODO: Increase to 1024.\n",
    "all_num_jobs=[64, 128, 256, 512]\n",
    "xticks = [64, 128, 256, 512]\n",
    "yticks = [2**-5, 2**-2, 2**1, 2**4, 2**7]\n",
    "yticklabels = [0.031, 0.25, 2, 16, 128]\n",
    "plot_runtimes(get_runtimes('max_min_fairness_packed',\n",
    "                           all_num_jobs=all_num_jobs,\n",
    "                           introduce_skew=False),\n",
    "              xticks=xticks, yticks=yticks,\n",
    "              yticklabels=yticklabels,\n",
    "              output_filename=\"runtimes/max_min_fairness_packed.pdf\")\n",
    "plot_runtimes(get_runtimes('max_min_fairness_packed',\n",
    "                           all_num_jobs=all_num_jobs,\n",
    "                           introduce_skew=True),\n",
    "              xticks=xticks, yticks=yticks,\n",
    "              yticklabels=yticklabels)"
   ]
  },
  {
   "cell_type": "markdown",
   "metadata": {},
   "source": [
    "## Effective throughput ratios"
   ]
  },
  {
   "cell_type": "code",
   "execution_count": null,
   "metadata": {},
   "outputs": [],
   "source": [
    "def get_effective_throughput_ratios(policy_name, num_jobs, introduce_skew=False,\n",
    "                                    random_cluster_assignment=False):\n",
    "    random.seed(42)\n",
    "    all_num_sub_clusters = [1, 4, 16]\n",
    "    policy_names_and_num_sub_clusters = [\n",
    "        (policy_name, num_sub_clusters)\n",
    "        for num_sub_clusters in all_num_sub_clusters\n",
    "    ]\n",
    "    _, all_effective_throughputs = sweep(\n",
    "        policy_names_and_num_sub_clusters,\n",
    "        [num_jobs],\n",
    "        num_trials=1,\n",
    "        introduce_skew=introduce_skew)\n",
    "    return all_effective_throughputs[num_jobs][0]"
   ]
  },
  {
   "cell_type": "code",
   "execution_count": null,
   "metadata": {},
   "outputs": [],
   "source": [
    "print(\"No skew\")\n",
    "plot_effective_throughput_ratios(\n",
    "    get_effective_throughput_ratios(\n",
    "        'max_min_fairness_perf', 64),\n",
    "    output_filename=\"effective_throughput_ratios/max_min_fairness_perf.pdf\")\n",
    "plot_effective_throughput_ratios(\n",
    "    get_effective_throughput_ratios(\n",
    "        'max_min_fairness_perf', 64),\n",
    "    cdf=True,\n",
    "    output_filename=\"effective_throughput_ratios/max_min_fairness_perf_cdf.pdf\")\n",
    "print(\"Skew and round-robin placement\")\n",
    "plot_effective_throughput_ratios(\n",
    "    get_effective_throughput_ratios(\n",
    "        'max_min_fairness_perf', 64,\n",
    "        introduce_skew=True),\n",
    "    output_filename=\"effective_throughput_ratios/max_min_fairness_perf_skewed.pdf\")\n",
    "plot_effective_throughput_ratios(\n",
    "    get_effective_throughput_ratios('max_min_fairness_perf', 64,\n",
    "                                    introduce_skew=True),\n",
    "    cdf=True,\n",
    "    output_filename=\"effective_throughput_ratios/max_min_fairness_perf_skewed_cdf.pdf\")\n",
    "print(\"Skew and random placement\")\n",
    "plot_effective_throughput_ratios(\n",
    "    get_effective_throughput_ratios('max_min_fairness_perf', 64,\n",
    "                                    introduce_skew=True,\n",
    "                                    random_cluster_assignment=True),\n",
    "    output_filename=\"effective_throughput_ratios/max_min_fairness_perf_skewed_random.pdf\")\n",
    "plot_effective_throughput_ratios(\n",
    "    get_effective_throughput_ratios('max_min_fairness_perf', 64,\n",
    "                                    introduce_skew=True,\n",
    "                                    random_cluster_assignment=True),\n",
    "    cdf=True,\n",
    "    output_filename=\"effective_throughput_ratios/max_min_fairness_perf_skewed_random_cdf.pdf\")"
   ]
  },
  {
   "cell_type": "code",
   "execution_count": null,
   "metadata": {},
   "outputs": [],
   "source": [
    "print(\"No skew\")\n",
    "plot_effective_throughput_ratios(\n",
    "    get_effective_throughput_ratios(\n",
    "        'max_min_fairness_packed', 64),\n",
    "    output_filename=\"effective_throughput_ratios/max_min_fairness_packed.pdf\")\n",
    "plot_effective_throughput_ratios(\n",
    "    get_effective_throughput_ratios(\n",
    "        'max_min_fairness_packed', 64),\n",
    "    cdf=True,\n",
    "    output_filename=\"effective_throughput_ratios/max_min_fairness_packed_cdf.pdf\")\n",
    "print(\"Skew and round-robin placement\")\n",
    "plot_effective_throughput_ratios(\n",
    "    get_effective_throughput_ratios(\n",
    "        'max_min_fairness_packed', 64,\n",
    "    introduce_skew=True),\n",
    "    output_filename=\"effective_throughput_ratios/max_min_fairness_packed_skewed.pdf\")\n",
    "plot_effective_throughput_ratios(\n",
    "    get_effective_throughput_ratios(\n",
    "        'max_min_fairness_packed', 64,\n",
    "        introduce_skew=True),\n",
    "    cdf=True,\n",
    "    output_filename=\"effective_throughput_ratios/max_min_fairness_packed_skewed_cdf.pdf\")\n",
    "print(\"Skew and random placement\")\n",
    "plot_effective_throughput_ratios(\n",
    "    get_effective_throughput_ratios(\n",
    "        'max_min_fairness_packed', 64,\n",
    "         introduce_skew=True,\n",
    "    random_cluster_assignment=True),\n",
    "    output_filename=\"effective_throughput_ratios/max_min_fairness_packed_skewed_random.pdf\")\n",
    "plot_effective_throughput_ratios(\n",
    "    get_effective_throughput_ratios(\n",
    "        'max_min_fairness_packed', 64,\n",
    "        introduce_skew=True,\n",
    "        random_cluster_assignment=True),\n",
    "    cdf=True,\n",
    "    output_filename=\"effective_throughput_ratios/max_min_fairness_packed_skewed_random_cdf.pdf\")"
   ]
  }
 ],
 "metadata": {
  "kernelspec": {
   "display_name": "Python 3",
   "language": "python",
   "name": "python3"
  },
  "language_info": {
   "codemirror_mode": {
    "name": "ipython",
    "version": 3
   },
   "file_extension": ".py",
   "mimetype": "text/x-python",
   "name": "python",
   "nbconvert_exporter": "python",
   "pygments_lexer": "ipython3",
   "version": "3.7.3"
  }
 },
 "nbformat": 4,
 "nbformat_minor": 4
}
